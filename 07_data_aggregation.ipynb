{
 "cells": [
  {
   "cell_type": "markdown",
   "metadata": {},
   "source": [
    "# 파트 07\n",
    "----\n",
    "앞부분의 전처리 된 파일들을 마지막으로 하나로 합쳐서 출력한다. 이 파트에서도 자잘한 추가적인 전처리가 이루어진다."
   ]
  },
  {
   "cell_type": "code",
   "execution_count": 14,
   "metadata": {
    "collapsed": true
   },
   "outputs": [],
   "source": [
    "%matplotlib inline\n",
    "import re\n",
    "from __future__ import division\n",
    "from __future__ import print_function"
   ]
  },
  {
   "cell_type": "code",
   "execution_count": 15,
   "metadata": {
    "collapsed": true
   },
   "outputs": [],
   "source": [
    "# setting the folder path and read in data\n",
    "path = 'raw_data\\\\'\n",
    "df_pop = pd.read_csv(path + '06_pop_export.csv', encoding='utf-8')\n",
    "df_estate = pd.read_csv(path + '06_estate_export.csv', encoding='utf-8')"
   ]
  },
  {
   "cell_type": "code",
   "execution_count": null,
   "metadata": {
    "collapsed": true
   },
   "outputs": [],
   "source": []
  },
  {
   "cell_type": "code",
   "execution_count": 16,
   "metadata": {
    "collapsed": true
   },
   "outputs": [],
   "source": [
    "# create new columns for price per area and log(price per area)\n",
    "df_estate['ppa'] = df_estate.price / df_estate.area"
   ]
  },
  {
   "cell_type": "code",
   "execution_count": 17,
   "metadata": {
    "collapsed": true
   },
   "outputs": [],
   "source": [
    "df_estate['ppa_mean'] = np.nan\n",
    "df_estate['ppa_median'] = np.nan\n",
    "df_estate['trade_vol'] = 0"
   ]
  },
  {
   "cell_type": "code",
   "execution_count": 18,
   "metadata": {
    "collapsed": true
   },
   "outputs": [],
   "source": [
    "# custom aggregate functions the real estate data\n",
    "def ppa_mean_agg(series):\n",
    "    return df_estate.loc[series.index, 'ppa'].mean()\n",
    "\n",
    "def ppa_median_agg(series):\n",
    "    return df_estate.loc[series.index, 'ppa'].median()   \n",
    "\n",
    "estate_agg_func_dic = {\n",
    "    'built': 'mean',\n",
    "    'ppa_mean': ppa_mean_agg,\n",
    "    'ppa_median': ppa_median_agg,\n",
    "    'trade_vol': 'count',\n",
    "}"
   ]
  },
  {
   "cell_type": "code",
   "execution_count": 20,
   "metadata": {
    "collapsed": true
   },
   "outputs": [],
   "source": [
    "df_estate_agg_year = df_estate.groupby(['year', 'area_code']).agg(estate_agg_func_dic)\n",
    "df_estate_agg_month = df_estate.groupby(['year', 'month', 'area_code']).agg(estate_agg_func_dic)"
   ]
  },
  {
   "cell_type": "code",
   "execution_count": 21,
   "metadata": {
    "collapsed": true
   },
   "outputs": [],
   "source": [
    "df_estate_agg_year['ppa_median_log'] = np.log(df_estate_agg_year.ppa_median)\n",
    "df_estate_agg_month['ppa_median_log'] = np.log(df_estate_agg_month.ppa_median)"
   ]
  },
  {
   "cell_type": "code",
   "execution_count": 22,
   "metadata": {
    "collapsed": true
   },
   "outputs": [],
   "source": [
    "df_estate_agg_year['ppa_change_pre']  = np.nan\n",
    "df_estate_agg_year['ppa_change_post']  = np.nan"
   ]
  },
  {
   "cell_type": "code",
   "execution_count": 23,
   "metadata": {
    "collapsed": false
   },
   "outputs": [],
   "source": [
    "for i in df_estate_agg_year.index.levels[0][:-1]:\n",
    "    df_estate_agg_year.loc[i].ppa_change_pre = \\\n",
    "        df_estate_agg_year.loc[i + 1, 'ppa_median'] / df_estate_agg_year.loc[i, 'ppa_median']\n",
    "    df_estate_agg_year.loc[i + 1].ppa_change_post = \\\n",
    "        df_estate_agg_year.loc[i + 1, 'ppa_median'] / df_estate_agg_year.loc[i, 'ppa_median']"
   ]
  },
  {
   "cell_type": "code",
   "execution_count": 27,
   "metadata": {
    "collapsed": false
   },
   "outputs": [
    {
     "data": {
      "text/html": [
       "<div>\n",
       "<table border=\"1\" class=\"dataframe\">\n",
       "  <thead>\n",
       "    <tr style=\"text-align: right;\">\n",
       "      <th></th>\n",
       "      <th>year</th>\n",
       "      <th>month</th>\n",
       "      <th>area_code</th>\n",
       "      <th>move_in</th>\n",
       "      <th>foreign</th>\n",
       "      <th>reason</th>\n",
       "      <th>house_total</th>\n",
       "      <th>head</th>\n",
       "      <th>head_male</th>\n",
       "      <th>head_age</th>\n",
       "      <th>multi</th>\n",
       "      <th>moved_ppl</th>\n",
       "      <th>moved_male</th>\n",
       "    </tr>\n",
       "  </thead>\n",
       "  <tbody>\n",
       "    <tr>\n",
       "      <th>423</th>\n",
       "      <td>2006</td>\n",
       "      <td>1</td>\n",
       "      <td>26260</td>\n",
       "      <td>1</td>\n",
       "      <td>1</td>\n",
       "      <td>-1</td>\n",
       "      <td>1</td>\n",
       "      <td>1</td>\n",
       "      <td>0</td>\n",
       "      <td>52.0</td>\n",
       "      <td>1</td>\n",
       "      <td>2</td>\n",
       "      <td>0</td>\n",
       "    </tr>\n",
       "    <tr>\n",
       "      <th>571</th>\n",
       "      <td>2006</td>\n",
       "      <td>1</td>\n",
       "      <td>27110</td>\n",
       "      <td>1</td>\n",
       "      <td>1</td>\n",
       "      <td>-1</td>\n",
       "      <td>2</td>\n",
       "      <td>2</td>\n",
       "      <td>0</td>\n",
       "      <td>36.0</td>\n",
       "      <td>0</td>\n",
       "      <td>2</td>\n",
       "      <td>0</td>\n",
       "    </tr>\n",
       "    <tr>\n",
       "      <th>962</th>\n",
       "      <td>2006</td>\n",
       "      <td>1</td>\n",
       "      <td>31140</td>\n",
       "      <td>1</td>\n",
       "      <td>0</td>\n",
       "      <td>-1</td>\n",
       "      <td>1</td>\n",
       "      <td>1</td>\n",
       "      <td>1</td>\n",
       "      <td>44.0</td>\n",
       "      <td>1</td>\n",
       "      <td>2</td>\n",
       "      <td>1</td>\n",
       "    </tr>\n",
       "    <tr>\n",
       "      <th>970</th>\n",
       "      <td>2006</td>\n",
       "      <td>1</td>\n",
       "      <td>31140</td>\n",
       "      <td>1</td>\n",
       "      <td>1</td>\n",
       "      <td>-1</td>\n",
       "      <td>2</td>\n",
       "      <td>0</td>\n",
       "      <td>0</td>\n",
       "      <td>-1.0</td>\n",
       "      <td>1</td>\n",
       "      <td>5</td>\n",
       "      <td>0</td>\n",
       "    </tr>\n",
       "    <tr>\n",
       "      <th>1323</th>\n",
       "      <td>2006</td>\n",
       "      <td>1</td>\n",
       "      <td>41310</td>\n",
       "      <td>1</td>\n",
       "      <td>1</td>\n",
       "      <td>-1</td>\n",
       "      <td>1</td>\n",
       "      <td>1</td>\n",
       "      <td>1</td>\n",
       "      <td>39.0</td>\n",
       "      <td>1</td>\n",
       "      <td>4</td>\n",
       "      <td>2</td>\n",
       "    </tr>\n",
       "  </tbody>\n",
       "</table>\n",
       "</div>"
      ],
      "text/plain": [
       "      year  month  area_code  move_in  foreign  reason  house_total  head  \\\n",
       "423   2006      1      26260        1        1      -1            1     1   \n",
       "571   2006      1      27110        1        1      -1            2     2   \n",
       "962   2006      1      31140        1        0      -1            1     1   \n",
       "970   2006      1      31140        1        1      -1            2     0   \n",
       "1323  2006      1      41310        1        1      -1            1     1   \n",
       "\n",
       "      head_male  head_age  multi  moved_ppl  moved_male  \n",
       "423           0      52.0      1          2           0  \n",
       "571           0      36.0      0          2           0  \n",
       "962           1      44.0      1          2           1  \n",
       "970           0      -1.0      1          5           0  \n",
       "1323          1      39.0      1          4           2  "
      ]
     },
     "execution_count": 27,
     "metadata": {},
     "output_type": "execute_result"
    }
   ],
   "source": [
    "# just another sanity check sanity check\n",
    "df_pop.loc[df_pop.reason == -1].head()"
   ]
  },
  {
   "cell_type": "code",
   "execution_count": 28,
   "metadata": {
    "collapsed": true
   },
   "outputs": [],
   "source": [
    "# remove entries with missing values\n",
    "df_pop = df_pop.loc[df_pop.reason != -1]"
   ]
  },
  {
   "cell_type": "code",
   "execution_count": null,
   "metadata": {
    "collapsed": true
   },
   "outputs": [],
   "source": []
  },
  {
   "cell_type": "code",
   "execution_count": 29,
   "metadata": {
    "collapsed": true
   },
   "outputs": [],
   "source": [
    "# turning categorical values into binary vectors\n",
    "df_r = pd.get_dummies(df_pop.reason, prefix='r')\n",
    "df_pop = pd.concat([df_pop, df_r], axis=1).drop('reason', axis=1)"
   ]
  },
  {
   "cell_type": "code",
   "execution_count": 30,
   "metadata": {
    "collapsed": false
   },
   "outputs": [
    {
     "data": {
      "text/html": [
       "<div>\n",
       "<table border=\"1\" class=\"dataframe\">\n",
       "  <thead>\n",
       "    <tr style=\"text-align: right;\">\n",
       "      <th></th>\n",
       "      <th>year</th>\n",
       "      <th>month</th>\n",
       "      <th>area_code</th>\n",
       "      <th>move_in</th>\n",
       "      <th>foreign</th>\n",
       "      <th>house_total</th>\n",
       "      <th>head</th>\n",
       "      <th>head_male</th>\n",
       "      <th>head_age</th>\n",
       "      <th>multi</th>\n",
       "      <th>moved_ppl</th>\n",
       "      <th>moved_male</th>\n",
       "      <th>r_1</th>\n",
       "      <th>r_2</th>\n",
       "      <th>r_3</th>\n",
       "      <th>r_4</th>\n",
       "      <th>r_5</th>\n",
       "      <th>r_6</th>\n",
       "      <th>r_9</th>\n",
       "    </tr>\n",
       "  </thead>\n",
       "  <tbody>\n",
       "    <tr>\n",
       "      <th>0</th>\n",
       "      <td>2006</td>\n",
       "      <td>1</td>\n",
       "      <td>11110</td>\n",
       "      <td>1</td>\n",
       "      <td>0</td>\n",
       "      <td>309</td>\n",
       "      <td>258</td>\n",
       "      <td>178</td>\n",
       "      <td>42.344961</td>\n",
       "      <td>121</td>\n",
       "      <td>588</td>\n",
       "      <td>326</td>\n",
       "      <td>1</td>\n",
       "      <td>0</td>\n",
       "      <td>0</td>\n",
       "      <td>0</td>\n",
       "      <td>0</td>\n",
       "      <td>0</td>\n",
       "      <td>0</td>\n",
       "    </tr>\n",
       "    <tr>\n",
       "      <th>1</th>\n",
       "      <td>2006</td>\n",
       "      <td>1</td>\n",
       "      <td>11110</td>\n",
       "      <td>1</td>\n",
       "      <td>0</td>\n",
       "      <td>32</td>\n",
       "      <td>8</td>\n",
       "      <td>6</td>\n",
       "      <td>48.500000</td>\n",
       "      <td>8</td>\n",
       "      <td>50</td>\n",
       "      <td>23</td>\n",
       "      <td>0</td>\n",
       "      <td>1</td>\n",
       "      <td>0</td>\n",
       "      <td>0</td>\n",
       "      <td>0</td>\n",
       "      <td>0</td>\n",
       "      <td>0</td>\n",
       "    </tr>\n",
       "    <tr>\n",
       "      <th>2</th>\n",
       "      <td>2006</td>\n",
       "      <td>1</td>\n",
       "      <td>11110</td>\n",
       "      <td>1</td>\n",
       "      <td>0</td>\n",
       "      <td>134</td>\n",
       "      <td>129</td>\n",
       "      <td>87</td>\n",
       "      <td>41.945736</td>\n",
       "      <td>59</td>\n",
       "      <td>264</td>\n",
       "      <td>135</td>\n",
       "      <td>0</td>\n",
       "      <td>0</td>\n",
       "      <td>1</td>\n",
       "      <td>0</td>\n",
       "      <td>0</td>\n",
       "      <td>0</td>\n",
       "      <td>0</td>\n",
       "    </tr>\n",
       "    <tr>\n",
       "      <th>3</th>\n",
       "      <td>2006</td>\n",
       "      <td>1</td>\n",
       "      <td>11110</td>\n",
       "      <td>1</td>\n",
       "      <td>0</td>\n",
       "      <td>12</td>\n",
       "      <td>11</td>\n",
       "      <td>3</td>\n",
       "      <td>38.000000</td>\n",
       "      <td>8</td>\n",
       "      <td>26</td>\n",
       "      <td>8</td>\n",
       "      <td>0</td>\n",
       "      <td>0</td>\n",
       "      <td>0</td>\n",
       "      <td>1</td>\n",
       "      <td>0</td>\n",
       "      <td>0</td>\n",
       "      <td>0</td>\n",
       "    </tr>\n",
       "    <tr>\n",
       "      <th>4</th>\n",
       "      <td>2006</td>\n",
       "      <td>1</td>\n",
       "      <td>11110</td>\n",
       "      <td>1</td>\n",
       "      <td>0</td>\n",
       "      <td>2</td>\n",
       "      <td>2</td>\n",
       "      <td>1</td>\n",
       "      <td>30.500000</td>\n",
       "      <td>0</td>\n",
       "      <td>2</td>\n",
       "      <td>1</td>\n",
       "      <td>0</td>\n",
       "      <td>0</td>\n",
       "      <td>0</td>\n",
       "      <td>0</td>\n",
       "      <td>1</td>\n",
       "      <td>0</td>\n",
       "      <td>0</td>\n",
       "    </tr>\n",
       "  </tbody>\n",
       "</table>\n",
       "</div>"
      ],
      "text/plain": [
       "   year  month  area_code  move_in  foreign  house_total  head  head_male  \\\n",
       "0  2006      1      11110        1        0          309   258        178   \n",
       "1  2006      1      11110        1        0           32     8          6   \n",
       "2  2006      1      11110        1        0          134   129         87   \n",
       "3  2006      1      11110        1        0           12    11          3   \n",
       "4  2006      1      11110        1        0            2     2          1   \n",
       "\n",
       "    head_age  multi  moved_ppl  moved_male  r_1  r_2  r_3  r_4  r_5  r_6  r_9  \n",
       "0  42.344961    121        588         326    1    0    0    0    0    0    0  \n",
       "1  48.500000      8         50          23    0    1    0    0    0    0    0  \n",
       "2  41.945736     59        264         135    0    0    1    0    0    0    0  \n",
       "3  38.000000      8         26           8    0    0    0    1    0    0    0  \n",
       "4  30.500000      0          2           1    0    0    0    0    1    0    0  "
      ]
     },
     "execution_count": 30,
     "metadata": {},
     "output_type": "execute_result"
    }
   ],
   "source": [
    "df_pop.head()"
   ]
  },
  {
   "cell_type": "code",
   "execution_count": 31,
   "metadata": {
    "collapsed": false
   },
   "outputs": [],
   "source": [
    "# getting ready for aggregation\n",
    "df_pop['mov_vol'] = np.nan\n",
    "df_pop['mov_ppl_vol'] = np.nan\n",
    "df_pop['pop_change_ratio'] = np.nan\n",
    "df_pop['head_ratio'] = np.nan\n",
    "df_pop['head_male_ratio'] = np.nan\n",
    "df_pop['ppl_per_house'] = np.nan\n",
    "df_pop['mov_male_ratio'] = np.nan\n",
    "df_pop['multi_ratio'] = np.nan\n",
    "df_pop['sign'] = (-1) ** (df_pop.move_in + 1)"
   ]
  },
  {
   "cell_type": "code",
   "execution_count": 32,
   "metadata": {
    "collapsed": true
   },
   "outputs": [],
   "source": [
    "# custom aggregate functions for the population data\n",
    "def mov_vol_agg(series):\n",
    "    return df_pop.loc[series.index, 'house_total'].sum()\n",
    "\n",
    "def mov_ppl_vol_agg(series):\n",
    "    return df_pop.loc[series.index, 'moved_ppl'].sum()\n",
    "\n",
    "def pop_change_ratio_agg(series):\n",
    "    return ((df_pop.loc[series.index, 'moved_ppl'] * df_pop.loc[series.index, 'sign']).sum() /\n",
    "             df_pop.loc[series.index, 'moved_ppl'].sum())\n",
    "\n",
    "def head_ratio_agg(series):\n",
    "    return df_pop.loc[series.index, 'head'].sum() / df_pop.loc[series.index, 'house_total'].sum()\n",
    "\n",
    "def head_male_ratio_agg(series):\n",
    "    return df_pop.loc[series.index, 'head_male'].sum() / df_pop.loc[series.index, 'head'].sum()\n",
    "\n",
    "def ppl_per_house_agg(series):\n",
    "    return df_pop.loc[series.index, 'moved_ppl'].sum() / df_pop.loc[series.index, 'house_total'].sum()\n",
    "\n",
    "def mov_male_ratio_agg(series):\n",
    "    return df_pop.loc[series.index, 'moved_male'].sum() / df_pop.loc[series.index, 'moved_ppl'].sum()\n",
    "\n",
    "def head_age_agg(series):\n",
    "    return ((df_pop.loc[series.index, 'head_age'] * df_pop.loc[series.index, 'head']).sum() /\n",
    "             df_pop.loc[series.index, 'head'].sum())\n",
    "\n",
    "def reason_ratio_agg(series):\n",
    "    return ((series * df_pop.loc[series.index, 'house_total'] * df_pop.loc[series.index, 'sign']).sum() /\n",
    "             df_pop.loc[series.index, 'house_total'].sum())\n",
    "\n",
    "def multi_ratio_agg(series):\n",
    "    return df_pop.loc[series.index, 'multi'].sum() / df_pop.loc[series.index, 'house_total'].sum()\n",
    "\n",
    "pop_agg_func_dic = {\n",
    "    'mov_vol': mov_vol_agg,\n",
    "    'mov_ppl_vol': mov_ppl_vol_agg,\n",
    "    'pop_change_ratio': pop_change_ratio_agg,\n",
    "    'head_ratio': head_ratio_agg,\n",
    "    'head_male_ratio': head_male_ratio_agg,\n",
    "    'ppl_per_house': ppl_per_house_agg,\n",
    "    'mov_male_ratio': mov_male_ratio_agg,\n",
    "    'multi_ratio': multi_ratio_agg,\n",
    "    'head_age': head_age_agg,\n",
    "    'r_1': reason_ratio_agg,\n",
    "    'r_2': reason_ratio_agg,\n",
    "    'r_3': reason_ratio_agg,\n",
    "    'r_4': reason_ratio_agg,\n",
    "    'r_5': reason_ratio_agg,\n",
    "    'r_6': reason_ratio_agg,\n",
    "    'r_9': reason_ratio_agg,\n",
    "}"
   ]
  },
  {
   "cell_type": "code",
   "execution_count": 34,
   "metadata": {
    "collapsed": false
   },
   "outputs": [],
   "source": [
    "# group things accordingly and aggregate the data using custom aggregate functions\n",
    "df_pop_agg_year = df_pop.groupby(['year', 'area_code']).agg(pop_agg_func_dic)\n",
    "df_pop_agg_month = df_pop.groupby(['year', 'month', 'area_code']).agg(pop_agg_func_dic)"
   ]
  },
  {
   "cell_type": "code",
   "execution_count": null,
   "metadata": {
    "collapsed": true
   },
   "outputs": [],
   "source": []
  },
  {
   "cell_type": "code",
   "execution_count": 35,
   "metadata": {
    "collapsed": true
   },
   "outputs": [],
   "source": [
    "# combine the population data and the real estate data into one\n",
    "df_year = pd.concat([df_pop_agg_year, df_estate_agg_year], axis=1)\n",
    "df_month = pd.concat([df_pop_agg_month, df_estate_agg_month], axis=1)"
   ]
  },
  {
   "cell_type": "code",
   "execution_count": 36,
   "metadata": {
    "collapsed": false
   },
   "outputs": [],
   "source": [
    "df_year.reset_index(inplace=True)\n",
    "df_month.reset_index(inplace=True)"
   ]
  },
  {
   "cell_type": "code",
   "execution_count": 37,
   "metadata": {
    "collapsed": false
   },
   "outputs": [
    {
     "data": {
      "text/html": [
       "<div>\n",
       "<table border=\"1\" class=\"dataframe\">\n",
       "  <thead>\n",
       "    <tr style=\"text-align: right;\">\n",
       "      <th></th>\n",
       "      <th>year</th>\n",
       "      <th>area_code</th>\n",
       "      <th>mov_male_ratio</th>\n",
       "      <th>r_9</th>\n",
       "      <th>pop_change_ratio</th>\n",
       "      <th>multi_ratio</th>\n",
       "      <th>r_2</th>\n",
       "      <th>r_3</th>\n",
       "      <th>head_ratio</th>\n",
       "      <th>r_4</th>\n",
       "      <th>...</th>\n",
       "      <th>mov_vol</th>\n",
       "      <th>head_male_ratio</th>\n",
       "      <th>ppl_per_house</th>\n",
       "      <th>ppa_median</th>\n",
       "      <th>built</th>\n",
       "      <th>trade_vol</th>\n",
       "      <th>ppa_mean</th>\n",
       "      <th>ppa_median_log</th>\n",
       "      <th>ppa_change_pre</th>\n",
       "      <th>ppa_change_post</th>\n",
       "    </tr>\n",
       "  </thead>\n",
       "  <tbody>\n",
       "    <tr>\n",
       "      <th>184</th>\n",
       "      <td>2006</td>\n",
       "      <td>46910</td>\n",
       "      <td>0.541290</td>\n",
       "      <td>0.053191</td>\n",
       "      <td>0.030520</td>\n",
       "      <td>0.202827</td>\n",
       "      <td>0.057152</td>\n",
       "      <td>-0.024150</td>\n",
       "      <td>0.543951</td>\n",
       "      <td>-0.007532</td>\n",
       "      <td>...</td>\n",
       "      <td>12878.0</td>\n",
       "      <td>0.679515</td>\n",
       "      <td>1.366284</td>\n",
       "      <td>NaN</td>\n",
       "      <td>NaN</td>\n",
       "      <td>NaN</td>\n",
       "      <td>NaN</td>\n",
       "      <td>NaN</td>\n",
       "      <td>NaN</td>\n",
       "      <td>NaN</td>\n",
       "    </tr>\n",
       "    <tr>\n",
       "      <th>412</th>\n",
       "      <td>2007</td>\n",
       "      <td>46910</td>\n",
       "      <td>0.530417</td>\n",
       "      <td>0.052828</td>\n",
       "      <td>-0.031313</td>\n",
       "      <td>0.197456</td>\n",
       "      <td>0.049587</td>\n",
       "      <td>-0.019446</td>\n",
       "      <td>0.528358</td>\n",
       "      <td>-0.004780</td>\n",
       "      <td>...</td>\n",
       "      <td>12342.0</td>\n",
       "      <td>0.666769</td>\n",
       "      <td>1.355858</td>\n",
       "      <td>NaN</td>\n",
       "      <td>NaN</td>\n",
       "      <td>NaN</td>\n",
       "      <td>NaN</td>\n",
       "      <td>NaN</td>\n",
       "      <td>NaN</td>\n",
       "      <td>NaN</td>\n",
       "    </tr>\n",
       "    <tr>\n",
       "      <th>1324</th>\n",
       "      <td>2011</td>\n",
       "      <td>46910</td>\n",
       "      <td>0.560958</td>\n",
       "      <td>-0.023491</td>\n",
       "      <td>-0.056798</td>\n",
       "      <td>0.188022</td>\n",
       "      <td>-0.008639</td>\n",
       "      <td>-0.052320</td>\n",
       "      <td>0.563580</td>\n",
       "      <td>-0.016113</td>\n",
       "      <td>...</td>\n",
       "      <td>10302.0</td>\n",
       "      <td>0.675680</td>\n",
       "      <td>1.341584</td>\n",
       "      <td>NaN</td>\n",
       "      <td>NaN</td>\n",
       "      <td>NaN</td>\n",
       "      <td>NaN</td>\n",
       "      <td>NaN</td>\n",
       "      <td>NaN</td>\n",
       "      <td>NaN</td>\n",
       "    </tr>\n",
       "    <tr>\n",
       "      <th>1780</th>\n",
       "      <td>2013</td>\n",
       "      <td>46910</td>\n",
       "      <td>0.558573</td>\n",
       "      <td>0.005786</td>\n",
       "      <td>0.039192</td>\n",
       "      <td>0.193539</td>\n",
       "      <td>0.005111</td>\n",
       "      <td>-0.032112</td>\n",
       "      <td>0.565477</td>\n",
       "      <td>-0.011765</td>\n",
       "      <td>...</td>\n",
       "      <td>10370.0</td>\n",
       "      <td>0.692019</td>\n",
       "      <td>1.345902</td>\n",
       "      <td>NaN</td>\n",
       "      <td>NaN</td>\n",
       "      <td>NaN</td>\n",
       "      <td>NaN</td>\n",
       "      <td>NaN</td>\n",
       "      <td>NaN</td>\n",
       "      <td>NaN</td>\n",
       "    </tr>\n",
       "    <tr>\n",
       "      <th>2008</th>\n",
       "      <td>2014</td>\n",
       "      <td>46910</td>\n",
       "      <td>0.565747</td>\n",
       "      <td>0.004725</td>\n",
       "      <td>-0.010215</td>\n",
       "      <td>0.188235</td>\n",
       "      <td>-0.006461</td>\n",
       "      <td>-0.048120</td>\n",
       "      <td>0.555352</td>\n",
       "      <td>-0.014465</td>\n",
       "      <td>...</td>\n",
       "      <td>10370.0</td>\n",
       "      <td>0.695086</td>\n",
       "      <td>1.331051</td>\n",
       "      <td>NaN</td>\n",
       "      <td>NaN</td>\n",
       "      <td>NaN</td>\n",
       "      <td>NaN</td>\n",
       "      <td>NaN</td>\n",
       "      <td>NaN</td>\n",
       "      <td>NaN</td>\n",
       "    </tr>\n",
       "    <tr>\n",
       "      <th>2259</th>\n",
       "      <td>2015</td>\n",
       "      <td>47940</td>\n",
       "      <td>0.566884</td>\n",
       "      <td>-0.005475</td>\n",
       "      <td>-0.018376</td>\n",
       "      <td>0.215439</td>\n",
       "      <td>-0.036956</td>\n",
       "      <td>-0.048453</td>\n",
       "      <td>0.693676</td>\n",
       "      <td>-0.010402</td>\n",
       "      <td>...</td>\n",
       "      <td>3653.0</td>\n",
       "      <td>0.708761</td>\n",
       "      <td>1.385437</td>\n",
       "      <td>NaN</td>\n",
       "      <td>NaN</td>\n",
       "      <td>NaN</td>\n",
       "      <td>NaN</td>\n",
       "      <td>NaN</td>\n",
       "      <td>NaN</td>\n",
       "      <td>NaN</td>\n",
       "    </tr>\n",
       "  </tbody>\n",
       "</table>\n",
       "<p>6 rows × 25 columns</p>\n",
       "</div>"
      ],
      "text/plain": [
       "      year  area_code  mov_male_ratio       r_9  pop_change_ratio  \\\n",
       "184   2006      46910        0.541290  0.053191          0.030520   \n",
       "412   2007      46910        0.530417  0.052828         -0.031313   \n",
       "1324  2011      46910        0.560958 -0.023491         -0.056798   \n",
       "1780  2013      46910        0.558573  0.005786          0.039192   \n",
       "2008  2014      46910        0.565747  0.004725         -0.010215   \n",
       "2259  2015      47940        0.566884 -0.005475         -0.018376   \n",
       "\n",
       "      multi_ratio       r_2       r_3  head_ratio       r_4       ...         \\\n",
       "184      0.202827  0.057152 -0.024150    0.543951 -0.007532       ...          \n",
       "412      0.197456  0.049587 -0.019446    0.528358 -0.004780       ...          \n",
       "1324     0.188022 -0.008639 -0.052320    0.563580 -0.016113       ...          \n",
       "1780     0.193539  0.005111 -0.032112    0.565477 -0.011765       ...          \n",
       "2008     0.188235 -0.006461 -0.048120    0.555352 -0.014465       ...          \n",
       "2259     0.215439 -0.036956 -0.048453    0.693676 -0.010402       ...          \n",
       "\n",
       "      mov_vol  head_male_ratio  ppl_per_house  ppa_median  built  trade_vol  \\\n",
       "184   12878.0         0.679515       1.366284         NaN    NaN        NaN   \n",
       "412   12342.0         0.666769       1.355858         NaN    NaN        NaN   \n",
       "1324  10302.0         0.675680       1.341584         NaN    NaN        NaN   \n",
       "1780  10370.0         0.692019       1.345902         NaN    NaN        NaN   \n",
       "2008  10370.0         0.695086       1.331051         NaN    NaN        NaN   \n",
       "2259   3653.0         0.708761       1.385437         NaN    NaN        NaN   \n",
       "\n",
       "      ppa_mean  ppa_median_log  ppa_change_pre  ppa_change_post  \n",
       "184        NaN             NaN             NaN              NaN  \n",
       "412        NaN             NaN             NaN              NaN  \n",
       "1324       NaN             NaN             NaN              NaN  \n",
       "1780       NaN             NaN             NaN              NaN  \n",
       "2008       NaN             NaN             NaN              NaN  \n",
       "2259       NaN             NaN             NaN              NaN  \n",
       "\n",
       "[6 rows x 25 columns]"
      ]
     },
     "execution_count": 37,
     "metadata": {},
     "output_type": "execute_result"
    }
   ],
   "source": [
    "# see if there are any null values\n",
    "df_year.loc[df_year.loc[:, 'built'].isnull()]"
   ]
  },
  {
   "cell_type": "code",
   "execution_count": 38,
   "metadata": {
    "collapsed": false
   },
   "outputs": [],
   "source": [
    "df_year = df_year.loc[~df_year.loc[:, 'built'].isnull()]\n",
    "df_month = df_month.loc[~df_month.loc[:, 'built'].isnull()]"
   ]
  },
  {
   "cell_type": "code",
   "execution_count": 39,
   "metadata": {
    "collapsed": true
   },
   "outputs": [],
   "source": [
    "df_year.to_csv(path + 'pop_estate_agg_year.csv', index=False, encoding='utf-8')\n",
    "df_month.to_csv(path + 'pop_estate_agg_month.csv', index=False, encoding='utf-8')"
   ]
  },
  {
   "cell_type": "code",
   "execution_count": null,
   "metadata": {
    "collapsed": true
   },
   "outputs": [],
   "source": []
  }
 ],
 "metadata": {
  "kernelspec": {
   "display_name": "Python 2",
   "language": "python",
   "name": "python2"
  },
  "language_info": {
   "codemirror_mode": {
    "name": "ipython",
    "version": 2
   },
   "file_extension": ".py",
   "mimetype": "text/x-python",
   "name": "python",
   "nbconvert_exporter": "python",
   "pygments_lexer": "ipython2",
   "version": "2.7.13"
  }
 },
 "nbformat": 4,
 "nbformat_minor": 2
}
