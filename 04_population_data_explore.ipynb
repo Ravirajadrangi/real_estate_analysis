{
 "cells": [
  {
   "cell_type": "markdown",
   "metadata": {},
   "source": [
    "# 파트 04\n",
    "----\n",
    "인구이동 데이터의 2차 전처리 과정 행하기 전에 Dask를 이용하여 일괄적인 방법으로 데이터의 온전성을 확인한다. 누락 데이터는 없는지를 확인하고 비세대주 중에 성별이나 나이가 기입된 경우는 없는지 등을 확인한다. 아래는 데이터 탐구 과정에서 얻은 몇가지 수치이다.\n",
    "\n",
    "전입과 전출이 다른 경우: 3508만개\n",
    "\n",
    "전입과 전출이 같은 경우: 2791만개\n",
    "\n",
    "비세대주의 경우: 1795만개"
   ]
  },
  {
   "cell_type": "code",
   "execution_count": 1,
   "metadata": {
    "collapsed": true
   },
   "outputs": [],
   "source": [
    "%matplotlib inline\n",
    "import glob\n",
    "import dask.dataframe as dd\n",
    "from dask.diagnostics import ProgressBar\n",
    "from __future__ import division\n",
    "from __future__ import print_function"
   ]
  },
  {
   "cell_type": "code",
   "execution_count": 2,
   "metadata": {
    "collapsed": true
   },
   "outputs": [],
   "source": [
    "path = 'raw_data\\\\'"
   ]
  },
  {
   "cell_type": "code",
   "execution_count": 3,
   "metadata": {
    "collapsed": false
   },
   "outputs": [],
   "source": [
    "df_population = dd.read_csv(path + '03_pop_*.csv', encoding='utf-8')"
   ]
  },
  {
   "cell_type": "code",
   "execution_count": 4,
   "metadata": {
    "collapsed": true
   },
   "outputs": [],
   "source": [
    "pbar = ProgressBar()\n",
    "pbar.register()"
   ]
  },
  {
   "cell_type": "code",
   "execution_count": 5,
   "metadata": {
    "collapsed": false
   },
   "outputs": [
    {
     "name": "stdout",
     "output_type": "stream",
     "text": [
      "[########################################] | 100% Completed | 20.3s\n"
     ]
    },
    {
     "data": {
      "text/plain": [
       "전입_년      63000200\n",
       "전입_월      63000200\n",
       "사유        63000200\n",
       "세대주_관계    63000200\n",
       "세대주_나이    63000200\n",
       "세대주_성별    63000200\n",
       "세대_관련     63000200\n",
       "이동_총인구    63000200\n",
       "이동_남인구    63000200\n",
       "이동_여인구    63000200\n",
       "전입코드      63000200\n",
       "전출코드      63000200\n",
       "dtype: int64"
      ]
     },
     "execution_count": 5,
     "metadata": {},
     "output_type": "execute_result"
    }
   ],
   "source": [
    "# see if we are missing any data\n",
    "df_population.count().compute()"
   ]
  },
  {
   "cell_type": "code",
   "execution_count": 6,
   "metadata": {
    "collapsed": false
   },
   "outputs": [
    {
     "name": "stdout",
     "output_type": "stream",
     "text": [
      "[########################################] | 100% Completed |  1.4s\n"
     ]
    },
    {
     "data": {
      "text/html": [
       "<div>\n",
       "<table border=\"1\" class=\"dataframe\">\n",
       "  <thead>\n",
       "    <tr style=\"text-align: right;\">\n",
       "      <th></th>\n",
       "      <th>전입_년</th>\n",
       "      <th>전입_월</th>\n",
       "      <th>사유</th>\n",
       "      <th>세대주_관계</th>\n",
       "      <th>세대주_나이</th>\n",
       "      <th>세대주_성별</th>\n",
       "      <th>세대_관련</th>\n",
       "      <th>이동_총인구</th>\n",
       "      <th>이동_남인구</th>\n",
       "      <th>이동_여인구</th>\n",
       "      <th>전입코드</th>\n",
       "      <th>전출코드</th>\n",
       "    </tr>\n",
       "  </thead>\n",
       "  <tbody>\n",
       "    <tr>\n",
       "      <th>0</th>\n",
       "      <td>2006</td>\n",
       "      <td>1</td>\n",
       "      <td>1</td>\n",
       "      <td>1</td>\n",
       "      <td>41</td>\n",
       "      <td>2</td>\n",
       "      <td>1</td>\n",
       "      <td>3</td>\n",
       "      <td>1</td>\n",
       "      <td>2</td>\n",
       "      <td>11110</td>\n",
       "      <td>11440</td>\n",
       "    </tr>\n",
       "    <tr>\n",
       "      <th>1</th>\n",
       "      <td>2006</td>\n",
       "      <td>1</td>\n",
       "      <td>1</td>\n",
       "      <td>1</td>\n",
       "      <td>34</td>\n",
       "      <td>1</td>\n",
       "      <td>2</td>\n",
       "      <td>1</td>\n",
       "      <td>1</td>\n",
       "      <td>0</td>\n",
       "      <td>11110</td>\n",
       "      <td>41285</td>\n",
       "    </tr>\n",
       "    <tr>\n",
       "      <th>2</th>\n",
       "      <td>2006</td>\n",
       "      <td>1</td>\n",
       "      <td>1</td>\n",
       "      <td>1</td>\n",
       "      <td>49</td>\n",
       "      <td>1</td>\n",
       "      <td>1</td>\n",
       "      <td>4</td>\n",
       "      <td>3</td>\n",
       "      <td>1</td>\n",
       "      <td>11110</td>\n",
       "      <td>11290</td>\n",
       "    </tr>\n",
       "    <tr>\n",
       "      <th>3</th>\n",
       "      <td>2006</td>\n",
       "      <td>1</td>\n",
       "      <td>1</td>\n",
       "      <td>0</td>\n",
       "      <td>-1</td>\n",
       "      <td>-1</td>\n",
       "      <td>2</td>\n",
       "      <td>1</td>\n",
       "      <td>0</td>\n",
       "      <td>1</td>\n",
       "      <td>11110</td>\n",
       "      <td>41480</td>\n",
       "    </tr>\n",
       "    <tr>\n",
       "      <th>4</th>\n",
       "      <td>2006</td>\n",
       "      <td>1</td>\n",
       "      <td>1</td>\n",
       "      <td>1</td>\n",
       "      <td>45</td>\n",
       "      <td>2</td>\n",
       "      <td>1</td>\n",
       "      <td>2</td>\n",
       "      <td>0</td>\n",
       "      <td>2</td>\n",
       "      <td>11110</td>\n",
       "      <td>11380</td>\n",
       "    </tr>\n",
       "  </tbody>\n",
       "</table>\n",
       "</div>"
      ],
      "text/plain": [
       "   전입_년  전입_월  사유  세대주_관계  세대주_나이  세대주_성별  세대_관련  이동_총인구  이동_남인구  이동_여인구  \\\n",
       "0  2006     1   1       1      41       2      1       3       1       2   \n",
       "1  2006     1   1       1      34       1      2       1       1       0   \n",
       "2  2006     1   1       1      49       1      1       4       3       1   \n",
       "3  2006     1   1       0      -1      -1      2       1       0       1   \n",
       "4  2006     1   1       1      45       2      1       2       0       2   \n",
       "\n",
       "    전입코드   전출코드  \n",
       "0  11110  11440  \n",
       "1  11110  41285  \n",
       "2  11110  11290  \n",
       "3  11110  41480  \n",
       "4  11110  11380  "
      ]
     },
     "execution_count": 6,
     "metadata": {},
     "output_type": "execute_result"
    }
   ],
   "source": [
    "df_population.head()"
   ]
  },
  {
   "cell_type": "code",
   "execution_count": 7,
   "metadata": {
    "collapsed": false
   },
   "outputs": [
    {
     "name": "stdout",
     "output_type": "stream",
     "text": [
      "[########################################] | 100% Completed | 21.8s\n"
     ]
    },
    {
     "data": {
      "text/plain": [
       "(35083111, 12)"
      ]
     },
     "execution_count": 7,
     "metadata": {},
     "output_type": "execute_result"
    }
   ],
   "source": [
    "# performing some exploratory data analysis\n",
    "df_population.loc[df_population.loc[:, u'전입코드'] != df_population.loc[:, u'전출코드']].compute().shape"
   ]
  },
  {
   "cell_type": "code",
   "execution_count": 8,
   "metadata": {
    "collapsed": false
   },
   "outputs": [
    {
     "name": "stdout",
     "output_type": "stream",
     "text": [
      "[########################################] | 100% Completed | 21.8s\n"
     ]
    },
    {
     "data": {
      "text/plain": [
       "(27917089, 12)"
      ]
     },
     "execution_count": 8,
     "metadata": {},
     "output_type": "execute_result"
    }
   ],
   "source": [
    "df_population.loc[df_population.loc[:, u'전입코드'] == df_population.loc[:, u'전출코드']].compute().shape"
   ]
  },
  {
   "cell_type": "code",
   "execution_count": 9,
   "metadata": {
    "collapsed": false
   },
   "outputs": [
    {
     "name": "stdout",
     "output_type": "stream",
     "text": [
      "[########################################] | 100% Completed | 19.7s\n"
     ]
    },
    {
     "data": {
      "text/plain": [
       "1    45047545\n",
       "0    17952655\n",
       "Name: 세대주_관계, dtype: int64"
      ]
     },
     "execution_count": 9,
     "metadata": {},
     "output_type": "execute_result"
    }
   ],
   "source": [
    "df_population[u'세대주_관계'].value_counts().compute()"
   ]
  },
  {
   "cell_type": "code",
   "execution_count": 10,
   "metadata": {
    "collapsed": false
   },
   "outputs": [
    {
     "name": "stdout",
     "output_type": "stream",
     "text": [
      "[########################################] | 100% Completed | 19.1s\n"
     ]
    },
    {
     "data": {
      "text/html": [
       "<div>\n",
       "<table border=\"1\" class=\"dataframe\">\n",
       "  <thead>\n",
       "    <tr style=\"text-align: right;\">\n",
       "      <th></th>\n",
       "      <th>전입_년</th>\n",
       "      <th>전입_월</th>\n",
       "      <th>사유</th>\n",
       "      <th>세대주_관계</th>\n",
       "      <th>세대주_나이</th>\n",
       "      <th>세대주_성별</th>\n",
       "      <th>세대_관련</th>\n",
       "      <th>이동_총인구</th>\n",
       "      <th>이동_남인구</th>\n",
       "      <th>이동_여인구</th>\n",
       "      <th>전입코드</th>\n",
       "      <th>전출코드</th>\n",
       "    </tr>\n",
       "  </thead>\n",
       "  <tbody>\n",
       "  </tbody>\n",
       "</table>\n",
       "</div>"
      ],
      "text/plain": [
       "Empty DataFrame\n",
       "Columns: [전입_년, 전입_월, 사유, 세대주_관계, 세대주_나이, 세대주_성별, 세대_관련, 이동_총인구, 이동_남인구, 이동_여인구, 전입코드, 전출코드]\n",
       "Index: []"
      ]
     },
     "execution_count": 10,
     "metadata": {},
     "output_type": "execute_result"
    }
   ],
   "source": [
    "# performing sanity check to see if there are any non-householder data with\n",
    "# householder age or householder gender specified\n",
    "df_population.loc[(df_population.loc[:, u'세대주_관계'] == 0) & (df_population.loc[:, u'세대주_나이'] >= 0)].compute()"
   ]
  },
  {
   "cell_type": "code",
   "execution_count": 11,
   "metadata": {
    "collapsed": false
   },
   "outputs": [
    {
     "name": "stdout",
     "output_type": "stream",
     "text": [
      "[########################################] | 100% Completed | 19.1s\n"
     ]
    },
    {
     "data": {
      "text/html": [
       "<div>\n",
       "<table border=\"1\" class=\"dataframe\">\n",
       "  <thead>\n",
       "    <tr style=\"text-align: right;\">\n",
       "      <th></th>\n",
       "      <th>전입_년</th>\n",
       "      <th>전입_월</th>\n",
       "      <th>사유</th>\n",
       "      <th>세대주_관계</th>\n",
       "      <th>세대주_나이</th>\n",
       "      <th>세대주_성별</th>\n",
       "      <th>세대_관련</th>\n",
       "      <th>이동_총인구</th>\n",
       "      <th>이동_남인구</th>\n",
       "      <th>이동_여인구</th>\n",
       "      <th>전입코드</th>\n",
       "      <th>전출코드</th>\n",
       "    </tr>\n",
       "  </thead>\n",
       "  <tbody>\n",
       "  </tbody>\n",
       "</table>\n",
       "</div>"
      ],
      "text/plain": [
       "Empty DataFrame\n",
       "Columns: [전입_년, 전입_월, 사유, 세대주_관계, 세대주_나이, 세대주_성별, 세대_관련, 이동_총인구, 이동_남인구, 이동_여인구, 전입코드, 전출코드]\n",
       "Index: []"
      ]
     },
     "execution_count": 11,
     "metadata": {},
     "output_type": "execute_result"
    }
   ],
   "source": [
    "df_population.loc[(df_population.loc[:, u'세대주_관계'] == 0) & (df_population.loc[:, u'세대주_성별'] >= 0)].compute()"
   ]
  },
  {
   "cell_type": "code",
   "execution_count": null,
   "metadata": {
    "collapsed": true
   },
   "outputs": [],
   "source": []
  }
 ],
 "metadata": {
  "kernelspec": {
   "display_name": "Python 2",
   "language": "python",
   "name": "python2"
  },
  "language_info": {
   "codemirror_mode": {
    "name": "ipython",
    "version": 2
   },
   "file_extension": ".py",
   "mimetype": "text/x-python",
   "name": "python",
   "nbconvert_exporter": "python",
   "pygments_lexer": "ipython2",
   "version": "2.7.13"
  }
 },
 "nbformat": 4,
 "nbformat_minor": 2
}
