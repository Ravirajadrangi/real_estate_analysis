{
 "cells": [
  {
   "cell_type": "markdown",
   "metadata": {},
   "source": [
    "# 파트 02\n",
    "----\n",
    "아파트 매매 데이터에서 불필요한 칼럼들을 제거한 뒤 추후 인구이동 데이터와 비교분석을 위해 주소 간략화 및 행자부코드를 부여한다.\n",
    "\n",
    "행자부코드 목록에 명기된 주소보다 아파트 매매 데이터에는 더 상세히 기술되어 있어 주소 문자열을 처음 두 단어 기준으로 간략화 시켰다. 따라서 일반적으로 대도시인 특별 행정구역의 경우 시+구의 단위로 쓰이게 되며 그 외에는 도+시 단위로 쓰이게 된다.\n",
    "\n",
    "세종특별시의 경우 생긴지 얼마 안된 이유로 잦은 행정구역의 변화가 있었기에 임의로 이전 행정구역을 사용하도록 수정을 한다.\n",
    "\n",
    "마지막으로 건축년도가 null값으로 되어있는 데이터 역시 수정을 가해 null값이 전혀 없는 깔끔한 데이터셋을 만든다."
   ]
  },
  {
   "cell_type": "code",
   "execution_count": 34,
   "metadata": {
    "collapsed": true
   },
   "outputs": [],
   "source": [
    "%matplotlib inline\n",
    "import re\n",
    "from __future__ import division"
   ]
  },
  {
   "cell_type": "code",
   "execution_count": 35,
   "metadata": {
    "collapsed": true
   },
   "outputs": [],
   "source": [
    "# set path and read files\n",
    "path = 'raw_data\\\\'\n",
    "df_estate = pd.read_csv(path + 'estate_02_export.csv', index_col=0, encoding='utf-8')\n",
    "df_address_code = pd.read_excel(path + 'address_code.xlsx', header=2)"
   ]
  },
  {
   "cell_type": "code",
   "execution_count": 36,
   "metadata": {
    "collapsed": false
   },
   "outputs": [
    {
     "data": {
      "text/html": [
       "<div>\n",
       "<table border=\"1\" class=\"dataframe\">\n",
       "  <thead>\n",
       "    <tr style=\"text-align: right;\">\n",
       "      <th></th>\n",
       "      <th>시군구</th>\n",
       "      <th>번지</th>\n",
       "      <th>본번</th>\n",
       "      <th>부번</th>\n",
       "      <th>단지명</th>\n",
       "      <th>전용면적(㎡)</th>\n",
       "      <th>계약년월</th>\n",
       "      <th>계약일</th>\n",
       "      <th>거래금액(만원)</th>\n",
       "      <th>층</th>\n",
       "      <th>건축년도</th>\n",
       "      <th>도로명</th>\n",
       "    </tr>\n",
       "  </thead>\n",
       "  <tbody>\n",
       "    <tr>\n",
       "      <th>5863875</th>\n",
       "      <td>충청북도 충주시 호암동</td>\n",
       "      <td>547-6</td>\n",
       "      <td>547</td>\n",
       "      <td>6</td>\n",
       "      <td>호반현대</td>\n",
       "      <td>59.76</td>\n",
       "      <td>201512</td>\n",
       "      <td>21~31</td>\n",
       "      <td>10,500</td>\n",
       "      <td>8</td>\n",
       "      <td>1994.0</td>\n",
       "      <td>신촌2길</td>\n",
       "    </tr>\n",
       "    <tr>\n",
       "      <th>5863876</th>\n",
       "      <td>충청북도 충주시 호암동</td>\n",
       "      <td>547-6</td>\n",
       "      <td>547</td>\n",
       "      <td>6</td>\n",
       "      <td>호반현대</td>\n",
       "      <td>59.76</td>\n",
       "      <td>201512</td>\n",
       "      <td>21~31</td>\n",
       "      <td>10,200</td>\n",
       "      <td>10</td>\n",
       "      <td>1994.0</td>\n",
       "      <td>신촌2길</td>\n",
       "    </tr>\n",
       "    <tr>\n",
       "      <th>5863877</th>\n",
       "      <td>충청북도 충주시 호암동</td>\n",
       "      <td>905</td>\n",
       "      <td>905</td>\n",
       "      <td>0</td>\n",
       "      <td>호암동수채</td>\n",
       "      <td>84.93</td>\n",
       "      <td>201512</td>\n",
       "      <td>11~20</td>\n",
       "      <td>19,700</td>\n",
       "      <td>12</td>\n",
       "      <td>2007.0</td>\n",
       "      <td>호암중앙1로</td>\n",
       "    </tr>\n",
       "    <tr>\n",
       "      <th>5863878</th>\n",
       "      <td>충청북도 충주시 호암동</td>\n",
       "      <td>221-23</td>\n",
       "      <td>221</td>\n",
       "      <td>23</td>\n",
       "      <td>호암리버빌(1단지)</td>\n",
       "      <td>84.68</td>\n",
       "      <td>201512</td>\n",
       "      <td>11~20</td>\n",
       "      <td>15,900</td>\n",
       "      <td>9</td>\n",
       "      <td>2002.0</td>\n",
       "      <td>원호암5길</td>\n",
       "    </tr>\n",
       "    <tr>\n",
       "      <th>5863879</th>\n",
       "      <td>충청북도 충주시 호암동</td>\n",
       "      <td>221-1</td>\n",
       "      <td>221</td>\n",
       "      <td>1</td>\n",
       "      <td>호암리버빌(2단지)</td>\n",
       "      <td>84.68</td>\n",
       "      <td>201512</td>\n",
       "      <td>11~20</td>\n",
       "      <td>16,000</td>\n",
       "      <td>10</td>\n",
       "      <td>2002.0</td>\n",
       "      <td>호암중앙2로</td>\n",
       "    </tr>\n",
       "  </tbody>\n",
       "</table>\n",
       "</div>"
      ],
      "text/plain": [
       "                   시군구      번지   본번  부번         단지명  전용면적(㎡)    계약년월    계약일  \\\n",
       "5863875   충청북도 충주시 호암동   547-6  547   6        호반현대    59.76  201512  21~31   \n",
       "5863876   충청북도 충주시 호암동   547-6  547   6        호반현대    59.76  201512  21~31   \n",
       "5863877   충청북도 충주시 호암동     905  905   0       호암동수채    84.93  201512  11~20   \n",
       "5863878   충청북도 충주시 호암동  221-23  221  23  호암리버빌(1단지)    84.68  201512  11~20   \n",
       "5863879   충청북도 충주시 호암동   221-1  221   1  호암리버빌(2단지)    84.68  201512  11~20   \n",
       "\n",
       "               거래금액(만원)   층    건축년도     도로명  \n",
       "5863875          10,500   8  1994.0    신촌2길  \n",
       "5863876          10,200  10  1994.0    신촌2길  \n",
       "5863877          19,700  12  2007.0  호암중앙1로  \n",
       "5863878          15,900   9  2002.0   원호암5길  \n",
       "5863879          16,000  10  2002.0  호암중앙2로  "
      ]
     },
     "execution_count": 36,
     "metadata": {},
     "output_type": "execute_result"
    }
   ],
   "source": [
    "# have a quick glance\n",
    "df_estate.tail()"
   ]
  },
  {
   "cell_type": "code",
   "execution_count": 37,
   "metadata": {
    "collapsed": true
   },
   "outputs": [],
   "source": [
    "# list of columns that we will keep\n",
    "df_columns = [u'시군구', u'전용면적(㎡)', u'계약년월', u'거래금액(만원)', u'건축년도']"
   ]
  },
  {
   "cell_type": "code",
   "execution_count": 38,
   "metadata": {
    "collapsed": true
   },
   "outputs": [],
   "source": [
    "# drop all columns we don't need\n",
    "df_estate = df_estate[df_columns]"
   ]
  },
  {
   "cell_type": "code",
   "execution_count": 39,
   "metadata": {
    "collapsed": true
   },
   "outputs": [],
   "source": [
    "# convert prices into integer type\n",
    "df_estate[u'거래금액(만원)'] = df_estate[u'거래금액(만원)'].str.replace(',', '').astype(int)"
   ]
  },
  {
   "cell_type": "code",
   "execution_count": null,
   "metadata": {
    "collapsed": true
   },
   "outputs": [],
   "source": []
  },
  {
   "cell_type": "code",
   "execution_count": 40,
   "metadata": {
    "collapsed": false
   },
   "outputs": [
    {
     "data": {
      "text/html": [
       "<div>\n",
       "<table border=\"1\" class=\"dataframe\">\n",
       "  <thead>\n",
       "    <tr style=\"text-align: right;\">\n",
       "      <th></th>\n",
       "      <th>시군구</th>\n",
       "      <th>전용면적(㎡)</th>\n",
       "      <th>계약년월</th>\n",
       "      <th>거래금액(만원)</th>\n",
       "      <th>건축년도</th>\n",
       "    </tr>\n",
       "  </thead>\n",
       "  <tbody>\n",
       "    <tr>\n",
       "      <th>234524</th>\n",
       "      <td>경기도 안양시 동안구 호계동</td>\n",
       "      <td>52.92</td>\n",
       "      <td>200606</td>\n",
       "      <td>12000</td>\n",
       "      <td>NaN</td>\n",
       "    </tr>\n",
       "    <tr>\n",
       "      <th>234525</th>\n",
       "      <td>경기도 안양시 동안구 호계동</td>\n",
       "      <td>52.92</td>\n",
       "      <td>200606</td>\n",
       "      <td>11000</td>\n",
       "      <td>NaN</td>\n",
       "    </tr>\n",
       "    <tr>\n",
       "      <th>356846</th>\n",
       "      <td>경기도 안양시 동안구 호계동</td>\n",
       "      <td>52.92</td>\n",
       "      <td>200609</td>\n",
       "      <td>12400</td>\n",
       "      <td>NaN</td>\n",
       "    </tr>\n",
       "    <tr>\n",
       "      <th>1459878</th>\n",
       "      <td>세종특별자치시 조치원읍 교리</td>\n",
       "      <td>66.68</td>\n",
       "      <td>200807</td>\n",
       "      <td>5500</td>\n",
       "      <td>NaN</td>\n",
       "    </tr>\n",
       "  </tbody>\n",
       "</table>\n",
       "</div>"
      ],
      "text/plain": [
       "                       시군구  전용면적(㎡)    계약년월  거래금액(만원)  건축년도\n",
       "234524     경기도 안양시 동안구 호계동    52.92  200606     12000   NaN\n",
       "234525     경기도 안양시 동안구 호계동    52.92  200606     11000   NaN\n",
       "356846     경기도 안양시 동안구 호계동    52.92  200609     12400   NaN\n",
       "1459878    세종특별자치시 조치원읍 교리    66.68  200807      5500   NaN"
      ]
     },
     "execution_count": 40,
     "metadata": {},
     "output_type": "execute_result"
    }
   ],
   "source": [
    "# as year built is of float type, we perform a sanity check\n",
    "# fortunately, there are only four\n",
    "df_estate[df_estate[u'건축년도'].isnull()]"
   ]
  },
  {
   "cell_type": "code",
   "execution_count": 41,
   "metadata": {
    "collapsed": true
   },
   "outputs": [],
   "source": [
    "# one apartment can be reasonably assumed to be a part of the apartment complex called 태하\n",
    "# we also drop a single row which cannot be identified\n",
    "df_estate.loc[df_estate[df_estate[u'건축년도'].isnull()].index[:-1], u'건축년도'] = 1987\n",
    "df_estate.drop(1459878, inplace=True)"
   ]
  },
  {
   "cell_type": "code",
   "execution_count": 43,
   "metadata": {
    "collapsed": false
   },
   "outputs": [
    {
     "data": {
      "text/html": [
       "<div>\n",
       "<table border=\"1\" class=\"dataframe\">\n",
       "  <thead>\n",
       "    <tr style=\"text-align: right;\">\n",
       "      <th></th>\n",
       "      <th>시군구</th>\n",
       "      <th>전용면적(㎡)</th>\n",
       "      <th>계약년월</th>\n",
       "      <th>거래금액(만원)</th>\n",
       "      <th>건축년도</th>\n",
       "    </tr>\n",
       "  </thead>\n",
       "  <tbody>\n",
       "    <tr>\n",
       "      <th>101805</th>\n",
       "      <td>대전광역시 서구 괴정동</td>\n",
       "      <td>49.68</td>\n",
       "      <td>200603</td>\n",
       "      <td>3500</td>\n",
       "      <td>0.0</td>\n",
       "    </tr>\n",
       "    <tr>\n",
       "      <th>968679</th>\n",
       "      <td>대전광역시 서구 괴정동</td>\n",
       "      <td>49.68</td>\n",
       "      <td>200709</td>\n",
       "      <td>3700</td>\n",
       "      <td>0.0</td>\n",
       "    </tr>\n",
       "    <tr>\n",
       "      <th>1195861</th>\n",
       "      <td>대전광역시 서구 괴정동</td>\n",
       "      <td>49.68</td>\n",
       "      <td>200802</td>\n",
       "      <td>4000</td>\n",
       "      <td>0.0</td>\n",
       "    </tr>\n",
       "    <tr>\n",
       "      <th>1195862</th>\n",
       "      <td>대전광역시 서구 괴정동</td>\n",
       "      <td>49.68</td>\n",
       "      <td>200802</td>\n",
       "      <td>4200</td>\n",
       "      <td>0.0</td>\n",
       "    </tr>\n",
       "    <tr>\n",
       "      <th>1317092</th>\n",
       "      <td>대전광역시 서구 괴정동</td>\n",
       "      <td>49.68</td>\n",
       "      <td>200804</td>\n",
       "      <td>5000</td>\n",
       "      <td>0.0</td>\n",
       "    </tr>\n",
       "  </tbody>\n",
       "</table>\n",
       "</div>"
      ],
      "text/plain": [
       "                   시군구  전용면적(㎡)    계약년월  거래금액(만원)  건축년도\n",
       "101805    대전광역시 서구 괴정동    49.68  200603      3500   0.0\n",
       "968679    대전광역시 서구 괴정동    49.68  200709      3700   0.0\n",
       "1195861   대전광역시 서구 괴정동    49.68  200802      4000   0.0\n",
       "1195862   대전광역시 서구 괴정동    49.68  200802      4200   0.0\n",
       "1317092   대전광역시 서구 괴정동    49.68  200804      5000   0.0"
      ]
     },
     "execution_count": 43,
     "metadata": {},
     "output_type": "execute_result"
    }
   ],
   "source": [
    "# there is one apartment with built year set to zero\n",
    "df_estate[df_estate[u'건축년도'] == 0].head()"
   ]
  },
  {
   "cell_type": "code",
   "execution_count": 44,
   "metadata": {
    "collapsed": false
   },
   "outputs": [],
   "source": [
    "# after some investigation, we set this to 1976 and convert the column into integer type\n",
    "df_estate.loc[df_estate[u'건축년도'] == 0, u'건축년도'] = 1976\n",
    "df_estate[u'건축년도'] = df_estate[u'건축년도'].astype(int)"
   ]
  },
  {
   "cell_type": "code",
   "execution_count": 45,
   "metadata": {
    "collapsed": true
   },
   "outputs": [],
   "source": [
    "# we split up year and month sold to separate columns\n",
    "df_estate[u'년'] = df_estate[u'계약년월'] // 100\n",
    "df_estate[u'월'] = df_estate[u'계약년월'] % 100\n",
    "del df_estate[u'계약년월']"
   ]
  },
  {
   "cell_type": "code",
   "execution_count": 46,
   "metadata": {
    "collapsed": false
   },
   "outputs": [
    {
     "data": {
      "text/html": [
       "<div>\n",
       "<table border=\"1\" class=\"dataframe\">\n",
       "  <thead>\n",
       "    <tr style=\"text-align: right;\">\n",
       "      <th></th>\n",
       "      <th>시군구</th>\n",
       "      <th>전용면적(㎡)</th>\n",
       "      <th>거래금액(만원)</th>\n",
       "      <th>건축년도</th>\n",
       "      <th>년</th>\n",
       "      <th>월</th>\n",
       "    </tr>\n",
       "  </thead>\n",
       "  <tbody>\n",
       "    <tr>\n",
       "      <th>0</th>\n",
       "      <td>세종특별자치시 금남면 용포리</td>\n",
       "      <td>43.01</td>\n",
       "      <td>4520</td>\n",
       "      <td>2000</td>\n",
       "      <td>2006</td>\n",
       "      <td>1</td>\n",
       "    </tr>\n",
       "    <tr>\n",
       "      <th>1</th>\n",
       "      <td>세종특별자치시 금남면 용포리</td>\n",
       "      <td>43.01</td>\n",
       "      <td>4495</td>\n",
       "      <td>2000</td>\n",
       "      <td>2006</td>\n",
       "      <td>1</td>\n",
       "    </tr>\n",
       "    <tr>\n",
       "      <th>2</th>\n",
       "      <td>세종특별자치시 금남면 용포리</td>\n",
       "      <td>43.01</td>\n",
       "      <td>4495</td>\n",
       "      <td>2000</td>\n",
       "      <td>2006</td>\n",
       "      <td>1</td>\n",
       "    </tr>\n",
       "    <tr>\n",
       "      <th>3</th>\n",
       "      <td>세종특별자치시 금남면 용포리</td>\n",
       "      <td>43.01</td>\n",
       "      <td>4520</td>\n",
       "      <td>2000</td>\n",
       "      <td>2006</td>\n",
       "      <td>1</td>\n",
       "    </tr>\n",
       "    <tr>\n",
       "      <th>4</th>\n",
       "      <td>세종특별자치시 금남면 용포리</td>\n",
       "      <td>43.01</td>\n",
       "      <td>4520</td>\n",
       "      <td>2000</td>\n",
       "      <td>2006</td>\n",
       "      <td>1</td>\n",
       "    </tr>\n",
       "  </tbody>\n",
       "</table>\n",
       "</div>"
      ],
      "text/plain": [
       "                 시군구  전용면적(㎡)  거래금액(만원)  건축년도     년  월\n",
       "0    세종특별자치시 금남면 용포리    43.01      4520  2000  2006  1\n",
       "1    세종특별자치시 금남면 용포리    43.01      4495  2000  2006  1\n",
       "2    세종특별자치시 금남면 용포리    43.01      4495  2000  2006  1\n",
       "3    세종특별자치시 금남면 용포리    43.01      4520  2000  2006  1\n",
       "4    세종특별자치시 금남면 용포리    43.01      4520  2000  2006  1"
      ]
     },
     "execution_count": 46,
     "metadata": {},
     "output_type": "execute_result"
    }
   ],
   "source": [
    "# check the changes made\n",
    "df_estate.head()"
   ]
  },
  {
   "cell_type": "code",
   "execution_count": 48,
   "metadata": {
    "collapsed": true
   },
   "outputs": [],
   "source": [
    "# function to shrink multiple white spaces into a single space\n",
    "def shrink_spaces(address):\n",
    "    return re.sub(u'\\s+', u' ', address)\n",
    "\n",
    "# function that returns the first two words of the string\n",
    "subaddress_regex = re.compile(u'\\S+\\s+\\S+')\n",
    "def shrink_address(address):\n",
    "    return address[:subaddress_regex.search(address).end()]"
   ]
  },
  {
   "cell_type": "code",
   "execution_count": 49,
   "metadata": {
    "collapsed": false
   },
   "outputs": [],
   "source": [
    "# remove whitespaces at the beginning of strings and at the end of strings,\n",
    "# shrink multiple white spaces, and cut off addresses after the first two words\n",
    "df_estate[u'시군구'] = df_estate[u'시군구'].str.strip().apply(shrink_spaces).apply(shrink_address)"
   ]
  },
  {
   "cell_type": "code",
   "execution_count": 50,
   "metadata": {
    "collapsed": true
   },
   "outputs": [],
   "source": [
    "# similar process as above\n",
    "df_address_code[u'행정구역명'] = df_address_code[u'행정구역명'].apply(shrink_spaces)"
   ]
  },
  {
   "cell_type": "code",
   "execution_count": 51,
   "metadata": {
    "collapsed": false
   },
   "outputs": [],
   "source": [
    "# creating a series to map address strings to numeric codes\n",
    "sr_address_code = pd.Series(data=df_address_code.set_index(u'행정구역명')[u'행자부코드'], copy=True)\n",
    "\n",
    "# remove the first occurring duplicates\n",
    "# here we assume the later occurring duplicates correspond to the updated address codes (I'm not 100% sure)\n",
    "sr_address_code = sr_address_code[~sr_address_code.index.duplicated(keep='first')]"
   ]
  },
  {
   "cell_type": "code",
   "execution_count": 52,
   "metadata": {
    "collapsed": false
   },
   "outputs": [
    {
     "data": {
      "text/plain": [
       "행정구역명\n",
       "제주특별자치도 서귀포시 서홍동    5013058000\n",
       "제주특별자치도 서귀포시 대륜동    5013059000\n",
       "제주특별자치도 서귀포시 대천동    5013060000\n",
       "제주특별자치도 서귀포시 중문동    5013061000\n",
       "제주특별자치도 서귀포시 예래동    5013062000\n",
       "Name: 행자부코드, dtype: int64"
      ]
     },
     "execution_count": 52,
     "metadata": {},
     "output_type": "execute_result"
    }
   ],
   "source": [
    "# just checking\n",
    "sr_address_code.tail()"
   ]
  },
  {
   "cell_type": "code",
   "execution_count": 53,
   "metadata": {
    "collapsed": true
   },
   "outputs": [],
   "source": [
    "# now create a column named address code\n",
    "df_estate[u'행자부코드'] = df_estate[u'시군구'].map(sr_address_code)"
   ]
  },
  {
   "cell_type": "code",
   "execution_count": 54,
   "metadata": {
    "collapsed": false
   },
   "outputs": [
    {
     "data": {
      "text/html": [
       "<div>\n",
       "<table border=\"1\" class=\"dataframe\">\n",
       "  <thead>\n",
       "    <tr style=\"text-align: right;\">\n",
       "      <th></th>\n",
       "      <th>시군구</th>\n",
       "      <th>전용면적(㎡)</th>\n",
       "      <th>거래금액(만원)</th>\n",
       "      <th>건축년도</th>\n",
       "      <th>년</th>\n",
       "      <th>월</th>\n",
       "      <th>행자부코드</th>\n",
       "    </tr>\n",
       "  </thead>\n",
       "  <tbody>\n",
       "    <tr>\n",
       "      <th>5863875</th>\n",
       "      <td>충청북도 충주시</td>\n",
       "      <td>59.76</td>\n",
       "      <td>10500</td>\n",
       "      <td>1994</td>\n",
       "      <td>2015</td>\n",
       "      <td>12</td>\n",
       "      <td>4.313000e+09</td>\n",
       "    </tr>\n",
       "    <tr>\n",
       "      <th>5863876</th>\n",
       "      <td>충청북도 충주시</td>\n",
       "      <td>59.76</td>\n",
       "      <td>10200</td>\n",
       "      <td>1994</td>\n",
       "      <td>2015</td>\n",
       "      <td>12</td>\n",
       "      <td>4.313000e+09</td>\n",
       "    </tr>\n",
       "    <tr>\n",
       "      <th>5863877</th>\n",
       "      <td>충청북도 충주시</td>\n",
       "      <td>84.93</td>\n",
       "      <td>19700</td>\n",
       "      <td>2007</td>\n",
       "      <td>2015</td>\n",
       "      <td>12</td>\n",
       "      <td>4.313000e+09</td>\n",
       "    </tr>\n",
       "    <tr>\n",
       "      <th>5863878</th>\n",
       "      <td>충청북도 충주시</td>\n",
       "      <td>84.68</td>\n",
       "      <td>15900</td>\n",
       "      <td>2002</td>\n",
       "      <td>2015</td>\n",
       "      <td>12</td>\n",
       "      <td>4.313000e+09</td>\n",
       "    </tr>\n",
       "    <tr>\n",
       "      <th>5863879</th>\n",
       "      <td>충청북도 충주시</td>\n",
       "      <td>84.68</td>\n",
       "      <td>16000</td>\n",
       "      <td>2002</td>\n",
       "      <td>2015</td>\n",
       "      <td>12</td>\n",
       "      <td>4.313000e+09</td>\n",
       "    </tr>\n",
       "  </tbody>\n",
       "</table>\n",
       "</div>"
      ],
      "text/plain": [
       "              시군구  전용면적(㎡)  거래금액(만원)  건축년도     년   월         행자부코드\n",
       "5863875  충청북도 충주시    59.76     10500  1994  2015  12  4.313000e+09\n",
       "5863876  충청북도 충주시    59.76     10200  1994  2015  12  4.313000e+09\n",
       "5863877  충청북도 충주시    84.93     19700  2007  2015  12  4.313000e+09\n",
       "5863878  충청북도 충주시    84.68     15900  2002  2015  12  4.313000e+09\n",
       "5863879  충청북도 충주시    84.68     16000  2002  2015  12  4.313000e+09"
      ]
     },
     "execution_count": 54,
     "metadata": {},
     "output_type": "execute_result"
    }
   ],
   "source": [
    "# we see below address codes are given float values instead of integer values\n",
    "# this probably means there are some addresses that did not get mapped properly\n",
    "# hence getting assigned nan (float) values\n",
    "df_estate.tail()"
   ]
  },
  {
   "cell_type": "code",
   "execution_count": 55,
   "metadata": {
    "collapsed": false
   },
   "outputs": [
    {
     "data": {
      "text/html": [
       "<div>\n",
       "<table border=\"1\" class=\"dataframe\">\n",
       "  <thead>\n",
       "    <tr style=\"text-align: right;\">\n",
       "      <th></th>\n",
       "      <th>전용면적(㎡)</th>\n",
       "      <th>거래금액(만원)</th>\n",
       "      <th>건축년도</th>\n",
       "      <th>년</th>\n",
       "      <th>월</th>\n",
       "      <th>행자부코드</th>\n",
       "    </tr>\n",
       "    <tr>\n",
       "      <th>시군구</th>\n",
       "      <th></th>\n",
       "      <th></th>\n",
       "      <th></th>\n",
       "      <th></th>\n",
       "      <th></th>\n",
       "      <th></th>\n",
       "    </tr>\n",
       "  </thead>\n",
       "  <tbody>\n",
       "    <tr>\n",
       "      <th>세종특별자치시 고운동</th>\n",
       "      <td>71</td>\n",
       "      <td>71</td>\n",
       "      <td>71</td>\n",
       "      <td>71</td>\n",
       "      <td>71</td>\n",
       "      <td>0</td>\n",
       "    </tr>\n",
       "    <tr>\n",
       "      <th>세종특별자치시 나성동</th>\n",
       "      <td>93</td>\n",
       "      <td>93</td>\n",
       "      <td>93</td>\n",
       "      <td>93</td>\n",
       "      <td>93</td>\n",
       "      <td>0</td>\n",
       "    </tr>\n",
       "    <tr>\n",
       "      <th>세종특별자치시 어진동</th>\n",
       "      <td>139</td>\n",
       "      <td>139</td>\n",
       "      <td>139</td>\n",
       "      <td>139</td>\n",
       "      <td>139</td>\n",
       "      <td>0</td>\n",
       "    </tr>\n",
       "  </tbody>\n",
       "</table>\n",
       "</div>"
      ],
      "text/plain": [
       "             전용면적(㎡)  거래금액(만원)  건축년도    년    월  행자부코드\n",
       "시군구                                                  \n",
       "세종특별자치시 고운동       71        71    71   71   71      0\n",
       "세종특별자치시 나성동       93        93    93   93   93      0\n",
       "세종특별자치시 어진동      139       139   139  139  139      0"
      ]
     },
     "execution_count": 55,
     "metadata": {},
     "output_type": "execute_result"
    }
   ],
   "source": [
    "# we check to see which addresses are not taken care of properly\n",
    "# fortunately, there are only three\n",
    "df_estate[df_estate[u'행자부코드'].isnull()].groupby(u'시군구').count()"
   ]
  },
  {
   "cell_type": "code",
   "execution_count": 56,
   "metadata": {
    "collapsed": false
   },
   "outputs": [],
   "source": [
    "# getting ready to patch things up manually\n",
    "# 고운동, 나성동, 어진동 were all part of 한솔동\n",
    "# moreover, 도담동, 아름동, 종촌동 were all part of 한솔동 until very recently\n",
    "# so we might as well combine everything into one address\n",
    "df_estate[u'시군구'].replace(to_replace=[u'세종특별자치시 고운동', u'세종특별자치시 나성동', u'세종특별자치시 어진동',\n",
    "                                        u'세종특별자치시 도담동', u'세종특별자치시 아름동', u'세종특별자치시 종촌동'],\n",
    "                             value=u'세종특별자치시 한솔동', inplace=True)"
   ]
  },
  {
   "cell_type": "code",
   "execution_count": 57,
   "metadata": {
    "collapsed": true
   },
   "outputs": [],
   "source": [
    "# try mapping string addresses to codes again\n",
    "df_estate[u'행자부코드'] = df_estate[u'시군구'].map(sr_address_code)"
   ]
  },
  {
   "cell_type": "code",
   "execution_count": 58,
   "metadata": {
    "collapsed": false
   },
   "outputs": [
    {
     "data": {
      "text/html": [
       "<div>\n",
       "<table border=\"1\" class=\"dataframe\">\n",
       "  <thead>\n",
       "    <tr style=\"text-align: right;\">\n",
       "      <th></th>\n",
       "      <th>시군구</th>\n",
       "      <th>전용면적(㎡)</th>\n",
       "      <th>거래금액(만원)</th>\n",
       "      <th>건축년도</th>\n",
       "      <th>년</th>\n",
       "      <th>월</th>\n",
       "      <th>행자부코드</th>\n",
       "    </tr>\n",
       "  </thead>\n",
       "  <tbody>\n",
       "    <tr>\n",
       "      <th>5863875</th>\n",
       "      <td>충청북도 충주시</td>\n",
       "      <td>59.76</td>\n",
       "      <td>10500</td>\n",
       "      <td>1994</td>\n",
       "      <td>2015</td>\n",
       "      <td>12</td>\n",
       "      <td>4313000000</td>\n",
       "    </tr>\n",
       "    <tr>\n",
       "      <th>5863876</th>\n",
       "      <td>충청북도 충주시</td>\n",
       "      <td>59.76</td>\n",
       "      <td>10200</td>\n",
       "      <td>1994</td>\n",
       "      <td>2015</td>\n",
       "      <td>12</td>\n",
       "      <td>4313000000</td>\n",
       "    </tr>\n",
       "    <tr>\n",
       "      <th>5863877</th>\n",
       "      <td>충청북도 충주시</td>\n",
       "      <td>84.93</td>\n",
       "      <td>19700</td>\n",
       "      <td>2007</td>\n",
       "      <td>2015</td>\n",
       "      <td>12</td>\n",
       "      <td>4313000000</td>\n",
       "    </tr>\n",
       "    <tr>\n",
       "      <th>5863878</th>\n",
       "      <td>충청북도 충주시</td>\n",
       "      <td>84.68</td>\n",
       "      <td>15900</td>\n",
       "      <td>2002</td>\n",
       "      <td>2015</td>\n",
       "      <td>12</td>\n",
       "      <td>4313000000</td>\n",
       "    </tr>\n",
       "    <tr>\n",
       "      <th>5863879</th>\n",
       "      <td>충청북도 충주시</td>\n",
       "      <td>84.68</td>\n",
       "      <td>16000</td>\n",
       "      <td>2002</td>\n",
       "      <td>2015</td>\n",
       "      <td>12</td>\n",
       "      <td>4313000000</td>\n",
       "    </tr>\n",
       "  </tbody>\n",
       "</table>\n",
       "</div>"
      ],
      "text/plain": [
       "              시군구  전용면적(㎡)  거래금액(만원)  건축년도     년   월       행자부코드\n",
       "5863875  충청북도 충주시    59.76     10500  1994  2015  12  4313000000\n",
       "5863876  충청북도 충주시    59.76     10200  1994  2015  12  4313000000\n",
       "5863877  충청북도 충주시    84.93     19700  2007  2015  12  4313000000\n",
       "5863878  충청북도 충주시    84.68     15900  2002  2015  12  4313000000\n",
       "5863879  충청북도 충주시    84.68     16000  2002  2015  12  4313000000"
      ]
     },
     "execution_count": 58,
     "metadata": {},
     "output_type": "execute_result"
    }
   ],
   "source": [
    "# we see that integer values are assigned this time, so the fix was successful\n",
    "df_estate.tail()"
   ]
  },
  {
   "cell_type": "code",
   "execution_count": 59,
   "metadata": {
    "collapsed": false,
    "scrolled": true
   },
   "outputs": [
    {
     "data": {
      "text/plain": [
       "False"
      ]
     },
     "execution_count": 59,
     "metadata": {},
     "output_type": "execute_result"
    }
   ],
   "source": [
    "# one last sanity check\n",
    "df_estate.isnull().values.any()"
   ]
  },
  {
   "cell_type": "code",
   "execution_count": 60,
   "metadata": {
    "collapsed": false
   },
   "outputs": [],
   "source": [
    "# further shorten address code to 5 digits\n",
    "df_estate[u'행자부코드'] = df_estate[u'행자부코드'] // 100000"
   ]
  },
  {
   "cell_type": "code",
   "execution_count": 62,
   "metadata": {
    "collapsed": false
   },
   "outputs": [],
   "source": [
    "# export to a new file\n",
    "df_estate.to_csv(path + 'estate_02_export.csv', index=False, encoding='utf-8')"
   ]
  },
  {
   "cell_type": "code",
   "execution_count": null,
   "metadata": {
    "collapsed": false
   },
   "outputs": [],
   "source": []
  }
 ],
 "metadata": {
  "kernelspec": {
   "display_name": "Python 2",
   "language": "python",
   "name": "python2"
  },
  "language_info": {
   "codemirror_mode": {
    "name": "ipython",
    "version": 2
   },
   "file_extension": ".py",
   "mimetype": "text/x-python",
   "name": "python",
   "nbconvert_exporter": "python",
   "pygments_lexer": "ipython2",
   "version": "2.7.13"
  }
 },
 "nbformat": 4,
 "nbformat_minor": 2
}
