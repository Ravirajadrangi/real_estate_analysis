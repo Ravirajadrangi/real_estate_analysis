{
 "cells": [
  {
   "cell_type": "markdown",
   "metadata": {},
   "source": [
    "# 파트 02\n",
    "----\n",
    "아파트 매매 데이터에서 불필요한 칼럼들을 제거한 뒤 추후 인구이동 데이터와 비교분석을 위해 주소 간략화 및 행자부코드를 부여한다.\n",
    "\n",
    "행자부코드 목록에 명기된 주소보다 아파트 매매 데이터에는 더 상세히 기술되어 있어 주소 문자열을 처음 두 단어 기준으로 간략화 시켰다. 따라서 일반적으로 대도시인 특별 행정구역의 경우 시+구의 단위로 쓰이게 되며 그 외에는 도+시 단위로 쓰이게 된다.\n",
    "\n",
    "세종특별시의 경우 생긴지 얼마 안된 이유로 잦은 행정구역의 변화가 있었기에 임의로 이전 행정구역을 사용하도록 수정을 한다.\n",
    "\n",
    "마지막으로 건축년도가 null값으로 되어있는 데이터 역시 수정을 가해 null값이 전혀 없는 깔끔한 데이터셋을 만든다."
   ]
  },
  {
   "cell_type": "code",
   "execution_count": 2,
   "metadata": {
    "collapsed": true
   },
   "outputs": [],
   "source": [
    "%matplotlib inline\n",
    "import re"
   ]
  },
  {
   "cell_type": "code",
   "execution_count": 3,
   "metadata": {
    "collapsed": true
   },
   "outputs": [],
   "source": [
    "path = 'raw_data\\\\'"
   ]
  },
  {
   "cell_type": "code",
   "execution_count": 4,
   "metadata": {
    "collapsed": false
   },
   "outputs": [],
   "source": [
    "df_estate = pd.read_csv(path + 'real_estate.csv', index_col=0, encoding='utf-8')"
   ]
  },
  {
   "cell_type": "code",
   "execution_count": 5,
   "metadata": {
    "collapsed": false
   },
   "outputs": [],
   "source": [
    "df_address_code = pd.read_excel(path + 'address_code.xlsx', header=2)"
   ]
  },
  {
   "cell_type": "code",
   "execution_count": 6,
   "metadata": {
    "collapsed": false
   },
   "outputs": [
    {
     "data": {
      "text/html": [
       "<div>\n",
       "<table border=\"1\" class=\"dataframe\">\n",
       "  <thead>\n",
       "    <tr style=\"text-align: right;\">\n",
       "      <th></th>\n",
       "      <th>시군구</th>\n",
       "      <th>번지</th>\n",
       "      <th>본번</th>\n",
       "      <th>부번</th>\n",
       "      <th>단지명</th>\n",
       "      <th>전용면적(㎡)</th>\n",
       "      <th>계약년월</th>\n",
       "      <th>계약일</th>\n",
       "      <th>거래금액(만원)</th>\n",
       "      <th>층</th>\n",
       "      <th>건축년도</th>\n",
       "      <th>도로명</th>\n",
       "    </tr>\n",
       "  </thead>\n",
       "  <tbody>\n",
       "    <tr>\n",
       "      <th>5863875</th>\n",
       "      <td>충청북도 충주시 호암동</td>\n",
       "      <td>547-6</td>\n",
       "      <td>547</td>\n",
       "      <td>6</td>\n",
       "      <td>호반현대</td>\n",
       "      <td>59.76</td>\n",
       "      <td>201512</td>\n",
       "      <td>21~31</td>\n",
       "      <td>10,500</td>\n",
       "      <td>8</td>\n",
       "      <td>1994.0</td>\n",
       "      <td>신촌2길</td>\n",
       "    </tr>\n",
       "    <tr>\n",
       "      <th>5863876</th>\n",
       "      <td>충청북도 충주시 호암동</td>\n",
       "      <td>547-6</td>\n",
       "      <td>547</td>\n",
       "      <td>6</td>\n",
       "      <td>호반현대</td>\n",
       "      <td>59.76</td>\n",
       "      <td>201512</td>\n",
       "      <td>21~31</td>\n",
       "      <td>10,200</td>\n",
       "      <td>10</td>\n",
       "      <td>1994.0</td>\n",
       "      <td>신촌2길</td>\n",
       "    </tr>\n",
       "    <tr>\n",
       "      <th>5863877</th>\n",
       "      <td>충청북도 충주시 호암동</td>\n",
       "      <td>905</td>\n",
       "      <td>905</td>\n",
       "      <td>0</td>\n",
       "      <td>호암동수채</td>\n",
       "      <td>84.93</td>\n",
       "      <td>201512</td>\n",
       "      <td>11~20</td>\n",
       "      <td>19,700</td>\n",
       "      <td>12</td>\n",
       "      <td>2007.0</td>\n",
       "      <td>호암중앙1로</td>\n",
       "    </tr>\n",
       "    <tr>\n",
       "      <th>5863878</th>\n",
       "      <td>충청북도 충주시 호암동</td>\n",
       "      <td>221-23</td>\n",
       "      <td>221</td>\n",
       "      <td>23</td>\n",
       "      <td>호암리버빌(1단지)</td>\n",
       "      <td>84.68</td>\n",
       "      <td>201512</td>\n",
       "      <td>11~20</td>\n",
       "      <td>15,900</td>\n",
       "      <td>9</td>\n",
       "      <td>2002.0</td>\n",
       "      <td>원호암5길</td>\n",
       "    </tr>\n",
       "    <tr>\n",
       "      <th>5863879</th>\n",
       "      <td>충청북도 충주시 호암동</td>\n",
       "      <td>221-1</td>\n",
       "      <td>221</td>\n",
       "      <td>1</td>\n",
       "      <td>호암리버빌(2단지)</td>\n",
       "      <td>84.68</td>\n",
       "      <td>201512</td>\n",
       "      <td>11~20</td>\n",
       "      <td>16,000</td>\n",
       "      <td>10</td>\n",
       "      <td>2002.0</td>\n",
       "      <td>호암중앙2로</td>\n",
       "    </tr>\n",
       "  </tbody>\n",
       "</table>\n",
       "</div>"
      ],
      "text/plain": [
       "                   시군구      번지   본번  부번         단지명  전용면적(㎡)    계약년월    계약일  \\\n",
       "5863875   충청북도 충주시 호암동   547-6  547   6        호반현대    59.76  201512  21~31   \n",
       "5863876   충청북도 충주시 호암동   547-6  547   6        호반현대    59.76  201512  21~31   \n",
       "5863877   충청북도 충주시 호암동     905  905   0       호암동수채    84.93  201512  11~20   \n",
       "5863878   충청북도 충주시 호암동  221-23  221  23  호암리버빌(1단지)    84.68  201512  11~20   \n",
       "5863879   충청북도 충주시 호암동   221-1  221   1  호암리버빌(2단지)    84.68  201512  11~20   \n",
       "\n",
       "               거래금액(만원)   층    건축년도     도로명  \n",
       "5863875          10,500   8  1994.0    신촌2길  \n",
       "5863876          10,200  10  1994.0    신촌2길  \n",
       "5863877          19,700  12  2007.0  호암중앙1로  \n",
       "5863878          15,900   9  2002.0   원호암5길  \n",
       "5863879          16,000  10  2002.0  호암중앙2로  "
      ]
     },
     "execution_count": 6,
     "metadata": {},
     "output_type": "execute_result"
    }
   ],
   "source": [
    "# checking progress\n",
    "df_estate.tail()"
   ]
  },
  {
   "cell_type": "code",
   "execution_count": 7,
   "metadata": {
    "collapsed": false
   },
   "outputs": [],
   "source": [
    "# remove unnecessary columns\n",
    "del df_estate[u'번지']\n",
    "del df_estate[u'본번']\n",
    "del df_estate[u'부번']\n",
    "del df_estate[u'계약일']\n",
    "del df_estate[u'도로명']\n",
    "del df_estate[u'단지명']"
   ]
  },
  {
   "cell_type": "code",
   "execution_count": 8,
   "metadata": {
    "collapsed": false
   },
   "outputs": [
    {
     "data": {
      "text/html": [
       "<div>\n",
       "<table border=\"1\" class=\"dataframe\">\n",
       "  <thead>\n",
       "    <tr style=\"text-align: right;\">\n",
       "      <th></th>\n",
       "      <th>시군구</th>\n",
       "      <th>전용면적(㎡)</th>\n",
       "      <th>계약년월</th>\n",
       "      <th>거래금액(만원)</th>\n",
       "      <th>층</th>\n",
       "      <th>건축년도</th>\n",
       "    </tr>\n",
       "  </thead>\n",
       "  <tbody>\n",
       "    <tr>\n",
       "      <th>5863875</th>\n",
       "      <td>충청북도 충주시 호암동</td>\n",
       "      <td>59.76</td>\n",
       "      <td>201512</td>\n",
       "      <td>10,500</td>\n",
       "      <td>8</td>\n",
       "      <td>1994.0</td>\n",
       "    </tr>\n",
       "    <tr>\n",
       "      <th>5863876</th>\n",
       "      <td>충청북도 충주시 호암동</td>\n",
       "      <td>59.76</td>\n",
       "      <td>201512</td>\n",
       "      <td>10,200</td>\n",
       "      <td>10</td>\n",
       "      <td>1994.0</td>\n",
       "    </tr>\n",
       "    <tr>\n",
       "      <th>5863877</th>\n",
       "      <td>충청북도 충주시 호암동</td>\n",
       "      <td>84.93</td>\n",
       "      <td>201512</td>\n",
       "      <td>19,700</td>\n",
       "      <td>12</td>\n",
       "      <td>2007.0</td>\n",
       "    </tr>\n",
       "    <tr>\n",
       "      <th>5863878</th>\n",
       "      <td>충청북도 충주시 호암동</td>\n",
       "      <td>84.68</td>\n",
       "      <td>201512</td>\n",
       "      <td>15,900</td>\n",
       "      <td>9</td>\n",
       "      <td>2002.0</td>\n",
       "    </tr>\n",
       "    <tr>\n",
       "      <th>5863879</th>\n",
       "      <td>충청북도 충주시 호암동</td>\n",
       "      <td>84.68</td>\n",
       "      <td>201512</td>\n",
       "      <td>16,000</td>\n",
       "      <td>10</td>\n",
       "      <td>2002.0</td>\n",
       "    </tr>\n",
       "  </tbody>\n",
       "</table>\n",
       "</div>"
      ],
      "text/plain": [
       "                   시군구  전용면적(㎡)    계약년월        거래금액(만원)   층    건축년도\n",
       "5863875   충청북도 충주시 호암동    59.76  201512          10,500   8  1994.0\n",
       "5863876   충청북도 충주시 호암동    59.76  201512          10,200  10  1994.0\n",
       "5863877   충청북도 충주시 호암동    84.93  201512          19,700  12  2007.0\n",
       "5863878   충청북도 충주시 호암동    84.68  201512          15,900   9  2002.0\n",
       "5863879   충청북도 충주시 호암동    84.68  201512          16,000  10  2002.0"
      ]
     },
     "execution_count": 8,
     "metadata": {},
     "output_type": "execute_result"
    }
   ],
   "source": [
    "# see how the data frame has changed\n",
    "df_estate.tail()"
   ]
  },
  {
   "cell_type": "code",
   "execution_count": 9,
   "metadata": {
    "collapsed": true
   },
   "outputs": [],
   "source": [
    "# function to shrink multiple white spaces into a single space\n",
    "def shrink_spaces(address):\n",
    "    return re.sub(u'\\s+', u' ', address)\n",
    "\n",
    "# function that returns the first two words of the string\n",
    "subaddress_regex = re.compile(u'\\S+\\s+\\S+')\n",
    "def shrink_address(address):\n",
    "    return address[:subaddress_regex.search(address).end()]"
   ]
  },
  {
   "cell_type": "code",
   "execution_count": 10,
   "metadata": {
    "collapsed": true
   },
   "outputs": [],
   "source": [
    "# remove whitespaces at the beginning of strings and at the end of strings\n",
    "df_estate[u'시군구'] = df_estate[u'시군구'].str.strip()\n",
    "\n",
    "# shrink multiple white spaces\n",
    "df_estate[u'시군구'] = df_estate[u'시군구'].apply(shrink_spaces)\n",
    "\n",
    "# cut off addresses after the first two words\n",
    "df_estate[u'시군구'] = df_estate[u'시군구'].apply(shrink_address)"
   ]
  },
  {
   "cell_type": "code",
   "execution_count": 11,
   "metadata": {
    "collapsed": true
   },
   "outputs": [],
   "source": [
    "# similar process as above\n",
    "df_address_code[u'행정구역명'] = df_address_code[u'행정구역명'].apply(shrink_spaces)"
   ]
  },
  {
   "cell_type": "code",
   "execution_count": 12,
   "metadata": {
    "collapsed": false
   },
   "outputs": [],
   "source": [
    "# creating a series to map address strings to numeric codes\n",
    "sr_address_code = pd.Series(data=df_address_code.set_index(u'행정구역명')[u'행자부코드'], copy=True)\n",
    "\n",
    "# remove the first occurring duplicates\n",
    "# here we assume the later occurring duplicates correspond to the updated address codes (I'm not 100% sure)\n",
    "sr_address_code = sr_address_code[~sr_address_code.index.duplicated(keep='first')]"
   ]
  },
  {
   "cell_type": "code",
   "execution_count": 13,
   "metadata": {
    "collapsed": false
   },
   "outputs": [
    {
     "data": {
      "text/plain": [
       "행정구역명\n",
       "제주특별자치도 서귀포시 서홍동    5013058000\n",
       "제주특별자치도 서귀포시 대륜동    5013059000\n",
       "제주특별자치도 서귀포시 대천동    5013060000\n",
       "제주특별자치도 서귀포시 중문동    5013061000\n",
       "제주특별자치도 서귀포시 예래동    5013062000\n",
       "Name: 행자부코드, dtype: int64"
      ]
     },
     "execution_count": 13,
     "metadata": {},
     "output_type": "execute_result"
    }
   ],
   "source": [
    "# just checking\n",
    "sr_address_code.tail()"
   ]
  },
  {
   "cell_type": "code",
   "execution_count": 14,
   "metadata": {
    "collapsed": true
   },
   "outputs": [],
   "source": [
    "# now create a column named address code\n",
    "df_estate[u'행자부코드'] = df_estate[u'시군구'].map(sr_address_code)"
   ]
  },
  {
   "cell_type": "code",
   "execution_count": 15,
   "metadata": {
    "collapsed": false
   },
   "outputs": [
    {
     "data": {
      "text/html": [
       "<div>\n",
       "<table border=\"1\" class=\"dataframe\">\n",
       "  <thead>\n",
       "    <tr style=\"text-align: right;\">\n",
       "      <th></th>\n",
       "      <th>시군구</th>\n",
       "      <th>전용면적(㎡)</th>\n",
       "      <th>계약년월</th>\n",
       "      <th>거래금액(만원)</th>\n",
       "      <th>층</th>\n",
       "      <th>건축년도</th>\n",
       "      <th>행자부코드</th>\n",
       "    </tr>\n",
       "  </thead>\n",
       "  <tbody>\n",
       "    <tr>\n",
       "      <th>5863875</th>\n",
       "      <td>충청북도 충주시</td>\n",
       "      <td>59.76</td>\n",
       "      <td>201512</td>\n",
       "      <td>10,500</td>\n",
       "      <td>8</td>\n",
       "      <td>1994.0</td>\n",
       "      <td>4.313000e+09</td>\n",
       "    </tr>\n",
       "    <tr>\n",
       "      <th>5863876</th>\n",
       "      <td>충청북도 충주시</td>\n",
       "      <td>59.76</td>\n",
       "      <td>201512</td>\n",
       "      <td>10,200</td>\n",
       "      <td>10</td>\n",
       "      <td>1994.0</td>\n",
       "      <td>4.313000e+09</td>\n",
       "    </tr>\n",
       "    <tr>\n",
       "      <th>5863877</th>\n",
       "      <td>충청북도 충주시</td>\n",
       "      <td>84.93</td>\n",
       "      <td>201512</td>\n",
       "      <td>19,700</td>\n",
       "      <td>12</td>\n",
       "      <td>2007.0</td>\n",
       "      <td>4.313000e+09</td>\n",
       "    </tr>\n",
       "    <tr>\n",
       "      <th>5863878</th>\n",
       "      <td>충청북도 충주시</td>\n",
       "      <td>84.68</td>\n",
       "      <td>201512</td>\n",
       "      <td>15,900</td>\n",
       "      <td>9</td>\n",
       "      <td>2002.0</td>\n",
       "      <td>4.313000e+09</td>\n",
       "    </tr>\n",
       "    <tr>\n",
       "      <th>5863879</th>\n",
       "      <td>충청북도 충주시</td>\n",
       "      <td>84.68</td>\n",
       "      <td>201512</td>\n",
       "      <td>16,000</td>\n",
       "      <td>10</td>\n",
       "      <td>2002.0</td>\n",
       "      <td>4.313000e+09</td>\n",
       "    </tr>\n",
       "  </tbody>\n",
       "</table>\n",
       "</div>"
      ],
      "text/plain": [
       "              시군구  전용면적(㎡)    계약년월        거래금액(만원)   층    건축년도         행자부코드\n",
       "5863875  충청북도 충주시    59.76  201512          10,500   8  1994.0  4.313000e+09\n",
       "5863876  충청북도 충주시    59.76  201512          10,200  10  1994.0  4.313000e+09\n",
       "5863877  충청북도 충주시    84.93  201512          19,700  12  2007.0  4.313000e+09\n",
       "5863878  충청북도 충주시    84.68  201512          15,900   9  2002.0  4.313000e+09\n",
       "5863879  충청북도 충주시    84.68  201512          16,000  10  2002.0  4.313000e+09"
      ]
     },
     "execution_count": 15,
     "metadata": {},
     "output_type": "execute_result"
    }
   ],
   "source": [
    "# we see below address codes are given float values instead of integer values\n",
    "# this probably means there are some addresses that did not get mapped properly\n",
    "# hence getting assigned nan (float) values\n",
    "df_estate.tail()"
   ]
  },
  {
   "cell_type": "code",
   "execution_count": 16,
   "metadata": {
    "collapsed": false
   },
   "outputs": [
    {
     "data": {
      "text/html": [
       "<div>\n",
       "<table border=\"1\" class=\"dataframe\">\n",
       "  <thead>\n",
       "    <tr style=\"text-align: right;\">\n",
       "      <th></th>\n",
       "      <th>전용면적(㎡)</th>\n",
       "      <th>계약년월</th>\n",
       "      <th>거래금액(만원)</th>\n",
       "      <th>층</th>\n",
       "      <th>건축년도</th>\n",
       "      <th>행자부코드</th>\n",
       "    </tr>\n",
       "    <tr>\n",
       "      <th>시군구</th>\n",
       "      <th></th>\n",
       "      <th></th>\n",
       "      <th></th>\n",
       "      <th></th>\n",
       "      <th></th>\n",
       "      <th></th>\n",
       "    </tr>\n",
       "  </thead>\n",
       "  <tbody>\n",
       "    <tr>\n",
       "      <th>세종특별자치시 고운동</th>\n",
       "      <td>71</td>\n",
       "      <td>71</td>\n",
       "      <td>71</td>\n",
       "      <td>71</td>\n",
       "      <td>71</td>\n",
       "      <td>0</td>\n",
       "    </tr>\n",
       "    <tr>\n",
       "      <th>세종특별자치시 나성동</th>\n",
       "      <td>93</td>\n",
       "      <td>93</td>\n",
       "      <td>93</td>\n",
       "      <td>93</td>\n",
       "      <td>93</td>\n",
       "      <td>0</td>\n",
       "    </tr>\n",
       "    <tr>\n",
       "      <th>세종특별자치시 어진동</th>\n",
       "      <td>139</td>\n",
       "      <td>139</td>\n",
       "      <td>139</td>\n",
       "      <td>139</td>\n",
       "      <td>139</td>\n",
       "      <td>0</td>\n",
       "    </tr>\n",
       "  </tbody>\n",
       "</table>\n",
       "</div>"
      ],
      "text/plain": [
       "             전용면적(㎡)  계약년월  거래금액(만원)    층  건축년도  행자부코드\n",
       "시군구                                                   \n",
       "세종특별자치시 고운동       71    71        71   71    71      0\n",
       "세종특별자치시 나성동       93    93        93   93    93      0\n",
       "세종특별자치시 어진동      139   139       139  139   139      0"
      ]
     },
     "execution_count": 16,
     "metadata": {},
     "output_type": "execute_result"
    }
   ],
   "source": [
    "# we check to see which addresses are not taken care of properly\n",
    "# fortunately, there are only three\n",
    "df_estate[df_estate[u'행자부코드'].isnull()].groupby(u'시군구').count()"
   ]
  },
  {
   "cell_type": "code",
   "execution_count": 18,
   "metadata": {
    "collapsed": false
   },
   "outputs": [],
   "source": [
    "# getting ready to patch things up manually\n",
    "# 고운동, 나성동, 어진동 were all part of 한솔동\n",
    "# moreover, 도담동, 아름동, 종촌동 were all part of 한솔동 until very recently\n",
    "# so we might as well combine everything into one address\n",
    "df_estate[u'시군구'].replace(to_replace=[u'세종특별자치시 고운동', u'세종특별자치시 나성동', u'세종특별자치시 어진동',\n",
    "                                        u'세종특별자치시 도담동', u'세종특별자치시 아름동', u'세종특별자치시 종촌동'],\n",
    "                            value=u'세종특별자치시 한솔동', inplace=True)"
   ]
  },
  {
   "cell_type": "code",
   "execution_count": 19,
   "metadata": {
    "collapsed": true
   },
   "outputs": [],
   "source": [
    "# try mapping string addresses to codes again\n",
    "df_estate[u'행자부코드'] = df_estate[u'시군구'].map(sr_address_code)"
   ]
  },
  {
   "cell_type": "code",
   "execution_count": 20,
   "metadata": {
    "collapsed": false
   },
   "outputs": [
    {
     "data": {
      "text/html": [
       "<div>\n",
       "<table border=\"1\" class=\"dataframe\">\n",
       "  <thead>\n",
       "    <tr style=\"text-align: right;\">\n",
       "      <th></th>\n",
       "      <th>시군구</th>\n",
       "      <th>전용면적(㎡)</th>\n",
       "      <th>계약년월</th>\n",
       "      <th>거래금액(만원)</th>\n",
       "      <th>층</th>\n",
       "      <th>건축년도</th>\n",
       "      <th>행자부코드</th>\n",
       "    </tr>\n",
       "  </thead>\n",
       "  <tbody>\n",
       "    <tr>\n",
       "      <th>5863875</th>\n",
       "      <td>충청북도 충주시</td>\n",
       "      <td>59.76</td>\n",
       "      <td>201512</td>\n",
       "      <td>10,500</td>\n",
       "      <td>8</td>\n",
       "      <td>1994.0</td>\n",
       "      <td>4313000000</td>\n",
       "    </tr>\n",
       "    <tr>\n",
       "      <th>5863876</th>\n",
       "      <td>충청북도 충주시</td>\n",
       "      <td>59.76</td>\n",
       "      <td>201512</td>\n",
       "      <td>10,200</td>\n",
       "      <td>10</td>\n",
       "      <td>1994.0</td>\n",
       "      <td>4313000000</td>\n",
       "    </tr>\n",
       "    <tr>\n",
       "      <th>5863877</th>\n",
       "      <td>충청북도 충주시</td>\n",
       "      <td>84.93</td>\n",
       "      <td>201512</td>\n",
       "      <td>19,700</td>\n",
       "      <td>12</td>\n",
       "      <td>2007.0</td>\n",
       "      <td>4313000000</td>\n",
       "    </tr>\n",
       "    <tr>\n",
       "      <th>5863878</th>\n",
       "      <td>충청북도 충주시</td>\n",
       "      <td>84.68</td>\n",
       "      <td>201512</td>\n",
       "      <td>15,900</td>\n",
       "      <td>9</td>\n",
       "      <td>2002.0</td>\n",
       "      <td>4313000000</td>\n",
       "    </tr>\n",
       "    <tr>\n",
       "      <th>5863879</th>\n",
       "      <td>충청북도 충주시</td>\n",
       "      <td>84.68</td>\n",
       "      <td>201512</td>\n",
       "      <td>16,000</td>\n",
       "      <td>10</td>\n",
       "      <td>2002.0</td>\n",
       "      <td>4313000000</td>\n",
       "    </tr>\n",
       "  </tbody>\n",
       "</table>\n",
       "</div>"
      ],
      "text/plain": [
       "              시군구  전용면적(㎡)    계약년월        거래금액(만원)   층    건축년도       행자부코드\n",
       "5863875  충청북도 충주시    59.76  201512          10,500   8  1994.0  4313000000\n",
       "5863876  충청북도 충주시    59.76  201512          10,200  10  1994.0  4313000000\n",
       "5863877  충청북도 충주시    84.93  201512          19,700  12  2007.0  4313000000\n",
       "5863878  충청북도 충주시    84.68  201512          15,900   9  2002.0  4313000000\n",
       "5863879  충청북도 충주시    84.68  201512          16,000  10  2002.0  4313000000"
      ]
     },
     "execution_count": 20,
     "metadata": {},
     "output_type": "execute_result"
    }
   ],
   "source": [
    "# we see that integer values are assigned this time, so the fix was successful\n",
    "df_estate.tail()"
   ]
  },
  {
   "cell_type": "code",
   "execution_count": 21,
   "metadata": {
    "collapsed": false
   },
   "outputs": [
    {
     "data": {
      "text/html": [
       "<div>\n",
       "<table border=\"1\" class=\"dataframe\">\n",
       "  <thead>\n",
       "    <tr style=\"text-align: right;\">\n",
       "      <th></th>\n",
       "      <th>시군구</th>\n",
       "      <th>전용면적(㎡)</th>\n",
       "      <th>계약년월</th>\n",
       "      <th>거래금액(만원)</th>\n",
       "      <th>층</th>\n",
       "      <th>건축년도</th>\n",
       "      <th>행자부코드</th>\n",
       "    </tr>\n",
       "  </thead>\n",
       "  <tbody>\n",
       "    <tr>\n",
       "      <th>234524</th>\n",
       "      <td>경기도 안양시</td>\n",
       "      <td>52.92</td>\n",
       "      <td>200606</td>\n",
       "      <td>12,000</td>\n",
       "      <td>6</td>\n",
       "      <td>NaN</td>\n",
       "      <td>4117000000</td>\n",
       "    </tr>\n",
       "    <tr>\n",
       "      <th>234525</th>\n",
       "      <td>경기도 안양시</td>\n",
       "      <td>52.92</td>\n",
       "      <td>200606</td>\n",
       "      <td>11,000</td>\n",
       "      <td>4</td>\n",
       "      <td>NaN</td>\n",
       "      <td>4117000000</td>\n",
       "    </tr>\n",
       "    <tr>\n",
       "      <th>356846</th>\n",
       "      <td>경기도 안양시</td>\n",
       "      <td>52.92</td>\n",
       "      <td>200609</td>\n",
       "      <td>12,400</td>\n",
       "      <td>6</td>\n",
       "      <td>NaN</td>\n",
       "      <td>4117000000</td>\n",
       "    </tr>\n",
       "    <tr>\n",
       "      <th>1459878</th>\n",
       "      <td>세종특별자치시 조치원읍</td>\n",
       "      <td>66.68</td>\n",
       "      <td>200807</td>\n",
       "      <td>5,500</td>\n",
       "      <td>4</td>\n",
       "      <td>NaN</td>\n",
       "      <td>3611025000</td>\n",
       "    </tr>\n",
       "  </tbody>\n",
       "</table>\n",
       "</div>"
      ],
      "text/plain": [
       "                  시군구  전용면적(㎡)    계약년월        거래금액(만원)  층  건축년도       행자부코드\n",
       "234524        경기도 안양시    52.92  200606          12,000  6   NaN  4117000000\n",
       "234525        경기도 안양시    52.92  200606          11,000  4   NaN  4117000000\n",
       "356846        경기도 안양시    52.92  200609          12,400  6   NaN  4117000000\n",
       "1459878  세종특별자치시 조치원읍    66.68  200807           5,500  4   NaN  3611025000"
      ]
     },
     "execution_count": 21,
     "metadata": {},
     "output_type": "execute_result"
    }
   ],
   "source": [
    "# as year built is also of float type, we perform another sanity check\n",
    "# again, fortunately, there are only four\n",
    "df_estate[df_estate[u'건축년도'].isnull()]"
   ]
  },
  {
   "cell_type": "code",
   "execution_count": 22,
   "metadata": {
    "collapsed": false
   },
   "outputs": [],
   "source": [
    "# after some investigation, apartments indexed at 234524, 234525, and 356846 can be\n",
    "# reasonably assumed to be a part of the apartment complex called 태하\n",
    "# we also drop a single row which cannot be identified\n",
    "df_estate.loc[[234524, 234525, 356846], u'건축년도'] = 1987\n",
    "df_estate.drop(1459878, inplace=True)"
   ]
  },
  {
   "cell_type": "code",
   "execution_count": 23,
   "metadata": {
    "collapsed": false,
    "scrolled": true
   },
   "outputs": [
    {
     "data": {
      "text/plain": [
       "False"
      ]
     },
     "execution_count": 23,
     "metadata": {},
     "output_type": "execute_result"
    }
   ],
   "source": [
    "# one last sanity check\n",
    "df_estate.isnull().values.any()"
   ]
  },
  {
   "cell_type": "code",
   "execution_count": 24,
   "metadata": {
    "collapsed": false
   },
   "outputs": [],
   "source": [
    "# convert years built to integer to save some space\n",
    "df_estate[u'건축년도'] = df_estate[u'건축년도'].astype(int)"
   ]
  },
  {
   "cell_type": "code",
   "execution_count": 28,
   "metadata": {
    "collapsed": false
   },
   "outputs": [],
   "source": [
    "# further shorten address code to 5 digits\n",
    "df_estate[u'행자부코드'] = df_estate[u'행자부코드'] // 100000"
   ]
  },
  {
   "cell_type": "code",
   "execution_count": 29,
   "metadata": {
    "collapsed": false
   },
   "outputs": [],
   "source": [
    "# export to a new file\n",
    "df_estate.to_csv(path + 'real_estate_short.csv', index=False, encoding='utf-8')"
   ]
  },
  {
   "cell_type": "code",
   "execution_count": null,
   "metadata": {
    "collapsed": false
   },
   "outputs": [],
   "source": []
  }
 ],
 "metadata": {
  "kernelspec": {
   "display_name": "Python 2",
   "language": "python",
   "name": "python2"
  },
  "language_info": {
   "codemirror_mode": {
    "name": "ipython",
    "version": 2
   },
   "file_extension": ".py",
   "mimetype": "text/x-python",
   "name": "python",
   "nbconvert_exporter": "python",
   "pygments_lexer": "ipython2",
   "version": "2.7.13"
  }
 },
 "nbformat": 4,
 "nbformat_minor": 2
}
