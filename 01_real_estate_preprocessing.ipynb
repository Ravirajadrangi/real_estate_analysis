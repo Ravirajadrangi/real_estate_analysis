{
 "cells": [
  {
   "cell_type": "markdown",
   "metadata": {},
   "source": [
    "# Part 01\n",
    "----\n",
    "아파트 매매 데이터에서 불필요한 칼럼들을 제거한 뒤 추후 인구이동 데이터와 비교분석을 위해 주소 간략화 및 행자부코드를 부여한다.\n",
    "\n",
    "행자부코드 목록에 명기된 주소보다 아파트 매매 데이터에는 더 상세히 기술되어 있어 주소 문자열을 처음 두 단어 기준으로 간략화 시켰다. 따라서 일반적으로 대도시인 특별 행정구역의 경우 시+구의 단위로 쓰이게 되며 그 외에는 도+시 단위로 쓰이게 된다.\n",
    "\n",
    "세종특별시의 경우 생긴지 얼마 안된 이유로 잦은 행정구역의 변화가 있었기에 임의로 이전 행정구역을 사용하도록 수정을 한다.\n",
    "\n",
    "마지막으로 건축년도가 null값으로 되어있는 데이터 역시 수정을 가해 null값이 없는 깨끗한 데이터셋을 만든다."
   ]
  },
  {
   "cell_type": "code",
   "execution_count": 1,
   "metadata": {
    "collapsed": true
   },
   "outputs": [],
   "source": [
    "%matplotlib inline\n",
    "import re"
   ]
  },
  {
   "cell_type": "code",
   "execution_count": 2,
   "metadata": {
    "collapsed": true
   },
   "outputs": [],
   "source": [
    "# set path and read files\n",
    "path = 'raw_data\\\\'\n",
    "df_estate = pd.read_csv(path + 'real_estate_2006_2015.csv', encoding='utf-8')\n",
    "df_address_code = pd.read_excel(path + 'address_code.xlsx', header=2)"
   ]
  },
  {
   "cell_type": "code",
   "execution_count": 3,
   "metadata": {},
   "outputs": [
    {
     "data": {
      "text/html": [
       "<div>\n",
       "<style>\n",
       "    .dataframe thead tr:only-child th {\n",
       "        text-align: right;\n",
       "    }\n",
       "\n",
       "    .dataframe thead th {\n",
       "        text-align: left;\n",
       "    }\n",
       "\n",
       "    .dataframe tbody tr th {\n",
       "        vertical-align: top;\n",
       "    }\n",
       "</style>\n",
       "<table border=\"1\" class=\"dataframe\">\n",
       "  <thead>\n",
       "    <tr style=\"text-align: right;\">\n",
       "      <th></th>\n",
       "      <th>시군구</th>\n",
       "      <th>번지</th>\n",
       "      <th>본번</th>\n",
       "      <th>부번</th>\n",
       "      <th>단지명</th>\n",
       "      <th>전용면적(㎡)</th>\n",
       "      <th>계약년월</th>\n",
       "      <th>계약일</th>\n",
       "      <th>거래금액(만원)</th>\n",
       "      <th>층</th>\n",
       "      <th>건축년도</th>\n",
       "      <th>도로명</th>\n",
       "    </tr>\n",
       "  </thead>\n",
       "  <tbody>\n",
       "    <tr>\n",
       "      <th>5863875</th>\n",
       "      <td>충청북도 충주시 호암동</td>\n",
       "      <td>547-6</td>\n",
       "      <td>547</td>\n",
       "      <td>6</td>\n",
       "      <td>호반현대</td>\n",
       "      <td>59.76</td>\n",
       "      <td>201512</td>\n",
       "      <td>21~31</td>\n",
       "      <td>10,500</td>\n",
       "      <td>8</td>\n",
       "      <td>1994.0</td>\n",
       "      <td>신촌2길</td>\n",
       "    </tr>\n",
       "    <tr>\n",
       "      <th>5863876</th>\n",
       "      <td>충청북도 충주시 호암동</td>\n",
       "      <td>547-6</td>\n",
       "      <td>547</td>\n",
       "      <td>6</td>\n",
       "      <td>호반현대</td>\n",
       "      <td>59.76</td>\n",
       "      <td>201512</td>\n",
       "      <td>21~31</td>\n",
       "      <td>10,200</td>\n",
       "      <td>10</td>\n",
       "      <td>1994.0</td>\n",
       "      <td>신촌2길</td>\n",
       "    </tr>\n",
       "    <tr>\n",
       "      <th>5863877</th>\n",
       "      <td>충청북도 충주시 호암동</td>\n",
       "      <td>905</td>\n",
       "      <td>905</td>\n",
       "      <td>0</td>\n",
       "      <td>호암동수채</td>\n",
       "      <td>84.93</td>\n",
       "      <td>201512</td>\n",
       "      <td>11~20</td>\n",
       "      <td>19,700</td>\n",
       "      <td>12</td>\n",
       "      <td>2007.0</td>\n",
       "      <td>호암중앙1로</td>\n",
       "    </tr>\n",
       "    <tr>\n",
       "      <th>5863878</th>\n",
       "      <td>충청북도 충주시 호암동</td>\n",
       "      <td>221-23</td>\n",
       "      <td>221</td>\n",
       "      <td>23</td>\n",
       "      <td>호암리버빌(1단지)</td>\n",
       "      <td>84.68</td>\n",
       "      <td>201512</td>\n",
       "      <td>11~20</td>\n",
       "      <td>15,900</td>\n",
       "      <td>9</td>\n",
       "      <td>2002.0</td>\n",
       "      <td>원호암5길</td>\n",
       "    </tr>\n",
       "    <tr>\n",
       "      <th>5863879</th>\n",
       "      <td>충청북도 충주시 호암동</td>\n",
       "      <td>221-1</td>\n",
       "      <td>221</td>\n",
       "      <td>1</td>\n",
       "      <td>호암리버빌(2단지)</td>\n",
       "      <td>84.68</td>\n",
       "      <td>201512</td>\n",
       "      <td>11~20</td>\n",
       "      <td>16,000</td>\n",
       "      <td>10</td>\n",
       "      <td>2002.0</td>\n",
       "      <td>호암중앙2로</td>\n",
       "    </tr>\n",
       "  </tbody>\n",
       "</table>\n",
       "</div>"
      ],
      "text/plain": [
       "                   시군구      번지   본번  부번         단지명  전용면적(㎡)    계약년월    계약일  \\\n",
       "5863875   충청북도 충주시 호암동   547-6  547   6        호반현대    59.76  201512  21~31   \n",
       "5863876   충청북도 충주시 호암동   547-6  547   6        호반현대    59.76  201512  21~31   \n",
       "5863877   충청북도 충주시 호암동     905  905   0       호암동수채    84.93  201512  11~20   \n",
       "5863878   충청북도 충주시 호암동  221-23  221  23  호암리버빌(1단지)    84.68  201512  11~20   \n",
       "5863879   충청북도 충주시 호암동   221-1  221   1  호암리버빌(2단지)    84.68  201512  11~20   \n",
       "\n",
       "               거래금액(만원)   층    건축년도     도로명  \n",
       "5863875          10,500   8  1994.0    신촌2길  \n",
       "5863876          10,200  10  1994.0    신촌2길  \n",
       "5863877          19,700  12  2007.0  호암중앙1로  \n",
       "5863878          15,900   9  2002.0   원호암5길  \n",
       "5863879          16,000  10  2002.0  호암중앙2로  "
      ]
     },
     "execution_count": 3,
     "metadata": {},
     "output_type": "execute_result"
    }
   ],
   "source": [
    "# have a quick glance\n",
    "df_estate.tail()"
   ]
  },
  {
   "cell_type": "code",
   "execution_count": 4,
   "metadata": {
    "collapsed": true
   },
   "outputs": [],
   "source": [
    "# rename columns into english\n",
    "estate_column_dic = {\n",
    "    '시군구': 'address',\n",
    "    '번지': 'block',\n",
    "    '본번': 'block_main',\n",
    "    '부번': 'block_sub',\n",
    "    '단지명': 'apt',\n",
    "    '전용면적(㎡)': 'area',\n",
    "    '계약년월': 'year_month',\n",
    "    '계약일': 'day',\n",
    "    '거래금액(만원)': 'price',\n",
    "    '층': 'floor',\n",
    "    '건축년도': 'built',\n",
    "    '도로명': 'street'\n",
    "}"
   ]
  },
  {
   "cell_type": "code",
   "execution_count": 5,
   "metadata": {
    "collapsed": true
   },
   "outputs": [],
   "source": [
    "# rename column names into English\n",
    "df_estate.rename(columns=estate_column_dic, inplace=True)"
   ]
  },
  {
   "cell_type": "code",
   "execution_count": 6,
   "metadata": {
    "collapsed": true
   },
   "outputs": [],
   "source": [
    "# list of columns that we will keep\n",
    "df_columns = ['address', 'area', 'year_month', 'price', 'built']"
   ]
  },
  {
   "cell_type": "code",
   "execution_count": 7,
   "metadata": {
    "collapsed": true
   },
   "outputs": [],
   "source": [
    "# drop all columns we don't need\n",
    "df_estate = df_estate[df_columns]"
   ]
  },
  {
   "cell_type": "code",
   "execution_count": 8,
   "metadata": {},
   "outputs": [
    {
     "data": {
      "text/html": [
       "<div>\n",
       "<style>\n",
       "    .dataframe thead tr:only-child th {\n",
       "        text-align: right;\n",
       "    }\n",
       "\n",
       "    .dataframe thead th {\n",
       "        text-align: left;\n",
       "    }\n",
       "\n",
       "    .dataframe tbody tr th {\n",
       "        vertical-align: top;\n",
       "    }\n",
       "</style>\n",
       "<table border=\"1\" class=\"dataframe\">\n",
       "  <thead>\n",
       "    <tr style=\"text-align: right;\">\n",
       "      <th></th>\n",
       "      <th>address</th>\n",
       "      <th>area</th>\n",
       "      <th>year_month</th>\n",
       "      <th>price</th>\n",
       "      <th>built</th>\n",
       "    </tr>\n",
       "  </thead>\n",
       "  <tbody>\n",
       "    <tr>\n",
       "      <th>0</th>\n",
       "      <td>세종특별자치시 금남면 용포리</td>\n",
       "      <td>43.01</td>\n",
       "      <td>200601</td>\n",
       "      <td>4,520</td>\n",
       "      <td>2000.0</td>\n",
       "    </tr>\n",
       "    <tr>\n",
       "      <th>1</th>\n",
       "      <td>세종특별자치시 금남면 용포리</td>\n",
       "      <td>43.01</td>\n",
       "      <td>200601</td>\n",
       "      <td>4,495</td>\n",
       "      <td>2000.0</td>\n",
       "    </tr>\n",
       "    <tr>\n",
       "      <th>2</th>\n",
       "      <td>세종특별자치시 금남면 용포리</td>\n",
       "      <td>43.01</td>\n",
       "      <td>200601</td>\n",
       "      <td>4,495</td>\n",
       "      <td>2000.0</td>\n",
       "    </tr>\n",
       "    <tr>\n",
       "      <th>3</th>\n",
       "      <td>세종특별자치시 금남면 용포리</td>\n",
       "      <td>43.01</td>\n",
       "      <td>200601</td>\n",
       "      <td>4,520</td>\n",
       "      <td>2000.0</td>\n",
       "    </tr>\n",
       "    <tr>\n",
       "      <th>4</th>\n",
       "      <td>세종특별자치시 금남면 용포리</td>\n",
       "      <td>43.01</td>\n",
       "      <td>200601</td>\n",
       "      <td>4,520</td>\n",
       "      <td>2000.0</td>\n",
       "    </tr>\n",
       "  </tbody>\n",
       "</table>\n",
       "</div>"
      ],
      "text/plain": [
       "             address   area  year_month           price   built\n",
       "0    세종특별자치시 금남면 용포리  43.01      200601           4,520  2000.0\n",
       "1    세종특별자치시 금남면 용포리  43.01      200601           4,495  2000.0\n",
       "2    세종특별자치시 금남면 용포리  43.01      200601           4,495  2000.0\n",
       "3    세종특별자치시 금남면 용포리  43.01      200601           4,520  2000.0\n",
       "4    세종특별자치시 금남면 용포리  43.01      200601           4,520  2000.0"
      ]
     },
     "execution_count": 8,
     "metadata": {},
     "output_type": "execute_result"
    }
   ],
   "source": [
    "df_estate.head()"
   ]
  },
  {
   "cell_type": "code",
   "execution_count": 9,
   "metadata": {
    "collapsed": true
   },
   "outputs": [],
   "source": [
    "# convert prices into integer type\n",
    "df_estate.price = df_estate.price.str.replace(',', '').astype(int)"
   ]
  },
  {
   "cell_type": "code",
   "execution_count": 10,
   "metadata": {
    "collapsed": true
   },
   "outputs": [],
   "source": [
    "# we split up year and month sold to separate columns\n",
    "df_estate['year'] = df_estate.year_month // 100\n",
    "df_estate['month'] = df_estate.year_month % 100\n",
    "df_estate.drop('year_month', axis=1, inplace=True)"
   ]
  },
  {
   "cell_type": "code",
   "execution_count": 11,
   "metadata": {},
   "outputs": [
    {
     "data": {
      "text/html": [
       "<div>\n",
       "<style>\n",
       "    .dataframe thead tr:only-child th {\n",
       "        text-align: right;\n",
       "    }\n",
       "\n",
       "    .dataframe thead th {\n",
       "        text-align: left;\n",
       "    }\n",
       "\n",
       "    .dataframe tbody tr th {\n",
       "        vertical-align: top;\n",
       "    }\n",
       "</style>\n",
       "<table border=\"1\" class=\"dataframe\">\n",
       "  <thead>\n",
       "    <tr style=\"text-align: right;\">\n",
       "      <th></th>\n",
       "      <th>address</th>\n",
       "      <th>area</th>\n",
       "      <th>price</th>\n",
       "      <th>built</th>\n",
       "      <th>year</th>\n",
       "      <th>month</th>\n",
       "    </tr>\n",
       "  </thead>\n",
       "  <tbody>\n",
       "    <tr>\n",
       "      <th>234524</th>\n",
       "      <td>경기도 안양시 동안구 호계동</td>\n",
       "      <td>52.92</td>\n",
       "      <td>12000</td>\n",
       "      <td>NaN</td>\n",
       "      <td>2006</td>\n",
       "      <td>6</td>\n",
       "    </tr>\n",
       "    <tr>\n",
       "      <th>234525</th>\n",
       "      <td>경기도 안양시 동안구 호계동</td>\n",
       "      <td>52.92</td>\n",
       "      <td>11000</td>\n",
       "      <td>NaN</td>\n",
       "      <td>2006</td>\n",
       "      <td>6</td>\n",
       "    </tr>\n",
       "    <tr>\n",
       "      <th>356846</th>\n",
       "      <td>경기도 안양시 동안구 호계동</td>\n",
       "      <td>52.92</td>\n",
       "      <td>12400</td>\n",
       "      <td>NaN</td>\n",
       "      <td>2006</td>\n",
       "      <td>9</td>\n",
       "    </tr>\n",
       "    <tr>\n",
       "      <th>1459878</th>\n",
       "      <td>세종특별자치시 조치원읍 교리</td>\n",
       "      <td>66.68</td>\n",
       "      <td>5500</td>\n",
       "      <td>NaN</td>\n",
       "      <td>2008</td>\n",
       "      <td>7</td>\n",
       "    </tr>\n",
       "  </tbody>\n",
       "</table>\n",
       "</div>"
      ],
      "text/plain": [
       "                   address   area  price  built  year  month\n",
       "234524     경기도 안양시 동안구 호계동  52.92  12000    NaN  2006      6\n",
       "234525     경기도 안양시 동안구 호계동  52.92  11000    NaN  2006      6\n",
       "356846     경기도 안양시 동안구 호계동  52.92  12400    NaN  2006      9\n",
       "1459878    세종특별자치시 조치원읍 교리  66.68   5500    NaN  2008      7"
      ]
     },
     "execution_count": 11,
     "metadata": {},
     "output_type": "execute_result"
    }
   ],
   "source": [
    "# as year built is of float type, we perform a sanity check\n",
    "# fortunately, there are only four with missing values\n",
    "df_estate[df_estate.built.isnull()]"
   ]
  },
  {
   "cell_type": "code",
   "execution_count": 12,
   "metadata": {
    "collapsed": true
   },
   "outputs": [],
   "source": [
    "# one apartment can be reasonably assumed to be a part of the apartment complex called 태하\n",
    "df_estate.loc[df_estate[df_estate.built.isnull()].index[:-1], 'built'] = 1987\n",
    "\n",
    "# we also drop a single row which cannot be identified\n",
    "df_estate = df_estate.loc[~df_estate.built.isnull()]"
   ]
  },
  {
   "cell_type": "code",
   "execution_count": 13,
   "metadata": {},
   "outputs": [
    {
     "data": {
      "text/html": [
       "<div>\n",
       "<style>\n",
       "    .dataframe thead tr:only-child th {\n",
       "        text-align: right;\n",
       "    }\n",
       "\n",
       "    .dataframe thead th {\n",
       "        text-align: left;\n",
       "    }\n",
       "\n",
       "    .dataframe tbody tr th {\n",
       "        vertical-align: top;\n",
       "    }\n",
       "</style>\n",
       "<table border=\"1\" class=\"dataframe\">\n",
       "  <thead>\n",
       "    <tr style=\"text-align: right;\">\n",
       "      <th></th>\n",
       "      <th>address</th>\n",
       "      <th>area</th>\n",
       "      <th>price</th>\n",
       "      <th>built</th>\n",
       "      <th>year</th>\n",
       "      <th>month</th>\n",
       "    </tr>\n",
       "  </thead>\n",
       "  <tbody>\n",
       "    <tr>\n",
       "      <th>101805</th>\n",
       "      <td>대전광역시 서구 괴정동</td>\n",
       "      <td>49.68</td>\n",
       "      <td>3500</td>\n",
       "      <td>0.0</td>\n",
       "      <td>2006</td>\n",
       "      <td>3</td>\n",
       "    </tr>\n",
       "    <tr>\n",
       "      <th>968679</th>\n",
       "      <td>대전광역시 서구 괴정동</td>\n",
       "      <td>49.68</td>\n",
       "      <td>3700</td>\n",
       "      <td>0.0</td>\n",
       "      <td>2007</td>\n",
       "      <td>9</td>\n",
       "    </tr>\n",
       "    <tr>\n",
       "      <th>1195861</th>\n",
       "      <td>대전광역시 서구 괴정동</td>\n",
       "      <td>49.68</td>\n",
       "      <td>4000</td>\n",
       "      <td>0.0</td>\n",
       "      <td>2008</td>\n",
       "      <td>2</td>\n",
       "    </tr>\n",
       "    <tr>\n",
       "      <th>1195862</th>\n",
       "      <td>대전광역시 서구 괴정동</td>\n",
       "      <td>49.68</td>\n",
       "      <td>4200</td>\n",
       "      <td>0.0</td>\n",
       "      <td>2008</td>\n",
       "      <td>2</td>\n",
       "    </tr>\n",
       "    <tr>\n",
       "      <th>1317092</th>\n",
       "      <td>대전광역시 서구 괴정동</td>\n",
       "      <td>49.68</td>\n",
       "      <td>5000</td>\n",
       "      <td>0.0</td>\n",
       "      <td>2008</td>\n",
       "      <td>4</td>\n",
       "    </tr>\n",
       "  </tbody>\n",
       "</table>\n",
       "</div>"
      ],
      "text/plain": [
       "               address   area  price  built  year  month\n",
       "101805    대전광역시 서구 괴정동  49.68   3500    0.0  2006      3\n",
       "968679    대전광역시 서구 괴정동  49.68   3700    0.0  2007      9\n",
       "1195861   대전광역시 서구 괴정동  49.68   4000    0.0  2008      2\n",
       "1195862   대전광역시 서구 괴정동  49.68   4200    0.0  2008      2\n",
       "1317092   대전광역시 서구 괴정동  49.68   5000    0.0  2008      4"
      ]
     },
     "execution_count": 13,
     "metadata": {},
     "output_type": "execute_result"
    }
   ],
   "source": [
    "# there is one apartment with built year set to zero\n",
    "df_estate[df_estate.built == 0].head()"
   ]
  },
  {
   "cell_type": "code",
   "execution_count": 14,
   "metadata": {
    "collapsed": true
   },
   "outputs": [],
   "source": [
    "# after some investigation, we set this to 1976 and convert the column into integer type\n",
    "df_estate.loc[df_estate.built == 0, 'built'] = 1976\n",
    "df_estate.built = df_estate.built.astype(int)"
   ]
  },
  {
   "cell_type": "code",
   "execution_count": 15,
   "metadata": {},
   "outputs": [
    {
     "data": {
      "text/html": [
       "<div>\n",
       "<style>\n",
       "    .dataframe thead tr:only-child th {\n",
       "        text-align: right;\n",
       "    }\n",
       "\n",
       "    .dataframe thead th {\n",
       "        text-align: left;\n",
       "    }\n",
       "\n",
       "    .dataframe tbody tr th {\n",
       "        vertical-align: top;\n",
       "    }\n",
       "</style>\n",
       "<table border=\"1\" class=\"dataframe\">\n",
       "  <thead>\n",
       "    <tr style=\"text-align: right;\">\n",
       "      <th></th>\n",
       "      <th>address</th>\n",
       "      <th>area</th>\n",
       "      <th>price</th>\n",
       "      <th>built</th>\n",
       "      <th>year</th>\n",
       "      <th>month</th>\n",
       "    </tr>\n",
       "  </thead>\n",
       "  <tbody>\n",
       "    <tr>\n",
       "      <th>0</th>\n",
       "      <td>세종특별자치시 금남면 용포리</td>\n",
       "      <td>43.01</td>\n",
       "      <td>4520</td>\n",
       "      <td>2000</td>\n",
       "      <td>2006</td>\n",
       "      <td>1</td>\n",
       "    </tr>\n",
       "    <tr>\n",
       "      <th>1</th>\n",
       "      <td>세종특별자치시 금남면 용포리</td>\n",
       "      <td>43.01</td>\n",
       "      <td>4495</td>\n",
       "      <td>2000</td>\n",
       "      <td>2006</td>\n",
       "      <td>1</td>\n",
       "    </tr>\n",
       "    <tr>\n",
       "      <th>2</th>\n",
       "      <td>세종특별자치시 금남면 용포리</td>\n",
       "      <td>43.01</td>\n",
       "      <td>4495</td>\n",
       "      <td>2000</td>\n",
       "      <td>2006</td>\n",
       "      <td>1</td>\n",
       "    </tr>\n",
       "    <tr>\n",
       "      <th>3</th>\n",
       "      <td>세종특별자치시 금남면 용포리</td>\n",
       "      <td>43.01</td>\n",
       "      <td>4520</td>\n",
       "      <td>2000</td>\n",
       "      <td>2006</td>\n",
       "      <td>1</td>\n",
       "    </tr>\n",
       "    <tr>\n",
       "      <th>4</th>\n",
       "      <td>세종특별자치시 금남면 용포리</td>\n",
       "      <td>43.01</td>\n",
       "      <td>4520</td>\n",
       "      <td>2000</td>\n",
       "      <td>2006</td>\n",
       "      <td>1</td>\n",
       "    </tr>\n",
       "  </tbody>\n",
       "</table>\n",
       "</div>"
      ],
      "text/plain": [
       "             address   area  price  built  year  month\n",
       "0    세종특별자치시 금남면 용포리  43.01   4520   2000  2006      1\n",
       "1    세종특별자치시 금남면 용포리  43.01   4495   2000  2006      1\n",
       "2    세종특별자치시 금남면 용포리  43.01   4495   2000  2006      1\n",
       "3    세종특별자치시 금남면 용포리  43.01   4520   2000  2006      1\n",
       "4    세종특별자치시 금남면 용포리  43.01   4520   2000  2006      1"
      ]
     },
     "execution_count": 15,
     "metadata": {},
     "output_type": "execute_result"
    }
   ],
   "source": [
    "# check the changes made\n",
    "df_estate.head()"
   ]
  },
  {
   "cell_type": "code",
   "execution_count": 16,
   "metadata": {
    "collapsed": true
   },
   "outputs": [],
   "source": [
    "# from here, we try to convert address texts to area codes"
   ]
  },
  {
   "cell_type": "code",
   "execution_count": 17,
   "metadata": {
    "collapsed": true
   },
   "outputs": [],
   "source": [
    "# function that returns the first word or two words of the string\n",
    "subaddress_regex = re.compile(u'(\\S+\\s|\\S+)\\s*(\\S*)')\n",
    "def shrink_address(address):\n",
    "    return ''.join(subaddress_regex.search(address).groups())"
   ]
  },
  {
   "cell_type": "code",
   "execution_count": 18,
   "metadata": {
    "collapsed": true
   },
   "outputs": [],
   "source": [
    "# remove whitespaces at the beginning of strings and at the end of strings,\n",
    "# shrink multiple white spaces, and cut off addresses after the first two words\n",
    "df_estate.address = df_estate.address.apply(shrink_address)"
   ]
  },
  {
   "cell_type": "code",
   "execution_count": 19,
   "metadata": {},
   "outputs": [
    {
     "data": {
      "text/html": [
       "<div>\n",
       "<style>\n",
       "    .dataframe thead tr:only-child th {\n",
       "        text-align: right;\n",
       "    }\n",
       "\n",
       "    .dataframe thead th {\n",
       "        text-align: left;\n",
       "    }\n",
       "\n",
       "    .dataframe tbody tr th {\n",
       "        vertical-align: top;\n",
       "    }\n",
       "</style>\n",
       "<table border=\"1\" class=\"dataframe\">\n",
       "  <thead>\n",
       "    <tr style=\"text-align: right;\">\n",
       "      <th></th>\n",
       "      <th>address</th>\n",
       "      <th>area</th>\n",
       "      <th>price</th>\n",
       "      <th>built</th>\n",
       "      <th>year</th>\n",
       "      <th>month</th>\n",
       "    </tr>\n",
       "  </thead>\n",
       "  <tbody>\n",
       "    <tr>\n",
       "      <th>0</th>\n",
       "      <td>세종특별자치시 금남면</td>\n",
       "      <td>43.01</td>\n",
       "      <td>4520</td>\n",
       "      <td>2000</td>\n",
       "      <td>2006</td>\n",
       "      <td>1</td>\n",
       "    </tr>\n",
       "    <tr>\n",
       "      <th>1</th>\n",
       "      <td>세종특별자치시 금남면</td>\n",
       "      <td>43.01</td>\n",
       "      <td>4495</td>\n",
       "      <td>2000</td>\n",
       "      <td>2006</td>\n",
       "      <td>1</td>\n",
       "    </tr>\n",
       "    <tr>\n",
       "      <th>2</th>\n",
       "      <td>세종특별자치시 금남면</td>\n",
       "      <td>43.01</td>\n",
       "      <td>4495</td>\n",
       "      <td>2000</td>\n",
       "      <td>2006</td>\n",
       "      <td>1</td>\n",
       "    </tr>\n",
       "    <tr>\n",
       "      <th>3</th>\n",
       "      <td>세종특별자치시 금남면</td>\n",
       "      <td>43.01</td>\n",
       "      <td>4520</td>\n",
       "      <td>2000</td>\n",
       "      <td>2006</td>\n",
       "      <td>1</td>\n",
       "    </tr>\n",
       "    <tr>\n",
       "      <th>4</th>\n",
       "      <td>세종특별자치시 금남면</td>\n",
       "      <td>43.01</td>\n",
       "      <td>4520</td>\n",
       "      <td>2000</td>\n",
       "      <td>2006</td>\n",
       "      <td>1</td>\n",
       "    </tr>\n",
       "  </tbody>\n",
       "</table>\n",
       "</div>"
      ],
      "text/plain": [
       "       address   area  price  built  year  month\n",
       "0  세종특별자치시 금남면  43.01   4520   2000  2006      1\n",
       "1  세종특별자치시 금남면  43.01   4495   2000  2006      1\n",
       "2  세종특별자치시 금남면  43.01   4495   2000  2006      1\n",
       "3  세종특별자치시 금남면  43.01   4520   2000  2006      1\n",
       "4  세종특별자치시 금남면  43.01   4520   2000  2006      1"
      ]
     },
     "execution_count": 19,
     "metadata": {},
     "output_type": "execute_result"
    }
   ],
   "source": [
    "df_estate.head()"
   ]
  },
  {
   "cell_type": "code",
   "execution_count": null,
   "metadata": {
    "collapsed": true
   },
   "outputs": [],
   "source": []
  },
  {
   "cell_type": "code",
   "execution_count": 20,
   "metadata": {
    "collapsed": true
   },
   "outputs": [],
   "source": [
    "# similar process as above\n",
    "df_address_code['address'] = df_address_code['행정구역명'].apply(shrink_address)"
   ]
  },
  {
   "cell_type": "code",
   "execution_count": 21,
   "metadata": {
    "collapsed": true
   },
   "outputs": [],
   "source": [
    "df_address_code['area_code'] = df_address_code['행자부코드'] // 100000"
   ]
  },
  {
   "cell_type": "code",
   "execution_count": 22,
   "metadata": {
    "collapsed": true
   },
   "outputs": [],
   "source": [
    "# as we have both shortened address texts and area codes,\n",
    "# we get duplicates in both columns\n",
    "# when creating maps, we only take the first among the duplicates"
   ]
  },
  {
   "cell_type": "code",
   "execution_count": 23,
   "metadata": {
    "collapsed": true
   },
   "outputs": [],
   "source": [
    "df_code_to_address = df_address_code[['address', 'area_code']] \\\n",
    "    .drop_duplicates(subset='area_code', keep='first').set_index('area_code')"
   ]
  },
  {
   "cell_type": "code",
   "execution_count": 24,
   "metadata": {
    "collapsed": true
   },
   "outputs": [],
   "source": [
    "df_address_to_code = df_address_code[['address', 'area_code']] \\\n",
    "    .drop_duplicates(subset='address', keep='first').set_index('address')"
   ]
  },
  {
   "cell_type": "code",
   "execution_count": 25,
   "metadata": {
    "collapsed": true
   },
   "outputs": [],
   "source": [
    "# now create a column named area code\n",
    "df_estate['area_code'] = df_estate.address.map(df_address_to_code.area_code)"
   ]
  },
  {
   "cell_type": "code",
   "execution_count": 26,
   "metadata": {},
   "outputs": [
    {
     "data": {
      "text/html": [
       "<div>\n",
       "<style>\n",
       "    .dataframe thead tr:only-child th {\n",
       "        text-align: right;\n",
       "    }\n",
       "\n",
       "    .dataframe thead th {\n",
       "        text-align: left;\n",
       "    }\n",
       "\n",
       "    .dataframe tbody tr th {\n",
       "        vertical-align: top;\n",
       "    }\n",
       "</style>\n",
       "<table border=\"1\" class=\"dataframe\">\n",
       "  <thead>\n",
       "    <tr style=\"text-align: right;\">\n",
       "      <th></th>\n",
       "      <th>address</th>\n",
       "      <th>area</th>\n",
       "      <th>price</th>\n",
       "      <th>built</th>\n",
       "      <th>year</th>\n",
       "      <th>month</th>\n",
       "      <th>area_code</th>\n",
       "    </tr>\n",
       "  </thead>\n",
       "  <tbody>\n",
       "    <tr>\n",
       "      <th>5863875</th>\n",
       "      <td>충청북도 충주시</td>\n",
       "      <td>59.76</td>\n",
       "      <td>10500</td>\n",
       "      <td>1994</td>\n",
       "      <td>2015</td>\n",
       "      <td>12</td>\n",
       "      <td>43130.0</td>\n",
       "    </tr>\n",
       "    <tr>\n",
       "      <th>5863876</th>\n",
       "      <td>충청북도 충주시</td>\n",
       "      <td>59.76</td>\n",
       "      <td>10200</td>\n",
       "      <td>1994</td>\n",
       "      <td>2015</td>\n",
       "      <td>12</td>\n",
       "      <td>43130.0</td>\n",
       "    </tr>\n",
       "    <tr>\n",
       "      <th>5863877</th>\n",
       "      <td>충청북도 충주시</td>\n",
       "      <td>84.93</td>\n",
       "      <td>19700</td>\n",
       "      <td>2007</td>\n",
       "      <td>2015</td>\n",
       "      <td>12</td>\n",
       "      <td>43130.0</td>\n",
       "    </tr>\n",
       "    <tr>\n",
       "      <th>5863878</th>\n",
       "      <td>충청북도 충주시</td>\n",
       "      <td>84.68</td>\n",
       "      <td>15900</td>\n",
       "      <td>2002</td>\n",
       "      <td>2015</td>\n",
       "      <td>12</td>\n",
       "      <td>43130.0</td>\n",
       "    </tr>\n",
       "    <tr>\n",
       "      <th>5863879</th>\n",
       "      <td>충청북도 충주시</td>\n",
       "      <td>84.68</td>\n",
       "      <td>16000</td>\n",
       "      <td>2002</td>\n",
       "      <td>2015</td>\n",
       "      <td>12</td>\n",
       "      <td>43130.0</td>\n",
       "    </tr>\n",
       "  </tbody>\n",
       "</table>\n",
       "</div>"
      ],
      "text/plain": [
       "          address   area  price  built  year  month  area_code\n",
       "5863875  충청북도 충주시  59.76  10500   1994  2015     12    43130.0\n",
       "5863876  충청북도 충주시  59.76  10200   1994  2015     12    43130.0\n",
       "5863877  충청북도 충주시  84.93  19700   2007  2015     12    43130.0\n",
       "5863878  충청북도 충주시  84.68  15900   2002  2015     12    43130.0\n",
       "5863879  충청북도 충주시  84.68  16000   2002  2015     12    43130.0"
      ]
     },
     "execution_count": 26,
     "metadata": {},
     "output_type": "execute_result"
    }
   ],
   "source": [
    "# we see below address codes are given float values instead of integer values\n",
    "# this probably means there are some addresses that did not get mapped properly\n",
    "# hence getting assigned nan (float) values\n",
    "df_estate.tail()"
   ]
  },
  {
   "cell_type": "code",
   "execution_count": 27,
   "metadata": {},
   "outputs": [
    {
     "data": {
      "text/html": [
       "<div>\n",
       "<style>\n",
       "    .dataframe thead tr:only-child th {\n",
       "        text-align: right;\n",
       "    }\n",
       "\n",
       "    .dataframe thead th {\n",
       "        text-align: left;\n",
       "    }\n",
       "\n",
       "    .dataframe tbody tr th {\n",
       "        vertical-align: top;\n",
       "    }\n",
       "</style>\n",
       "<table border=\"1\" class=\"dataframe\">\n",
       "  <thead>\n",
       "    <tr style=\"text-align: right;\">\n",
       "      <th></th>\n",
       "      <th>area</th>\n",
       "      <th>price</th>\n",
       "      <th>built</th>\n",
       "      <th>year</th>\n",
       "      <th>month</th>\n",
       "      <th>area_code</th>\n",
       "    </tr>\n",
       "    <tr>\n",
       "      <th>address</th>\n",
       "      <th></th>\n",
       "      <th></th>\n",
       "      <th></th>\n",
       "      <th></th>\n",
       "      <th></th>\n",
       "      <th></th>\n",
       "    </tr>\n",
       "  </thead>\n",
       "  <tbody>\n",
       "    <tr>\n",
       "      <th>세종특별자치시 고운동</th>\n",
       "      <td>71</td>\n",
       "      <td>71</td>\n",
       "      <td>71</td>\n",
       "      <td>71</td>\n",
       "      <td>71</td>\n",
       "      <td>0</td>\n",
       "    </tr>\n",
       "    <tr>\n",
       "      <th>세종특별자치시 나성동</th>\n",
       "      <td>93</td>\n",
       "      <td>93</td>\n",
       "      <td>93</td>\n",
       "      <td>93</td>\n",
       "      <td>93</td>\n",
       "      <td>0</td>\n",
       "    </tr>\n",
       "    <tr>\n",
       "      <th>세종특별자치시 어진동</th>\n",
       "      <td>139</td>\n",
       "      <td>139</td>\n",
       "      <td>139</td>\n",
       "      <td>139</td>\n",
       "      <td>139</td>\n",
       "      <td>0</td>\n",
       "    </tr>\n",
       "  </tbody>\n",
       "</table>\n",
       "</div>"
      ],
      "text/plain": [
       "             area  price  built  year  month  area_code\n",
       "address                                                \n",
       "세종특별자치시 고운동    71     71     71    71     71          0\n",
       "세종특별자치시 나성동    93     93     93    93     93          0\n",
       "세종특별자치시 어진동   139    139    139   139    139          0"
      ]
     },
     "execution_count": 27,
     "metadata": {},
     "output_type": "execute_result"
    }
   ],
   "source": [
    "# we check to see which addresses are not taken care of properly\n",
    "# fortunately, there are only three\n",
    "df_estate[df_estate.area_code.isnull()].groupby('address').count()"
   ]
  },
  {
   "cell_type": "code",
   "execution_count": 28,
   "metadata": {
    "collapsed": true
   },
   "outputs": [],
   "source": [
    "# getting ready to patch things up manually\n",
    "# 고운동, 나성동, 어진동 were all part of 한솔동\n",
    "# moreover, 도담동, 아름동, 종촌동 were all part of 한솔동 until very recently\n",
    "# so we might as well combine everything into one address\n",
    "df_estate.address.replace(to_replace=['세종특별자치시 고운동', '세종특별자치시 나성동', '세종특별자치시 어진동',\n",
    "                                      '세종특별자치시 도담동', '세종특별자치시 아름동', '세종특별자치시 종촌동'],\n",
    "                          value='세종특별자치시 한솔동', inplace=True)"
   ]
  },
  {
   "cell_type": "code",
   "execution_count": 29,
   "metadata": {
    "collapsed": true
   },
   "outputs": [],
   "source": [
    "# try mapping string addresses to codes again\n",
    "df_estate['area_code'] = df_estate.address.map(df_address_to_code.area_code)"
   ]
  },
  {
   "cell_type": "code",
   "execution_count": 30,
   "metadata": {},
   "outputs": [
    {
     "data": {
      "text/html": [
       "<div>\n",
       "<style>\n",
       "    .dataframe thead tr:only-child th {\n",
       "        text-align: right;\n",
       "    }\n",
       "\n",
       "    .dataframe thead th {\n",
       "        text-align: left;\n",
       "    }\n",
       "\n",
       "    .dataframe tbody tr th {\n",
       "        vertical-align: top;\n",
       "    }\n",
       "</style>\n",
       "<table border=\"1\" class=\"dataframe\">\n",
       "  <thead>\n",
       "    <tr style=\"text-align: right;\">\n",
       "      <th></th>\n",
       "      <th>address</th>\n",
       "      <th>area</th>\n",
       "      <th>price</th>\n",
       "      <th>built</th>\n",
       "      <th>year</th>\n",
       "      <th>month</th>\n",
       "      <th>area_code</th>\n",
       "    </tr>\n",
       "  </thead>\n",
       "  <tbody>\n",
       "    <tr>\n",
       "      <th>5863875</th>\n",
       "      <td>충청북도 충주시</td>\n",
       "      <td>59.76</td>\n",
       "      <td>10500</td>\n",
       "      <td>1994</td>\n",
       "      <td>2015</td>\n",
       "      <td>12</td>\n",
       "      <td>43130</td>\n",
       "    </tr>\n",
       "    <tr>\n",
       "      <th>5863876</th>\n",
       "      <td>충청북도 충주시</td>\n",
       "      <td>59.76</td>\n",
       "      <td>10200</td>\n",
       "      <td>1994</td>\n",
       "      <td>2015</td>\n",
       "      <td>12</td>\n",
       "      <td>43130</td>\n",
       "    </tr>\n",
       "    <tr>\n",
       "      <th>5863877</th>\n",
       "      <td>충청북도 충주시</td>\n",
       "      <td>84.93</td>\n",
       "      <td>19700</td>\n",
       "      <td>2007</td>\n",
       "      <td>2015</td>\n",
       "      <td>12</td>\n",
       "      <td>43130</td>\n",
       "    </tr>\n",
       "    <tr>\n",
       "      <th>5863878</th>\n",
       "      <td>충청북도 충주시</td>\n",
       "      <td>84.68</td>\n",
       "      <td>15900</td>\n",
       "      <td>2002</td>\n",
       "      <td>2015</td>\n",
       "      <td>12</td>\n",
       "      <td>43130</td>\n",
       "    </tr>\n",
       "    <tr>\n",
       "      <th>5863879</th>\n",
       "      <td>충청북도 충주시</td>\n",
       "      <td>84.68</td>\n",
       "      <td>16000</td>\n",
       "      <td>2002</td>\n",
       "      <td>2015</td>\n",
       "      <td>12</td>\n",
       "      <td>43130</td>\n",
       "    </tr>\n",
       "  </tbody>\n",
       "</table>\n",
       "</div>"
      ],
      "text/plain": [
       "          address   area  price  built  year  month  area_code\n",
       "5863875  충청북도 충주시  59.76  10500   1994  2015     12      43130\n",
       "5863876  충청북도 충주시  59.76  10200   1994  2015     12      43130\n",
       "5863877  충청북도 충주시  84.93  19700   2007  2015     12      43130\n",
       "5863878  충청북도 충주시  84.68  15900   2002  2015     12      43130\n",
       "5863879  충청북도 충주시  84.68  16000   2002  2015     12      43130"
      ]
     },
     "execution_count": 30,
     "metadata": {},
     "output_type": "execute_result"
    }
   ],
   "source": [
    "df_estate.tail()"
   ]
  },
  {
   "cell_type": "code",
   "execution_count": 31,
   "metadata": {},
   "outputs": [
    {
     "data": {
      "text/plain": [
       "False"
      ]
     },
     "execution_count": 31,
     "metadata": {},
     "output_type": "execute_result"
    }
   ],
   "source": [
    "# one last sanity check\n",
    "df_estate.isnull().values.any()"
   ]
  },
  {
   "cell_type": "code",
   "execution_count": 32,
   "metadata": {
    "collapsed": true
   },
   "outputs": [],
   "source": [
    "# we don't need the address column anymore\n",
    "df_estate.drop('address', axis=1, inplace=True)"
   ]
  },
  {
   "cell_type": "code",
   "execution_count": 33,
   "metadata": {
    "collapsed": true
   },
   "outputs": [],
   "source": [
    "# export to a new file\n",
    "df_estate.to_csv(path + '01_estate.csv', index=False, encoding='utf-8')"
   ]
  },
  {
   "cell_type": "code",
   "execution_count": 34,
   "metadata": {
    "collapsed": true
   },
   "outputs": [],
   "source": [
    "# export the conversion tables for later use\n",
    "df_address_to_code.to_csv(path + '01_address_to_code.csv', index=True, encoding='utf-8')\n",
    "df_code_to_address.to_csv(path + '01_code_to_address.csv', index=True, encoding='utf-8')"
   ]
  },
  {
   "cell_type": "code",
   "execution_count": null,
   "metadata": {
    "collapsed": true
   },
   "outputs": [],
   "source": []
  }
 ],
 "metadata": {
  "kernelspec": {
   "display_name": "Python [conda root]",
   "language": "python",
   "name": "conda-root-py"
  },
  "language_info": {
   "codemirror_mode": {
    "name": "ipython",
    "version": 3
   },
   "file_extension": ".py",
   "mimetype": "text/x-python",
   "name": "python",
   "nbconvert_exporter": "python",
   "pygments_lexer": "ipython3",
   "version": "3.6.1"
  }
 },
 "nbformat": 4,
 "nbformat_minor": 2
}
