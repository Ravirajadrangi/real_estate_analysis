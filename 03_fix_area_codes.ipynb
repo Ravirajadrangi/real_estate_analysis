{
 "cells": [
  {
   "cell_type": "markdown",
   "metadata": {},
   "source": [
    "# Part 03\n",
    "----\n",
    "아파트 매매와 인구이동 데이터의 비교분석을 용이하게 하기 위한 전처리 과정을 행한다.\n",
    "\n",
    "우선적으로 년월의 구분 방법이 다른 것을 같은 형태로 만든다. 또한 데이터 조작의 편의를 위해서 칼럼 이름을 영문으로 전부 고치고 비교 가능한 칼럼들은 같은 이름으로 통일한다.\n",
    "\n",
    "이후 대부분의 코드는 행정코드의 불일치를 고치는 과정이다. 행정코드의 불일치는 크게 두가지 이유로 남아있다.\n",
    "\n",
    "하나는 아파트 매매의 경우 주소를 무조건적으로 처음 두단어로 축약하여 코드로 매핑을 하였지만 인구 이동의 경우 행정코드 앞 다섯자리만 남기는 방식으로 전처리를 거쳤기 때문에 방식의 차이로 인해 코드 불일치가 일어났다. 일반적으로 인구 이동 데이터에서의 행정코드가 더 세밀한 단위까지 구분되어 있다. 이를 해결하기 위해 인구 이동 데이터에서 행정코드 -> 주소 -> 축약주소 -> 행정코드 과정을 거쳐 최대한 아파트 매매의 행정코드와 일치시킨다.\n",
    "\n",
    "나머지 하나는 행정구역의 변화로 인하여 두개의 데이터 프레임은 같은 지역임에도 서로 다른 행정코드를 가지고 있는 경우도 있으며 다행히 이 경우는 약 10가지 경우 남짓하여 손으로 직접 수정을 가한다."
   ]
  },
  {
   "cell_type": "code",
   "execution_count": 1,
   "metadata": {
    "collapsed": true
   },
   "outputs": [],
   "source": [
    "%matplotlib inline\n",
    "import re"
   ]
  },
  {
   "cell_type": "code",
   "execution_count": 2,
   "metadata": {
    "collapsed": true
   },
   "outputs": [],
   "source": [
    "# setting the folder path and read in data\n",
    "path = 'raw_data\\\\'\n",
    "df_pop = pd.read_csv(path + '02_pop.csv', encoding='utf-8')\n",
    "df_estate = pd.read_csv(path + '01_estate.csv', encoding='utf-8')"
   ]
  },
  {
   "cell_type": "code",
   "execution_count": 3,
   "metadata": {},
   "outputs": [
    {
     "data": {
      "text/html": [
       "<div>\n",
       "<style>\n",
       "    .dataframe thead tr:only-child th {\n",
       "        text-align: right;\n",
       "    }\n",
       "\n",
       "    .dataframe thead th {\n",
       "        text-align: left;\n",
       "    }\n",
       "\n",
       "    .dataframe tbody tr th {\n",
       "        vertical-align: top;\n",
       "    }\n",
       "</style>\n",
       "<table border=\"1\" class=\"dataframe\">\n",
       "  <thead>\n",
       "    <tr style=\"text-align: right;\">\n",
       "      <th></th>\n",
       "      <th>year</th>\n",
       "      <th>month</th>\n",
       "      <th>area_code</th>\n",
       "      <th>move_in</th>\n",
       "      <th>foreign</th>\n",
       "      <th>reason</th>\n",
       "      <th>house_total</th>\n",
       "      <th>hh_head</th>\n",
       "      <th>head_age</th>\n",
       "      <th>head_male</th>\n",
       "      <th>mov_multi</th>\n",
       "      <th>mov_ppl</th>\n",
       "      <th>mov_male</th>\n",
       "    </tr>\n",
       "  </thead>\n",
       "  <tbody>\n",
       "    <tr>\n",
       "      <th>0</th>\n",
       "      <td>2006</td>\n",
       "      <td>1</td>\n",
       "      <td>11110</td>\n",
       "      <td>1</td>\n",
       "      <td>0</td>\n",
       "      <td>1</td>\n",
       "      <td>309</td>\n",
       "      <td>258</td>\n",
       "      <td>42.344961</td>\n",
       "      <td>178</td>\n",
       "      <td>121</td>\n",
       "      <td>588</td>\n",
       "      <td>326</td>\n",
       "    </tr>\n",
       "    <tr>\n",
       "      <th>1</th>\n",
       "      <td>2006</td>\n",
       "      <td>1</td>\n",
       "      <td>11110</td>\n",
       "      <td>1</td>\n",
       "      <td>0</td>\n",
       "      <td>2</td>\n",
       "      <td>32</td>\n",
       "      <td>8</td>\n",
       "      <td>48.500000</td>\n",
       "      <td>6</td>\n",
       "      <td>8</td>\n",
       "      <td>50</td>\n",
       "      <td>23</td>\n",
       "    </tr>\n",
       "    <tr>\n",
       "      <th>2</th>\n",
       "      <td>2006</td>\n",
       "      <td>1</td>\n",
       "      <td>11110</td>\n",
       "      <td>1</td>\n",
       "      <td>0</td>\n",
       "      <td>3</td>\n",
       "      <td>134</td>\n",
       "      <td>129</td>\n",
       "      <td>41.945736</td>\n",
       "      <td>87</td>\n",
       "      <td>59</td>\n",
       "      <td>264</td>\n",
       "      <td>135</td>\n",
       "    </tr>\n",
       "    <tr>\n",
       "      <th>3</th>\n",
       "      <td>2006</td>\n",
       "      <td>1</td>\n",
       "      <td>11110</td>\n",
       "      <td>1</td>\n",
       "      <td>0</td>\n",
       "      <td>4</td>\n",
       "      <td>12</td>\n",
       "      <td>11</td>\n",
       "      <td>38.000000</td>\n",
       "      <td>3</td>\n",
       "      <td>8</td>\n",
       "      <td>26</td>\n",
       "      <td>8</td>\n",
       "    </tr>\n",
       "    <tr>\n",
       "      <th>4</th>\n",
       "      <td>2006</td>\n",
       "      <td>1</td>\n",
       "      <td>11110</td>\n",
       "      <td>1</td>\n",
       "      <td>0</td>\n",
       "      <td>5</td>\n",
       "      <td>2</td>\n",
       "      <td>2</td>\n",
       "      <td>30.500000</td>\n",
       "      <td>1</td>\n",
       "      <td>0</td>\n",
       "      <td>2</td>\n",
       "      <td>1</td>\n",
       "    </tr>\n",
       "  </tbody>\n",
       "</table>\n",
       "</div>"
      ],
      "text/plain": [
       "   year  month  area_code  move_in  foreign  reason  house_total  hh_head  \\\n",
       "0  2006      1      11110        1        0       1          309      258   \n",
       "1  2006      1      11110        1        0       2           32        8   \n",
       "2  2006      1      11110        1        0       3          134      129   \n",
       "3  2006      1      11110        1        0       4           12       11   \n",
       "4  2006      1      11110        1        0       5            2        2   \n",
       "\n",
       "    head_age  head_male  mov_multi  mov_ppl  mov_male  \n",
       "0  42.344961        178        121      588       326  \n",
       "1  48.500000          6          8       50        23  \n",
       "2  41.945736         87         59      264       135  \n",
       "3  38.000000          3          8       26         8  \n",
       "4  30.500000          1          0        2         1  "
      ]
     },
     "execution_count": 3,
     "metadata": {},
     "output_type": "execute_result"
    }
   ],
   "source": [
    "# quick initial check\n",
    "df_pop.head()"
   ]
  },
  {
   "cell_type": "code",
   "execution_count": 4,
   "metadata": {},
   "outputs": [
    {
     "data": {
      "text/html": [
       "<div>\n",
       "<style>\n",
       "    .dataframe thead tr:only-child th {\n",
       "        text-align: right;\n",
       "    }\n",
       "\n",
       "    .dataframe thead th {\n",
       "        text-align: left;\n",
       "    }\n",
       "\n",
       "    .dataframe tbody tr th {\n",
       "        vertical-align: top;\n",
       "    }\n",
       "</style>\n",
       "<table border=\"1\" class=\"dataframe\">\n",
       "  <thead>\n",
       "    <tr style=\"text-align: right;\">\n",
       "      <th></th>\n",
       "      <th>area</th>\n",
       "      <th>price</th>\n",
       "      <th>built</th>\n",
       "      <th>year</th>\n",
       "      <th>month</th>\n",
       "      <th>area_code</th>\n",
       "    </tr>\n",
       "  </thead>\n",
       "  <tbody>\n",
       "    <tr>\n",
       "      <th>0</th>\n",
       "      <td>43.01</td>\n",
       "      <td>4520</td>\n",
       "      <td>2000</td>\n",
       "      <td>2006</td>\n",
       "      <td>1</td>\n",
       "      <td>36110</td>\n",
       "    </tr>\n",
       "    <tr>\n",
       "      <th>1</th>\n",
       "      <td>43.01</td>\n",
       "      <td>4495</td>\n",
       "      <td>2000</td>\n",
       "      <td>2006</td>\n",
       "      <td>1</td>\n",
       "      <td>36110</td>\n",
       "    </tr>\n",
       "    <tr>\n",
       "      <th>2</th>\n",
       "      <td>43.01</td>\n",
       "      <td>4495</td>\n",
       "      <td>2000</td>\n",
       "      <td>2006</td>\n",
       "      <td>1</td>\n",
       "      <td>36110</td>\n",
       "    </tr>\n",
       "    <tr>\n",
       "      <th>3</th>\n",
       "      <td>43.01</td>\n",
       "      <td>4520</td>\n",
       "      <td>2000</td>\n",
       "      <td>2006</td>\n",
       "      <td>1</td>\n",
       "      <td>36110</td>\n",
       "    </tr>\n",
       "    <tr>\n",
       "      <th>4</th>\n",
       "      <td>43.01</td>\n",
       "      <td>4520</td>\n",
       "      <td>2000</td>\n",
       "      <td>2006</td>\n",
       "      <td>1</td>\n",
       "      <td>36110</td>\n",
       "    </tr>\n",
       "  </tbody>\n",
       "</table>\n",
       "</div>"
      ],
      "text/plain": [
       "    area  price  built  year  month  area_code\n",
       "0  43.01   4520   2000  2006      1      36110\n",
       "1  43.01   4495   2000  2006      1      36110\n",
       "2  43.01   4495   2000  2006      1      36110\n",
       "3  43.01   4520   2000  2006      1      36110\n",
       "4  43.01   4520   2000  2006      1      36110"
      ]
     },
     "execution_count": 4,
     "metadata": {},
     "output_type": "execute_result"
    }
   ],
   "source": [
    "df_estate.head()"
   ]
  },
  {
   "cell_type": "code",
   "execution_count": 5,
   "metadata": {
    "collapsed": true
   },
   "outputs": [],
   "source": [
    "estate_column_order = [\n",
    "    'year', 'month', 'area_code', 'area', 'price', 'built'\n",
    "]"
   ]
  },
  {
   "cell_type": "code",
   "execution_count": 6,
   "metadata": {
    "collapsed": true
   },
   "outputs": [],
   "source": [
    "df_estate = df_estate[estate_column_order]"
   ]
  },
  {
   "cell_type": "code",
   "execution_count": 7,
   "metadata": {},
   "outputs": [
    {
     "data": {
      "text/html": [
       "<div>\n",
       "<style>\n",
       "    .dataframe thead tr:only-child th {\n",
       "        text-align: right;\n",
       "    }\n",
       "\n",
       "    .dataframe thead th {\n",
       "        text-align: left;\n",
       "    }\n",
       "\n",
       "    .dataframe tbody tr th {\n",
       "        vertical-align: top;\n",
       "    }\n",
       "</style>\n",
       "<table border=\"1\" class=\"dataframe\">\n",
       "  <thead>\n",
       "    <tr style=\"text-align: right;\">\n",
       "      <th></th>\n",
       "      <th>year</th>\n",
       "      <th>month</th>\n",
       "      <th>area_code</th>\n",
       "      <th>area</th>\n",
       "      <th>price</th>\n",
       "      <th>built</th>\n",
       "    </tr>\n",
       "  </thead>\n",
       "  <tbody>\n",
       "    <tr>\n",
       "      <th>0</th>\n",
       "      <td>2006</td>\n",
       "      <td>1</td>\n",
       "      <td>36110</td>\n",
       "      <td>43.01</td>\n",
       "      <td>4520</td>\n",
       "      <td>2000</td>\n",
       "    </tr>\n",
       "    <tr>\n",
       "      <th>1</th>\n",
       "      <td>2006</td>\n",
       "      <td>1</td>\n",
       "      <td>36110</td>\n",
       "      <td>43.01</td>\n",
       "      <td>4495</td>\n",
       "      <td>2000</td>\n",
       "    </tr>\n",
       "    <tr>\n",
       "      <th>2</th>\n",
       "      <td>2006</td>\n",
       "      <td>1</td>\n",
       "      <td>36110</td>\n",
       "      <td>43.01</td>\n",
       "      <td>4495</td>\n",
       "      <td>2000</td>\n",
       "    </tr>\n",
       "    <tr>\n",
       "      <th>3</th>\n",
       "      <td>2006</td>\n",
       "      <td>1</td>\n",
       "      <td>36110</td>\n",
       "      <td>43.01</td>\n",
       "      <td>4520</td>\n",
       "      <td>2000</td>\n",
       "    </tr>\n",
       "    <tr>\n",
       "      <th>4</th>\n",
       "      <td>2006</td>\n",
       "      <td>1</td>\n",
       "      <td>36110</td>\n",
       "      <td>43.01</td>\n",
       "      <td>4520</td>\n",
       "      <td>2000</td>\n",
       "    </tr>\n",
       "  </tbody>\n",
       "</table>\n",
       "</div>"
      ],
      "text/plain": [
       "   year  month  area_code   area  price  built\n",
       "0  2006      1      36110  43.01   4520   2000\n",
       "1  2006      1      36110  43.01   4495   2000\n",
       "2  2006      1      36110  43.01   4495   2000\n",
       "3  2006      1      36110  43.01   4520   2000\n",
       "4  2006      1      36110  43.01   4520   2000"
      ]
     },
     "execution_count": 7,
     "metadata": {},
     "output_type": "execute_result"
    }
   ],
   "source": [
    "df_estate.head()"
   ]
  },
  {
   "cell_type": "code",
   "execution_count": 8,
   "metadata": {},
   "outputs": [
    {
     "data": {
      "text/plain": [
       "(264, 12)"
      ]
     },
     "execution_count": 8,
     "metadata": {},
     "output_type": "execute_result"
    }
   ],
   "source": [
    "# we see that the number of area codes do not match up between the dataframes\n",
    "df_pop.groupby('area_code').count().shape"
   ]
  },
  {
   "cell_type": "code",
   "execution_count": 9,
   "metadata": {},
   "outputs": [
    {
     "data": {
      "text/plain": [
       "(228, 5)"
      ]
     },
     "execution_count": 9,
     "metadata": {},
     "output_type": "execute_result"
    }
   ],
   "source": [
    "df_estate.groupby('area_code').count().shape"
   ]
  },
  {
   "cell_type": "code",
   "execution_count": 10,
   "metadata": {},
   "outputs": [
    {
     "data": {
      "text/plain": [
       "array([41280, 41190, 41130, 41110, 41270, 41170, 41460, 47110, 45110, 43110], dtype=int64)"
      ]
     },
     "execution_count": 10,
     "metadata": {},
     "output_type": "execute_result"
    }
   ],
   "source": [
    "# we try to see the difference in the area codes used in both dataframes\n",
    "estate_area_code = df_estate.area_code[~df_estate.area_code.duplicated()]\n",
    "estate_area_code_missing = estate_area_code[~estate_area_code.isin(df_pop.area_code)]\n",
    "estate_area_code_missing.values"
   ]
  },
  {
   "cell_type": "code",
   "execution_count": 11,
   "metadata": {},
   "outputs": [
    {
     "data": {
      "text/plain": [
       "array([28720, 41111, 41113, 41115, 41117, 41131, 41133, 41135, 41171,\n",
       "       41173, 41195, 41197, 41199, 41271, 41273, 41281, 41285, 41287,\n",
       "       41461, 41463, 41465, 41730, 43111, 43113, 43710, 44730, 44830,\n",
       "       45111, 45113, 47111, 47113, 48160, 48190, 49110, 49130, 49710,\n",
       "       49720, 44131, 44133, 48121, 48123, 48125, 48127, 48129, 43112, 43114], dtype=int64)"
      ]
     },
     "execution_count": 11,
     "metadata": {},
     "output_type": "execute_result"
    }
   ],
   "source": [
    "pop_area_code = df_pop.area_code[~df_pop.area_code.duplicated()]\n",
    "pop_area_code_missing = pop_area_code[~pop_area_code.isin(df_estate.area_code)]\n",
    "pop_area_code_missing.values"
   ]
  },
  {
   "cell_type": "code",
   "execution_count": 12,
   "metadata": {
    "collapsed": true
   },
   "outputs": [],
   "source": [
    "# just a custom function to use as an aggregate method\n",
    "def agg_nunique(series):\n",
    "    return series.nunique()"
   ]
  },
  {
   "cell_type": "code",
   "execution_count": 13,
   "metadata": {
    "collapsed": true
   },
   "outputs": [],
   "source": [
    "address_to_code = pd.read_csv(path + '01_address_to_code.csv', index_col=0).area_code\n",
    "code_to_address = pd.read_csv(path + '01_code_to_address.csv', index_col=0).address"
   ]
  },
  {
   "cell_type": "code",
   "execution_count": 14,
   "metadata": {
    "collapsed": true
   },
   "outputs": [],
   "source": [
    "# function that returns the first word or two words of the string\n",
    "subaddress_regex = re.compile(u'(\\S+\\s|\\S+)\\s*(\\S*)')\n",
    "def shrink_address(address):\n",
    "    return ''.join(subaddress_regex.search(address).groups())"
   ]
  },
  {
   "cell_type": "code",
   "execution_count": 15,
   "metadata": {},
   "outputs": [
    {
     "data": {
      "text/html": [
       "<div>\n",
       "<style>\n",
       "    .dataframe thead tr:only-child th {\n",
       "        text-align: right;\n",
       "    }\n",
       "\n",
       "    .dataframe thead th {\n",
       "        text-align: left;\n",
       "    }\n",
       "\n",
       "    .dataframe tbody tr th {\n",
       "        vertical-align: top;\n",
       "    }\n",
       "</style>\n",
       "<table border=\"1\" class=\"dataframe\">\n",
       "  <thead>\n",
       "    <tr style=\"text-align: right;\">\n",
       "      <th></th>\n",
       "      <th>address</th>\n",
       "      <th>area_code</th>\n",
       "    </tr>\n",
       "  </thead>\n",
       "  <tbody>\n",
       "    <tr>\n",
       "      <th>695</th>\n",
       "      <td>경기도 고양시</td>\n",
       "      <td>41280</td>\n",
       "    </tr>\n",
       "    <tr>\n",
       "      <th>2930</th>\n",
       "      <td>경기도 부천시</td>\n",
       "      <td>41190</td>\n",
       "    </tr>\n",
       "    <tr>\n",
       "      <th>3214</th>\n",
       "      <td>경기도 성남시</td>\n",
       "      <td>41130</td>\n",
       "    </tr>\n",
       "    <tr>\n",
       "      <th>4091</th>\n",
       "      <td>경기도 수원시</td>\n",
       "      <td>41110</td>\n",
       "    </tr>\n",
       "    <tr>\n",
       "      <th>5208</th>\n",
       "      <td>경기도 안산시</td>\n",
       "      <td>41270</td>\n",
       "    </tr>\n",
       "    <tr>\n",
       "      <th>5635</th>\n",
       "      <td>경기도 안양시</td>\n",
       "      <td>41170</td>\n",
       "    </tr>\n",
       "    <tr>\n",
       "      <th>7097</th>\n",
       "      <td>경기도 용인시</td>\n",
       "      <td>41460</td>\n",
       "    </tr>\n",
       "    <tr>\n",
       "      <th>11666</th>\n",
       "      <td>경상북도 포항시</td>\n",
       "      <td>47110</td>\n",
       "    </tr>\n",
       "    <tr>\n",
       "      <th>23775</th>\n",
       "      <td>전라북도 전주시</td>\n",
       "      <td>45110</td>\n",
       "    </tr>\n",
       "    <tr>\n",
       "      <th>25205</th>\n",
       "      <td>충청북도 청주시</td>\n",
       "      <td>43110</td>\n",
       "    </tr>\n",
       "  </tbody>\n",
       "</table>\n",
       "</div>"
      ],
      "text/plain": [
       "        address  area_code\n",
       "695     경기도 고양시      41280\n",
       "2930    경기도 부천시      41190\n",
       "3214    경기도 성남시      41130\n",
       "4091    경기도 수원시      41110\n",
       "5208    경기도 안산시      41270\n",
       "5635    경기도 안양시      41170\n",
       "7097    경기도 용인시      41460\n",
       "11666  경상북도 포항시      47110\n",
       "23775  전라북도 전주시      45110\n",
       "25205  충청북도 청주시      43110"
      ]
     },
     "execution_count": 15,
     "metadata": {},
     "output_type": "execute_result"
    }
   ],
   "source": [
    "pd.DataFrame(data={\n",
    "    'area_code': estate_area_code_missing.values,\n",
    "    'address': estate_area_code_missing.map(code_to_address).apply(shrink_address)\n",
    "})"
   ]
  },
  {
   "cell_type": "code",
   "execution_count": 16,
   "metadata": {},
   "outputs": [
    {
     "data": {
      "text/html": [
       "<div>\n",
       "<style>\n",
       "    .dataframe thead tr:only-child th {\n",
       "        text-align: right;\n",
       "    }\n",
       "\n",
       "    .dataframe thead th {\n",
       "        text-align: left;\n",
       "    }\n",
       "\n",
       "    .dataframe tbody tr th {\n",
       "        vertical-align: top;\n",
       "    }\n",
       "</style>\n",
       "<table border=\"1\" class=\"dataframe\">\n",
       "  <thead>\n",
       "    <tr style=\"text-align: right;\">\n",
       "      <th></th>\n",
       "      <th>address</th>\n",
       "      <th>area_code</th>\n",
       "    </tr>\n",
       "  </thead>\n",
       "  <tbody>\n",
       "    <tr>\n",
       "      <th>800</th>\n",
       "      <td>인천광역시 옹진군</td>\n",
       "      <td>28720</td>\n",
       "    </tr>\n",
       "    <tr>\n",
       "      <th>1019</th>\n",
       "      <td>경기도 수원시</td>\n",
       "      <td>41111</td>\n",
       "    </tr>\n",
       "    <tr>\n",
       "      <th>1033</th>\n",
       "      <td>경기도 수원시</td>\n",
       "      <td>41113</td>\n",
       "    </tr>\n",
       "    <tr>\n",
       "      <th>1047</th>\n",
       "      <td>경기도 수원시</td>\n",
       "      <td>41115</td>\n",
       "    </tr>\n",
       "    <tr>\n",
       "      <th>1061</th>\n",
       "      <td>경기도 수원시</td>\n",
       "      <td>41117</td>\n",
       "    </tr>\n",
       "    <tr>\n",
       "      <th>1074</th>\n",
       "      <td>경기도 성남시</td>\n",
       "      <td>41131</td>\n",
       "    </tr>\n",
       "    <tr>\n",
       "      <th>1088</th>\n",
       "      <td>경기도 성남시</td>\n",
       "      <td>41133</td>\n",
       "    </tr>\n",
       "    <tr>\n",
       "      <th>1102</th>\n",
       "      <td>경기도 성남시</td>\n",
       "      <td>41135</td>\n",
       "    </tr>\n",
       "    <tr>\n",
       "      <th>1130</th>\n",
       "      <td>경기도 안양시</td>\n",
       "      <td>41171</td>\n",
       "    </tr>\n",
       "    <tr>\n",
       "      <th>1144</th>\n",
       "      <td>경기도 안양시</td>\n",
       "      <td>41173</td>\n",
       "    </tr>\n",
       "    <tr>\n",
       "      <th>1158</th>\n",
       "      <td>경기도 부천시</td>\n",
       "      <td>41195</td>\n",
       "    </tr>\n",
       "    <tr>\n",
       "      <th>1172</th>\n",
       "      <td>경기도 부천시</td>\n",
       "      <td>41197</td>\n",
       "    </tr>\n",
       "    <tr>\n",
       "      <th>1186</th>\n",
       "      <td>경기도 부천시</td>\n",
       "      <td>41199</td>\n",
       "    </tr>\n",
       "    <tr>\n",
       "      <th>1237</th>\n",
       "      <td>경기도 안산시</td>\n",
       "      <td>41271</td>\n",
       "    </tr>\n",
       "    <tr>\n",
       "      <th>1251</th>\n",
       "      <td>경기도 안산시</td>\n",
       "      <td>41273</td>\n",
       "    </tr>\n",
       "    <tr>\n",
       "      <th>1264</th>\n",
       "      <td>경기도 고양시</td>\n",
       "      <td>41281</td>\n",
       "    </tr>\n",
       "    <tr>\n",
       "      <th>1278</th>\n",
       "      <td>경기도 고양시</td>\n",
       "      <td>41285</td>\n",
       "    </tr>\n",
       "    <tr>\n",
       "      <th>1289</th>\n",
       "      <td>경기도 고양시</td>\n",
       "      <td>41287</td>\n",
       "    </tr>\n",
       "    <tr>\n",
       "      <th>1409</th>\n",
       "      <td>경기도 용인시</td>\n",
       "      <td>41461</td>\n",
       "    </tr>\n",
       "    <tr>\n",
       "      <th>1422</th>\n",
       "      <td>경기도 용인시</td>\n",
       "      <td>41463</td>\n",
       "    </tr>\n",
       "    <tr>\n",
       "      <th>1435</th>\n",
       "      <td>경기도 용인시</td>\n",
       "      <td>41465</td>\n",
       "    </tr>\n",
       "    <tr>\n",
       "      <th>1561</th>\n",
       "      <td>경기도 여주군</td>\n",
       "      <td>41730</td>\n",
       "    </tr>\n",
       "    <tr>\n",
       "      <th>1832</th>\n",
       "      <td>충청북도 청주시</td>\n",
       "      <td>43111</td>\n",
       "    </tr>\n",
       "    <tr>\n",
       "      <th>1846</th>\n",
       "      <td>충청북도 청주시</td>\n",
       "      <td>43113</td>\n",
       "    </tr>\n",
       "    <tr>\n",
       "      <th>1888</th>\n",
       "      <td>충청북도 청원군</td>\n",
       "      <td>43710</td>\n",
       "    </tr>\n",
       "    <tr>\n",
       "      <th>2114</th>\n",
       "      <td>충청남도 연기군</td>\n",
       "      <td>44730</td>\n",
       "    </tr>\n",
       "    <tr>\n",
       "      <th>2198</th>\n",
       "      <td>충청남도 당진군</td>\n",
       "      <td>44830</td>\n",
       "    </tr>\n",
       "    <tr>\n",
       "      <th>2211</th>\n",
       "      <td>전라북도 전주시</td>\n",
       "      <td>45111</td>\n",
       "    </tr>\n",
       "    <tr>\n",
       "      <th>2225</th>\n",
       "      <td>전라북도 전주시</td>\n",
       "      <td>45113</td>\n",
       "    </tr>\n",
       "    <tr>\n",
       "      <th>2681</th>\n",
       "      <td>경상북도 포항시</td>\n",
       "      <td>47111</td>\n",
       "    </tr>\n",
       "    <tr>\n",
       "      <th>2695</th>\n",
       "      <td>경상북도 포항시</td>\n",
       "      <td>47113</td>\n",
       "    </tr>\n",
       "    <tr>\n",
       "      <th>3000</th>\n",
       "      <td>경상남도 마산시</td>\n",
       "      <td>48160</td>\n",
       "    </tr>\n",
       "    <tr>\n",
       "      <th>3028</th>\n",
       "      <td>경상남도 진해시</td>\n",
       "      <td>48190</td>\n",
       "    </tr>\n",
       "    <tr>\n",
       "      <th>3252</th>\n",
       "      <td>제주도 제주시</td>\n",
       "      <td>49110</td>\n",
       "    </tr>\n",
       "    <tr>\n",
       "      <th>3266</th>\n",
       "      <td>제주도 서귀포시</td>\n",
       "      <td>49130</td>\n",
       "    </tr>\n",
       "    <tr>\n",
       "      <th>3280</th>\n",
       "      <td>제주도 북제주군</td>\n",
       "      <td>49710</td>\n",
       "    </tr>\n",
       "    <tr>\n",
       "      <th>3294</th>\n",
       "      <td>제주도 남제주군</td>\n",
       "      <td>49720</td>\n",
       "    </tr>\n",
       "    <tr>\n",
       "      <th>175787</th>\n",
       "      <td>충청남도 천안시</td>\n",
       "      <td>44131</td>\n",
       "    </tr>\n",
       "    <tr>\n",
       "      <th>175801</th>\n",
       "      <td>충청남도 천안시</td>\n",
       "      <td>44133</td>\n",
       "    </tr>\n",
       "    <tr>\n",
       "      <th>340158</th>\n",
       "      <td>경상남도 창원시</td>\n",
       "      <td>48121</td>\n",
       "    </tr>\n",
       "    <tr>\n",
       "      <th>340172</th>\n",
       "      <td>경상남도 창원시</td>\n",
       "      <td>48123</td>\n",
       "    </tr>\n",
       "    <tr>\n",
       "      <th>340186</th>\n",
       "      <td>경상남도 창원시</td>\n",
       "      <td>48125</td>\n",
       "    </tr>\n",
       "    <tr>\n",
       "      <th>340200</th>\n",
       "      <td>경상남도 창원시</td>\n",
       "      <td>48127</td>\n",
       "    </tr>\n",
       "    <tr>\n",
       "      <th>340214</th>\n",
       "      <td>경상남도 창원시</td>\n",
       "      <td>48129</td>\n",
       "    </tr>\n",
       "    <tr>\n",
       "      <th>668342</th>\n",
       "      <td>충청북도 청주시</td>\n",
       "      <td>43112</td>\n",
       "    </tr>\n",
       "    <tr>\n",
       "      <th>668370</th>\n",
       "      <td>충청북도 청주시</td>\n",
       "      <td>43114</td>\n",
       "    </tr>\n",
       "  </tbody>\n",
       "</table>\n",
       "</div>"
      ],
      "text/plain": [
       "          address  area_code\n",
       "800     인천광역시 옹진군      28720\n",
       "1019      경기도 수원시      41111\n",
       "1033      경기도 수원시      41113\n",
       "1047      경기도 수원시      41115\n",
       "1061      경기도 수원시      41117\n",
       "1074      경기도 성남시      41131\n",
       "1088      경기도 성남시      41133\n",
       "1102      경기도 성남시      41135\n",
       "1130      경기도 안양시      41171\n",
       "1144      경기도 안양시      41173\n",
       "1158      경기도 부천시      41195\n",
       "1172      경기도 부천시      41197\n",
       "1186      경기도 부천시      41199\n",
       "1237      경기도 안산시      41271\n",
       "1251      경기도 안산시      41273\n",
       "1264      경기도 고양시      41281\n",
       "1278      경기도 고양시      41285\n",
       "1289      경기도 고양시      41287\n",
       "1409      경기도 용인시      41461\n",
       "1422      경기도 용인시      41463\n",
       "1435      경기도 용인시      41465\n",
       "1561      경기도 여주군      41730\n",
       "1832     충청북도 청주시      43111\n",
       "1846     충청북도 청주시      43113\n",
       "1888     충청북도 청원군      43710\n",
       "2114     충청남도 연기군      44730\n",
       "2198     충청남도 당진군      44830\n",
       "2211     전라북도 전주시      45111\n",
       "2225     전라북도 전주시      45113\n",
       "2681     경상북도 포항시      47111\n",
       "2695     경상북도 포항시      47113\n",
       "3000     경상남도 마산시      48160\n",
       "3028     경상남도 진해시      48190\n",
       "3252      제주도 제주시      49110\n",
       "3266     제주도 서귀포시      49130\n",
       "3280     제주도 북제주군      49710\n",
       "3294     제주도 남제주군      49720\n",
       "175787   충청남도 천안시      44131\n",
       "175801   충청남도 천안시      44133\n",
       "340158   경상남도 창원시      48121\n",
       "340172   경상남도 창원시      48123\n",
       "340186   경상남도 창원시      48125\n",
       "340200   경상남도 창원시      48127\n",
       "340214   경상남도 창원시      48129\n",
       "668342   충청북도 청주시      43112\n",
       "668370   충청북도 청주시      43114"
      ]
     },
     "execution_count": 16,
     "metadata": {},
     "output_type": "execute_result"
    }
   ],
   "source": [
    "# comparing with the table above, we see that in many cases, the problem arises from\n",
    "# the area codes being too granular in the population dataframe\n",
    "pd.DataFrame(data={\n",
    "    'area_code': pop_area_code_missing.values,\n",
    "    'address': pop_area_code_missing.map(code_to_address).apply(shrink_address)\n",
    "})"
   ]
  },
  {
   "cell_type": "code",
   "execution_count": 17,
   "metadata": {
    "collapsed": true
   },
   "outputs": [],
   "source": [
    "# run the address code through the process explained above\n",
    "temp_address = df_pop.area_code.map(code_to_address)\n",
    "temp_address = temp_address.apply(shrink_address)\n",
    "temp_address = temp_address.map(address_to_code)\n",
    "df_pop.area_code = temp_address"
   ]
  },
  {
   "cell_type": "code",
   "execution_count": 18,
   "metadata": {},
   "outputs": [
    {
     "data": {
      "text/plain": [
       "array([], dtype=int64)"
      ]
     },
     "execution_count": 18,
     "metadata": {},
     "output_type": "execute_result"
    }
   ],
   "source": [
    "# we repeat the process as before trying to see the changes\n",
    "estate_area_code = df_estate.area_code[~df_estate.area_code.duplicated()]\n",
    "estate_area_code_missing = estate_area_code[~estate_area_code.isin(df_pop.area_code)]\n",
    "estate_area_code_missing.values"
   ]
  },
  {
   "cell_type": "code",
   "execution_count": 19,
   "metadata": {},
   "outputs": [
    {
     "data": {
      "text/html": [
       "<div>\n",
       "<style>\n",
       "    .dataframe thead tr:only-child th {\n",
       "        text-align: right;\n",
       "    }\n",
       "\n",
       "    .dataframe thead th {\n",
       "        text-align: left;\n",
       "    }\n",
       "\n",
       "    .dataframe tbody tr th {\n",
       "        vertical-align: top;\n",
       "    }\n",
       "</style>\n",
       "<table border=\"1\" class=\"dataframe\">\n",
       "  <thead>\n",
       "    <tr style=\"text-align: right;\">\n",
       "      <th></th>\n",
       "      <th>address</th>\n",
       "      <th>area_code</th>\n",
       "    </tr>\n",
       "  </thead>\n",
       "  <tbody>\n",
       "  </tbody>\n",
       "</table>\n",
       "</div>"
      ],
      "text/plain": [
       "Empty DataFrame\n",
       "Columns: [address, area_code]\n",
       "Index: []"
      ]
     },
     "execution_count": 19,
     "metadata": {},
     "output_type": "execute_result"
    }
   ],
   "source": [
    "pd.DataFrame(data={\n",
    "    'area_code': estate_area_code_missing.values,\n",
    "    'address': estate_area_code_missing.map(code_to_address).apply(shrink_address)\n",
    "})"
   ]
  },
  {
   "cell_type": "code",
   "execution_count": 20,
   "metadata": {},
   "outputs": [
    {
     "data": {
      "text/plain": [
       "array([28720, 41730, 43710, 44730, 44830, 48150, 48190, 49110, 49130,\n",
       "       49710, 49720], dtype=int64)"
      ]
     },
     "execution_count": 20,
     "metadata": {},
     "output_type": "execute_result"
    }
   ],
   "source": [
    "pop_area_code = df_pop.area_code[~df_pop.area_code.duplicated()]\n",
    "pop_area_code_missing = pop_area_code[~pop_area_code.isin(df_estate.area_code)]\n",
    "pop_area_code_missing.values"
   ]
  },
  {
   "cell_type": "code",
   "execution_count": 21,
   "metadata": {},
   "outputs": [
    {
     "data": {
      "text/html": [
       "<div>\n",
       "<style>\n",
       "    .dataframe thead tr:only-child th {\n",
       "        text-align: right;\n",
       "    }\n",
       "\n",
       "    .dataframe thead th {\n",
       "        text-align: left;\n",
       "    }\n",
       "\n",
       "    .dataframe tbody tr th {\n",
       "        vertical-align: top;\n",
       "    }\n",
       "</style>\n",
       "<table border=\"1\" class=\"dataframe\">\n",
       "  <thead>\n",
       "    <tr style=\"text-align: right;\">\n",
       "      <th></th>\n",
       "      <th>address</th>\n",
       "      <th>area_code</th>\n",
       "    </tr>\n",
       "  </thead>\n",
       "  <tbody>\n",
       "    <tr>\n",
       "      <th>800</th>\n",
       "      <td>인천광역시 옹진군</td>\n",
       "      <td>28720</td>\n",
       "    </tr>\n",
       "    <tr>\n",
       "      <th>1561</th>\n",
       "      <td>경기도 여주군</td>\n",
       "      <td>41730</td>\n",
       "    </tr>\n",
       "    <tr>\n",
       "      <th>1888</th>\n",
       "      <td>충청북도 청원군</td>\n",
       "      <td>43710</td>\n",
       "    </tr>\n",
       "    <tr>\n",
       "      <th>2114</th>\n",
       "      <td>충청남도 연기군</td>\n",
       "      <td>44730</td>\n",
       "    </tr>\n",
       "    <tr>\n",
       "      <th>2198</th>\n",
       "      <td>충청남도 당진군</td>\n",
       "      <td>44830</td>\n",
       "    </tr>\n",
       "    <tr>\n",
       "      <th>3000</th>\n",
       "      <td>경상남도 마산시</td>\n",
       "      <td>48150</td>\n",
       "    </tr>\n",
       "    <tr>\n",
       "      <th>3028</th>\n",
       "      <td>경상남도 진해시</td>\n",
       "      <td>48190</td>\n",
       "    </tr>\n",
       "    <tr>\n",
       "      <th>3252</th>\n",
       "      <td>제주도 제주시</td>\n",
       "      <td>49110</td>\n",
       "    </tr>\n",
       "    <tr>\n",
       "      <th>3266</th>\n",
       "      <td>제주도 서귀포시</td>\n",
       "      <td>49130</td>\n",
       "    </tr>\n",
       "    <tr>\n",
       "      <th>3280</th>\n",
       "      <td>제주도 북제주군</td>\n",
       "      <td>49710</td>\n",
       "    </tr>\n",
       "    <tr>\n",
       "      <th>3294</th>\n",
       "      <td>제주도 남제주군</td>\n",
       "      <td>49720</td>\n",
       "    </tr>\n",
       "  </tbody>\n",
       "</table>\n",
       "</div>"
      ],
      "text/plain": [
       "        address  area_code\n",
       "800   인천광역시 옹진군      28720\n",
       "1561    경기도 여주군      41730\n",
       "1888   충청북도 청원군      43710\n",
       "2114   충청남도 연기군      44730\n",
       "2198   충청남도 당진군      44830\n",
       "3000   경상남도 마산시      48150\n",
       "3028   경상남도 진해시      48190\n",
       "3252    제주도 제주시      49110\n",
       "3266   제주도 서귀포시      49130\n",
       "3280   제주도 북제주군      49710\n",
       "3294   제주도 남제주군      49720"
      ]
     },
     "execution_count": 21,
     "metadata": {},
     "output_type": "execute_result"
    }
   ],
   "source": [
    "pd.DataFrame(data={\n",
    "    'area_code': pop_area_code_missing.values,\n",
    "    'address': pop_area_code_missing.map(code_to_address).apply(shrink_address)\n",
    "})"
   ]
  },
  {
   "cell_type": "code",
   "execution_count": 22,
   "metadata": {
    "collapsed": true
   },
   "outputs": [],
   "source": [
    "# as there are only 11 values left to fix, we tidy up things manually\n",
    "# 옹진군 is actually a collection of small islands, hence it is reasonable there are no appartments in the area\n",
    "# however we make it part of 중구 for ease of use in manipulating data with consistency\n",
    "# 여주군 has changed to 여주시\n",
    "# 청원군 has become part of 청주시\n",
    "# 연기군 has become part of 세종특별자치시\n",
    "# 당진군 has changed to 당진시\n",
    "# 마산시, 진해시 have become part of 창원시\n",
    "# 제주도 has changed to 제주특별자치도"
   ]
  },
  {
   "cell_type": "code",
   "execution_count": 23,
   "metadata": {
    "collapsed": true
   },
   "outputs": [],
   "source": [
    "# creating resources to fix area codes\n",
    "def area_code_fix(x):\n",
    "    if x in area_code_fix_map.keys():\n",
    "        return area_code_fix_map[x]\n",
    "    else:\n",
    "        return x"
   ]
  },
  {
   "cell_type": "code",
   "execution_count": 24,
   "metadata": {
    "collapsed": true
   },
   "outputs": [],
   "source": [
    "area_code_fix_map = {\n",
    "    28720: 28110, # 용진군: 중구\n",
    "    41730: 41670, # 여주군: 여주시\n",
    "    43710: 43110, # 청원군: 청주시\n",
    "    44730: 36110, # 연기군: 세종특별자치시\n",
    "    44830: 44270, # 당진군: 당진시\n",
    "    48150: 48110, # 마산시: 창원시\n",
    "    48190: 48110, # 진해시: 창원시\n",
    "    49110: 50110, # 제주시: 제주시\n",
    "    49130: 50130, # 서귀포시: 서귀포시\n",
    "    49710: 50110, # 북제주군: 제주시\n",
    "    49720: 50130, # 남제주군: 서귀포시\n",
    "}"
   ]
  },
  {
   "cell_type": "code",
   "execution_count": 25,
   "metadata": {
    "collapsed": true
   },
   "outputs": [],
   "source": [
    "df_pop.area_code = df_pop.area_code.apply(area_code_fix)"
   ]
  },
  {
   "cell_type": "code",
   "execution_count": 26,
   "metadata": {},
   "outputs": [
    {
     "data": {
      "text/plain": [
       "array([], dtype=int64)"
      ]
     },
     "execution_count": 26,
     "metadata": {},
     "output_type": "execute_result"
    }
   ],
   "source": [
    "# one last sanity check\n",
    "estate_area_code = df_estate.area_code[~df_estate.area_code.duplicated()]\n",
    "estate_area_code_missing = estate_area_code[~estate_area_code.isin(df_pop.area_code)]\n",
    "estate_area_code_missing.values"
   ]
  },
  {
   "cell_type": "code",
   "execution_count": 27,
   "metadata": {},
   "outputs": [
    {
     "data": {
      "text/plain": [
       "array([], dtype=int64)"
      ]
     },
     "execution_count": 27,
     "metadata": {},
     "output_type": "execute_result"
    }
   ],
   "source": [
    "pop_area_code = df_pop.area_code[~df_pop.area_code.duplicated()]\n",
    "pop_area_code_missing = pop_area_code[~pop_area_code.isin(df_estate.area_code)]\n",
    "pop_area_code_missing.values"
   ]
  },
  {
   "cell_type": "code",
   "execution_count": 28,
   "metadata": {
    "collapsed": true
   },
   "outputs": [],
   "source": [
    "# exporting scrubbed dataframes\n",
    "df_estate.to_csv(path + '03_estate.csv', index=False, encoding='utf-8')\n",
    "df_pop.to_csv(path + '03_pop.csv', index=False, encoding='utf-8')"
   ]
  },
  {
   "cell_type": "code",
   "execution_count": null,
   "metadata": {
    "collapsed": true
   },
   "outputs": [],
   "source": []
  }
 ],
 "metadata": {
  "kernelspec": {
   "display_name": "Python [conda root]",
   "language": "python",
   "name": "conda-root-py"
  },
  "language_info": {
   "codemirror_mode": {
    "name": "ipython",
    "version": 3
   },
   "file_extension": ".py",
   "mimetype": "text/x-python",
   "name": "python",
   "nbconvert_exporter": "python",
   "pygments_lexer": "ipython3",
   "version": "3.6.1"
  }
 },
 "nbformat": 4,
 "nbformat_minor": 2
}
