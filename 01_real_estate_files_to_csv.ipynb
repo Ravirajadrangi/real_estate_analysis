{
 "cells": [
  {
   "cell_type": "markdown",
   "metadata": {},
   "source": [
    "# Part 01\n",
    "--------\n",
    "As directly dealing with excel format is agonizingly slow, in this first part, we simply convert the format into csv. During the process below, we also combine all data files into one."
   ]
  },
  {
   "cell_type": "code",
   "execution_count": 45,
   "metadata": {
    "collapsed": true
   },
   "outputs": [],
   "source": [
    "%matplotlib inline\n",
    "import glob\n",
    "import re"
   ]
  },
  {
   "cell_type": "code",
   "execution_count": 46,
   "metadata": {
    "collapsed": true
   },
   "outputs": [],
   "source": [
    "# set path for files to read\n",
    "path = 'raw_data\\\\'\n",
    "estate_files = glob.glob(path + 'real_*.xlsx')"
   ]
  },
  {
   "cell_type": "code",
   "execution_count": 47,
   "metadata": {},
   "outputs": [
    {
     "name": "stdout",
     "output_type": "stream",
     "text": [
      "200601 200602 200603 200604 200605 200606 200607 200608 200609 200610 200611 200612\n",
      "200701 200702 200703 200704 200705 200706 200707 200708 200709 200710 200711 200712\n",
      "200801 200802 200803 200804 200805 200806 200807 200808 200809 200810 200811 200812\n",
      "200901 200902 200903 200904 200905 200906 200907 200908 200909 200910 200911 200912\n",
      "201001 201002 201003 201004 201005 201006 201007 201008 201009 201010 201011 201012\n",
      "201101 201102 201103 201104 201105 201106 201107 201108 201109 201110 201111 201112\n",
      "201201 201202 201203 201204 201205 201206 201207 201208 201209 201210 201211 201212\n",
      "201301 201302 201303 201304 201305 201306 201307 201308 201309 201310 201311 201312\n",
      "201401 201402 201403 201404 201405 201406 201407 201408 201409 201410 201411 201412\n",
      "201501 201502 201503 201504 201505 201506 201507 201508 201509 201510 201511 201512\n"
     ]
    }
   ],
   "source": [
    "# read all real estate data files in excel and combine into one data frame\n",
    "# we print out the file names to check progress\n",
    "temp_estate = []\n",
    "time_regex = re.compile('(\\d{6}).')\n",
    "\n",
    "for estate_file in estate_files:\n",
    "    temp_estate.append(pd.read_excel(estate_file))\n",
    "    year_month = time_regex.search(estate_file).group(1)\n",
    "    print(year_month, end=('\\n' if year_month[-2:] == '12' else ' '))\n",
    "df_estate = pd.concat(temp_estate)        "
   ]
  },
  {
   "cell_type": "code",
   "execution_count": 48,
   "metadata": {},
   "outputs": [
    {
     "data": {
      "text/html": [
       "<div>\n",
       "<style>\n",
       "    .dataframe thead tr:only-child th {\n",
       "        text-align: right;\n",
       "    }\n",
       "\n",
       "    .dataframe thead th {\n",
       "        text-align: left;\n",
       "    }\n",
       "\n",
       "    .dataframe tbody tr th {\n",
       "        vertical-align: top;\n",
       "    }\n",
       "</style>\n",
       "<table border=\"1\" class=\"dataframe\">\n",
       "  <thead>\n",
       "    <tr style=\"text-align: right;\">\n",
       "      <th></th>\n",
       "      <th>시군구</th>\n",
       "      <th>번지</th>\n",
       "      <th>본번</th>\n",
       "      <th>부번</th>\n",
       "      <th>단지명</th>\n",
       "      <th>전용면적(㎡)</th>\n",
       "      <th>계약년월</th>\n",
       "      <th>계약일</th>\n",
       "      <th>거래금액(만원)</th>\n",
       "      <th>층</th>\n",
       "      <th>건축년도</th>\n",
       "      <th>도로명</th>\n",
       "    </tr>\n",
       "  </thead>\n",
       "  <tbody>\n",
       "    <tr>\n",
       "      <th>0</th>\n",
       "      <td>세종특별자치시 금남면 용포리</td>\n",
       "      <td>320</td>\n",
       "      <td>320</td>\n",
       "      <td>0</td>\n",
       "      <td>두진리버빌</td>\n",
       "      <td>43.01</td>\n",
       "      <td>200601</td>\n",
       "      <td>1~10</td>\n",
       "      <td>4,520</td>\n",
       "      <td>4</td>\n",
       "      <td>2000.0</td>\n",
       "      <td>용포2길</td>\n",
       "    </tr>\n",
       "    <tr>\n",
       "      <th>1</th>\n",
       "      <td>세종특별자치시 금남면 용포리</td>\n",
       "      <td>320</td>\n",
       "      <td>320</td>\n",
       "      <td>0</td>\n",
       "      <td>두진리버빌</td>\n",
       "      <td>43.01</td>\n",
       "      <td>200601</td>\n",
       "      <td>1~10</td>\n",
       "      <td>4,495</td>\n",
       "      <td>10</td>\n",
       "      <td>2000.0</td>\n",
       "      <td>용포2길</td>\n",
       "    </tr>\n",
       "    <tr>\n",
       "      <th>2</th>\n",
       "      <td>세종특별자치시 금남면 용포리</td>\n",
       "      <td>320</td>\n",
       "      <td>320</td>\n",
       "      <td>0</td>\n",
       "      <td>두진리버빌</td>\n",
       "      <td>43.01</td>\n",
       "      <td>200601</td>\n",
       "      <td>1~10</td>\n",
       "      <td>4,495</td>\n",
       "      <td>5</td>\n",
       "      <td>2000.0</td>\n",
       "      <td>용포2길</td>\n",
       "    </tr>\n",
       "    <tr>\n",
       "      <th>3</th>\n",
       "      <td>세종특별자치시 금남면 용포리</td>\n",
       "      <td>320</td>\n",
       "      <td>320</td>\n",
       "      <td>0</td>\n",
       "      <td>두진리버빌</td>\n",
       "      <td>43.01</td>\n",
       "      <td>200601</td>\n",
       "      <td>1~10</td>\n",
       "      <td>4,520</td>\n",
       "      <td>2</td>\n",
       "      <td>2000.0</td>\n",
       "      <td>용포2길</td>\n",
       "    </tr>\n",
       "    <tr>\n",
       "      <th>4</th>\n",
       "      <td>세종특별자치시 금남면 용포리</td>\n",
       "      <td>320</td>\n",
       "      <td>320</td>\n",
       "      <td>0</td>\n",
       "      <td>두진리버빌</td>\n",
       "      <td>43.01</td>\n",
       "      <td>200601</td>\n",
       "      <td>1~10</td>\n",
       "      <td>4,520</td>\n",
       "      <td>5</td>\n",
       "      <td>2000.0</td>\n",
       "      <td>용포2길</td>\n",
       "    </tr>\n",
       "  </tbody>\n",
       "</table>\n",
       "</div>"
      ],
      "text/plain": [
       "                 시군구   번지   본번  부번    단지명  전용면적(㎡)    계약년월   계약일  \\\n",
       "0    세종특별자치시 금남면 용포리  320  320   0  두진리버빌    43.01  200601  1~10   \n",
       "1    세종특별자치시 금남면 용포리  320  320   0  두진리버빌    43.01  200601  1~10   \n",
       "2    세종특별자치시 금남면 용포리  320  320   0  두진리버빌    43.01  200601  1~10   \n",
       "3    세종특별자치시 금남면 용포리  320  320   0  두진리버빌    43.01  200601  1~10   \n",
       "4    세종특별자치시 금남면 용포리  320  320   0  두진리버빌    43.01  200601  1~10   \n",
       "\n",
       "         거래금액(만원)   층    건축년도   도로명  \n",
       "0           4,520   4  2000.0  용포2길  \n",
       "1           4,495  10  2000.0  용포2길  \n",
       "2           4,495   5  2000.0  용포2길  \n",
       "3           4,520   2  2000.0  용포2길  \n",
       "4           4,520   5  2000.0  용포2길  "
      ]
     },
     "execution_count": 48,
     "metadata": {},
     "output_type": "execute_result"
    }
   ],
   "source": [
    "# just checking the data\n",
    "df_estate.head()"
   ]
  },
  {
   "cell_type": "code",
   "execution_count": 92,
   "metadata": {
    "collapsed": true
   },
   "outputs": [],
   "source": [
    "# rename columns into english\n",
    "estate_column_dic = {\n",
    "    '시군구': 'address',\n",
    "    '번지': 'block',\n",
    "    '본번': 'block_main',\n",
    "    '부번': 'block_sub',\n",
    "    '단지명': 'apt',\n",
    "    '전용면적(㎡)': 'area',\n",
    "    '계약년월': 'year_month',\n",
    "    '계약일': 'day',\n",
    "    '거래금액(만원)': 'price',\n",
    "    '층': 'floor',\n",
    "    '건축년도': 'built',\n",
    "    '도로명': 'street'\n",
    "}"
   ]
  },
  {
   "cell_type": "code",
   "execution_count": 93,
   "metadata": {
    "collapsed": true
   },
   "outputs": [],
   "source": [
    "df_estate.rename(columns=estate_column_dic, inplace=True)"
   ]
  },
  {
   "cell_type": "code",
   "execution_count": 95,
   "metadata": {
    "collapsed": true
   },
   "outputs": [],
   "source": [
    "# we drop the block column since it is simply equal to\n",
    "# block_main + block_sub\n",
    "df_estate.drop('block', axis=1, inplace=True)"
   ]
  },
  {
   "cell_type": "code",
   "execution_count": 96,
   "metadata": {},
   "outputs": [
    {
     "data": {
      "text/html": [
       "<div>\n",
       "<style>\n",
       "    .dataframe thead tr:only-child th {\n",
       "        text-align: right;\n",
       "    }\n",
       "\n",
       "    .dataframe thead th {\n",
       "        text-align: left;\n",
       "    }\n",
       "\n",
       "    .dataframe tbody tr th {\n",
       "        vertical-align: top;\n",
       "    }\n",
       "</style>\n",
       "<table border=\"1\" class=\"dataframe\">\n",
       "  <thead>\n",
       "    <tr style=\"text-align: right;\">\n",
       "      <th></th>\n",
       "      <th>address</th>\n",
       "      <th>block_main</th>\n",
       "      <th>block_sub</th>\n",
       "      <th>apt</th>\n",
       "      <th>area</th>\n",
       "      <th>year_month</th>\n",
       "      <th>day</th>\n",
       "      <th>price</th>\n",
       "      <th>floor</th>\n",
       "      <th>built</th>\n",
       "      <th>street</th>\n",
       "    </tr>\n",
       "  </thead>\n",
       "  <tbody>\n",
       "    <tr>\n",
       "      <th>0</th>\n",
       "      <td>세종특별자치시 금남면 용포리</td>\n",
       "      <td>320</td>\n",
       "      <td>0</td>\n",
       "      <td>두진리버빌</td>\n",
       "      <td>43.01</td>\n",
       "      <td>200601</td>\n",
       "      <td>1~10</td>\n",
       "      <td>4,520</td>\n",
       "      <td>4</td>\n",
       "      <td>2000.0</td>\n",
       "      <td>용포2길</td>\n",
       "    </tr>\n",
       "    <tr>\n",
       "      <th>1</th>\n",
       "      <td>세종특별자치시 금남면 용포리</td>\n",
       "      <td>320</td>\n",
       "      <td>0</td>\n",
       "      <td>두진리버빌</td>\n",
       "      <td>43.01</td>\n",
       "      <td>200601</td>\n",
       "      <td>1~10</td>\n",
       "      <td>4,495</td>\n",
       "      <td>10</td>\n",
       "      <td>2000.0</td>\n",
       "      <td>용포2길</td>\n",
       "    </tr>\n",
       "    <tr>\n",
       "      <th>2</th>\n",
       "      <td>세종특별자치시 금남면 용포리</td>\n",
       "      <td>320</td>\n",
       "      <td>0</td>\n",
       "      <td>두진리버빌</td>\n",
       "      <td>43.01</td>\n",
       "      <td>200601</td>\n",
       "      <td>1~10</td>\n",
       "      <td>4,495</td>\n",
       "      <td>5</td>\n",
       "      <td>2000.0</td>\n",
       "      <td>용포2길</td>\n",
       "    </tr>\n",
       "    <tr>\n",
       "      <th>3</th>\n",
       "      <td>세종특별자치시 금남면 용포리</td>\n",
       "      <td>320</td>\n",
       "      <td>0</td>\n",
       "      <td>두진리버빌</td>\n",
       "      <td>43.01</td>\n",
       "      <td>200601</td>\n",
       "      <td>1~10</td>\n",
       "      <td>4,520</td>\n",
       "      <td>2</td>\n",
       "      <td>2000.0</td>\n",
       "      <td>용포2길</td>\n",
       "    </tr>\n",
       "    <tr>\n",
       "      <th>4</th>\n",
       "      <td>세종특별자치시 금남면 용포리</td>\n",
       "      <td>320</td>\n",
       "      <td>0</td>\n",
       "      <td>두진리버빌</td>\n",
       "      <td>43.01</td>\n",
       "      <td>200601</td>\n",
       "      <td>1~10</td>\n",
       "      <td>4,520</td>\n",
       "      <td>5</td>\n",
       "      <td>2000.0</td>\n",
       "      <td>용포2길</td>\n",
       "    </tr>\n",
       "  </tbody>\n",
       "</table>\n",
       "</div>"
      ],
      "text/plain": [
       "             address  block_main  block_sub    apt   area  year_month   day  \\\n",
       "0    세종특별자치시 금남면 용포리         320          0  두진리버빌  43.01      200601  1~10   \n",
       "1    세종특별자치시 금남면 용포리         320          0  두진리버빌  43.01      200601  1~10   \n",
       "2    세종특별자치시 금남면 용포리         320          0  두진리버빌  43.01      200601  1~10   \n",
       "3    세종특별자치시 금남면 용포리         320          0  두진리버빌  43.01      200601  1~10   \n",
       "4    세종특별자치시 금남면 용포리         320          0  두진리버빌  43.01      200601  1~10   \n",
       "\n",
       "            price  floor   built street  \n",
       "0           4,520      4  2000.0   용포2길  \n",
       "1           4,495     10  2000.0   용포2길  \n",
       "2           4,495      5  2000.0   용포2길  \n",
       "3           4,520      2  2000.0   용포2길  \n",
       "4           4,520      5  2000.0   용포2길  "
      ]
     },
     "execution_count": 96,
     "metadata": {},
     "output_type": "execute_result"
    }
   ],
   "source": [
    "df_estate.head()"
   ]
  },
  {
   "cell_type": "code",
   "execution_count": 97,
   "metadata": {
    "collapsed": true
   },
   "outputs": [],
   "source": [
    "# export to csv for later use\n",
    "# note that csv is much faster to process\n",
    "df_estate.to_csv(path + '01_estate.csv', index=False, encoding='utf-8')"
   ]
  },
  {
   "cell_type": "code",
   "execution_count": null,
   "metadata": {
    "collapsed": true
   },
   "outputs": [],
   "source": []
  }
 ],
 "metadata": {
  "kernelspec": {
   "display_name": "Python [conda root]",
   "language": "python",
   "name": "conda-root-py"
  },
  "language_info": {
   "codemirror_mode": {
    "name": "ipython",
    "version": 3
   },
   "file_extension": ".py",
   "mimetype": "text/x-python",
   "name": "python",
   "nbconvert_exporter": "python",
   "pygments_lexer": "ipython3",
   "version": "3.6.1"
  }
 },
 "nbformat": 4,
 "nbformat_minor": 2
}
