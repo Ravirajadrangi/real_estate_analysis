{
 "cells": [
  {
   "cell_type": "markdown",
   "metadata": {},
   "source": [
    "# 파트 01\n",
    "----\n",
    "엑셀 파일을 그대로 다루기에는 읽는 과정부터 매우 느린 관계로, 추후 데이터 분석시의 편의를 위해 파일 포맷을 CSV로 변환시킬 필요가 있다. 아래의 코드는 아파트 매매 정보가 있는 엑셀 파일들을 전부 읽어들인 후, 하나의 CSV 파일로 출력한다."
   ]
  },
  {
   "cell_type": "code",
   "execution_count": 5,
   "metadata": {
    "collapsed": true
   },
   "outputs": [],
   "source": [
    "%matplotlib inline\n",
    "import glob"
   ]
  },
  {
   "cell_type": "code",
   "execution_count": 6,
   "metadata": {
    "collapsed": true
   },
   "outputs": [],
   "source": [
    "# set path for files to read\n",
    "path = 'raw_data\\\\'\n",
    "estate_files = glob.glob(path + 'real*.xlsx')"
   ]
  },
  {
   "cell_type": "code",
   "execution_count": 8,
   "metadata": {
    "collapsed": true
   },
   "outputs": [
    {
     "name": "stdout",
     "output_type": "stream",
     "text": [
      "raw_data\\real_estate_200601.xlsx\n",
      "raw_data\\real_estate_200602.xlsx\n",
      "raw_data\\real_estate_200603.xlsx\n",
      "raw_data\\real_estate_200604.xlsx\n",
      "raw_data\\real_estate_200605.xlsx\n",
      "raw_data\\real_estate_200606.xlsx\n",
      "raw_data\\real_estate_200607.xlsx\n",
      "raw_data\\real_estate_200608.xlsx\n",
      "raw_data\\real_estate_200609.xlsx\n",
      "raw_data\\real_estate_200610.xlsx\n",
      "raw_data\\real_estate_200611.xlsx\n",
      "raw_data\\real_estate_200612.xlsx\n",
      "raw_data\\real_estate_200701.xlsx\n",
      "raw_data\\real_estate_200702.xlsx\n",
      "raw_data\\real_estate_200703.xlsx\n",
      "raw_data\\real_estate_200704.xlsx\n",
      "raw_data\\real_estate_200705.xlsx\n",
      "raw_data\\real_estate_200706.xlsx\n",
      "raw_data\\real_estate_200707.xlsx\n",
      "raw_data\\real_estate_200708.xlsx\n",
      "raw_data\\real_estate_200709.xlsx\n",
      "raw_data\\real_estate_200710.xlsx\n",
      "raw_data\\real_estate_200711.xlsx\n",
      "raw_data\\real_estate_200712.xlsx\n",
      "raw_data\\real_estate_200801.xlsx\n",
      "raw_data\\real_estate_200802.xlsx\n",
      "raw_data\\real_estate_200803.xlsx\n",
      "raw_data\\real_estate_200804.xlsx\n",
      "raw_data\\real_estate_200805.xlsx\n",
      "raw_data\\real_estate_200806.xlsx\n",
      "raw_data\\real_estate_200807.xlsx\n",
      "raw_data\\real_estate_200808.xlsx\n",
      "raw_data\\real_estate_200809.xlsx\n",
      "raw_data\\real_estate_200810.xlsx\n",
      "raw_data\\real_estate_200811.xlsx\n",
      "raw_data\\real_estate_200812.xlsx\n",
      "raw_data\\real_estate_200901.xlsx\n",
      "raw_data\\real_estate_200902.xlsx\n",
      "raw_data\\real_estate_200903.xlsx\n",
      "raw_data\\real_estate_200904.xlsx\n",
      "raw_data\\real_estate_200905.xlsx\n",
      "raw_data\\real_estate_200906.xlsx\n",
      "raw_data\\real_estate_200907.xlsx\n",
      "raw_data\\real_estate_200908.xlsx\n",
      "raw_data\\real_estate_200909.xlsx\n",
      "raw_data\\real_estate_200910.xlsx\n",
      "raw_data\\real_estate_200911.xlsx\n",
      "raw_data\\real_estate_200912.xlsx\n",
      "raw_data\\real_estate_201001.xlsx\n",
      "raw_data\\real_estate_201002.xlsx\n",
      "raw_data\\real_estate_201003.xlsx\n",
      "raw_data\\real_estate_201004.xlsx\n",
      "raw_data\\real_estate_201005.xlsx\n",
      "raw_data\\real_estate_201006.xlsx\n",
      "raw_data\\real_estate_201007.xlsx\n",
      "raw_data\\real_estate_201008.xlsx\n",
      "raw_data\\real_estate_201009.xlsx\n",
      "raw_data\\real_estate_201010.xlsx\n",
      "raw_data\\real_estate_201011.xlsx\n",
      "raw_data\\real_estate_201012.xlsx\n",
      "raw_data\\real_estate_201101.xlsx\n",
      "raw_data\\real_estate_201102.xlsx\n",
      "raw_data\\real_estate_201103.xlsx\n",
      "raw_data\\real_estate_201104.xlsx\n",
      "raw_data\\real_estate_201105.xlsx\n",
      "raw_data\\real_estate_201106.xlsx\n",
      "raw_data\\real_estate_201107.xlsx\n",
      "raw_data\\real_estate_201108.xlsx\n",
      "raw_data\\real_estate_201109.xlsx\n",
      "raw_data\\real_estate_201110.xlsx\n",
      "raw_data\\real_estate_201111.xlsx\n",
      "raw_data\\real_estate_201112.xlsx\n",
      "raw_data\\real_estate_201201.xlsx\n",
      "raw_data\\real_estate_201202.xlsx\n",
      "raw_data\\real_estate_201203.xlsx\n",
      "raw_data\\real_estate_201204.xlsx\n",
      "raw_data\\real_estate_201205.xlsx\n",
      "raw_data\\real_estate_201206.xlsx\n",
      "raw_data\\real_estate_201207.xlsx\n",
      "raw_data\\real_estate_201208.xlsx\n",
      "raw_data\\real_estate_201209.xlsx\n",
      "raw_data\\real_estate_201210.xlsx\n",
      "raw_data\\real_estate_201211.xlsx\n",
      "raw_data\\real_estate_201212.xlsx\n",
      "raw_data\\real_estate_201301.xlsx\n",
      "raw_data\\real_estate_201302.xlsx\n",
      "raw_data\\real_estate_201303.xlsx\n",
      "raw_data\\real_estate_201304.xlsx\n",
      "raw_data\\real_estate_201305.xlsx\n",
      "raw_data\\real_estate_201306.xlsx\n",
      "raw_data\\real_estate_201307.xlsx\n",
      "raw_data\\real_estate_201308.xlsx\n",
      "raw_data\\real_estate_201309.xlsx\n",
      "raw_data\\real_estate_201310.xlsx\n",
      "raw_data\\real_estate_201311.xlsx\n",
      "raw_data\\real_estate_201312.xlsx\n",
      "raw_data\\real_estate_201401.xlsx\n",
      "raw_data\\real_estate_201402.xlsx\n",
      "raw_data\\real_estate_201403.xlsx\n",
      "raw_data\\real_estate_201404.xlsx\n",
      "raw_data\\real_estate_201405.xlsx\n",
      "raw_data\\real_estate_201406.xlsx\n",
      "raw_data\\real_estate_201407.xlsx\n",
      "raw_data\\real_estate_201408.xlsx\n",
      "raw_data\\real_estate_201409.xlsx\n",
      "raw_data\\real_estate_201410.xlsx\n",
      "raw_data\\real_estate_201411.xlsx\n",
      "raw_data\\real_estate_201412.xlsx\n",
      "raw_data\\real_estate_201501.xlsx\n",
      "raw_data\\real_estate_201502.xlsx\n",
      "raw_data\\real_estate_201503.xlsx\n",
      "raw_data\\real_estate_201504.xlsx\n",
      "raw_data\\real_estate_201505.xlsx\n",
      "raw_data\\real_estate_201506.xlsx\n",
      "raw_data\\real_estate_201507.xlsx\n",
      "raw_data\\real_estate_201508.xlsx\n",
      "raw_data\\real_estate_201509.xlsx\n",
      "raw_data\\real_estate_201510.xlsx\n",
      "raw_data\\real_estate_201511.xlsx\n",
      "raw_data\\real_estate_201512.xlsx\n"
     ]
    }
   ],
   "source": [
    "# read all real estate data files in excel and combine into one data frame\n",
    "# we print out the file names to check progress\n",
    "temp_estate = []\n",
    "for estate_file in estate_files:\n",
    "    temp_estate.append(pd.read_excel(estate_file))\n",
    "    print(estate_file)\n",
    "df_estate = pd.concat(temp_estate)        "
   ]
  },
  {
   "cell_type": "code",
   "execution_count": 9,
   "metadata": {
    "collapsed": true
   },
   "outputs": [],
   "source": [
    "# reindex to give unique row id's\n",
    "df_estate.reset_index(drop=True, inplace=True)"
   ]
  },
  {
   "cell_type": "code",
   "execution_count": 12,
   "metadata": {
    "collapsed": false
   },
   "outputs": [],
   "source": [
    "# export to csv for later use\n",
    "# note that csv is much faster to process\n",
    "df_estate.to_csv(path + '01_estate_export.csv', encoding='utf-8')"
   ]
  }
 ],
 "metadata": {
  "kernelspec": {
   "display_name": "Python 2",
   "language": "python",
   "name": "python2"
  },
  "language_info": {
   "codemirror_mode": {
    "name": "ipython",
    "version": 2
   },
   "file_extension": ".py",
   "mimetype": "text/x-python",
   "name": "python",
   "nbconvert_exporter": "python",
   "pygments_lexer": "ipython2",
   "version": "2.7.13"
  }
 },
 "nbformat": 4,
 "nbformat_minor": 2
}
